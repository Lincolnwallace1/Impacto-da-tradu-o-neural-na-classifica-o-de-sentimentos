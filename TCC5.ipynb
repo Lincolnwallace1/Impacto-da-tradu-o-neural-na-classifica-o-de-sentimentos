{
  "cells": [
    {
      "cell_type": "code",
      "source": [
        "!pip3 install emoji"
      ],
      "metadata": {
        "colab": {
          "base_uri": "https://localhost:8080/"
        },
        "id": "tL13Y8bUn3pR",
        "outputId": "6ce948c8-78e6-4a10-9159-96be3c2cc8e7"
      },
      "id": "tL13Y8bUn3pR",
      "execution_count": 7,
      "outputs": [
        {
          "output_type": "stream",
          "name": "stdout",
          "text": [
            "Collecting emoji\n",
            "  Downloading emoji-1.7.0.tar.gz (175 kB)\n",
            "\u001b[?25l\r\u001b[K     |█▉                              | 10 kB 27.9 MB/s eta 0:00:01\r\u001b[K     |███▊                            | 20 kB 34.1 MB/s eta 0:00:01\r\u001b[K     |█████▋                          | 30 kB 37.5 MB/s eta 0:00:01\r\u001b[K     |███████▌                        | 40 kB 15.6 MB/s eta 0:00:01\r\u001b[K     |█████████▍                      | 51 kB 13.8 MB/s eta 0:00:01\r\u001b[K     |███████████▏                    | 61 kB 16.2 MB/s eta 0:00:01\r\u001b[K     |█████████████                   | 71 kB 15.0 MB/s eta 0:00:01\r\u001b[K     |███████████████                 | 81 kB 12.8 MB/s eta 0:00:01\r\u001b[K     |████████████████▉               | 92 kB 14.1 MB/s eta 0:00:01\r\u001b[K     |██████████████████▊             | 102 kB 14.8 MB/s eta 0:00:01\r\u001b[K     |████████████████████▌           | 112 kB 14.8 MB/s eta 0:00:01\r\u001b[K     |██████████████████████▍         | 122 kB 14.8 MB/s eta 0:00:01\r\u001b[K     |████████████████████████▎       | 133 kB 14.8 MB/s eta 0:00:01\r\u001b[K     |██████████████████████████▏     | 143 kB 14.8 MB/s eta 0:00:01\r\u001b[K     |████████████████████████████    | 153 kB 14.8 MB/s eta 0:00:01\r\u001b[K     |█████████████████████████████▉  | 163 kB 14.8 MB/s eta 0:00:01\r\u001b[K     |███████████████████████████████▊| 174 kB 14.8 MB/s eta 0:00:01\r\u001b[K     |████████████████████████████████| 175 kB 14.8 MB/s \n",
            "\u001b[?25hBuilding wheels for collected packages: emoji\n",
            "  Building wheel for emoji (setup.py) ... \u001b[?25l\u001b[?25hdone\n",
            "  Created wheel for emoji: filename=emoji-1.7.0-py3-none-any.whl size=171046 sha256=1cc8ed63ef054c31fc08323af6fba522527d298a9b0ce3030c5fa58764e313b6\n",
            "  Stored in directory: /root/.cache/pip/wheels/8a/4e/b6/57b01db010d17ef6ea9b40300af725ef3e210cb1acfb7ac8b6\n",
            "Successfully built emoji\n",
            "Installing collected packages: emoji\n",
            "Successfully installed emoji-1.7.0\n"
          ]
        }
      ]
    },
    {
      "cell_type": "code",
      "execution_count": 8,
      "id": "8a75f0f1",
      "metadata": {
        "colab": {
          "base_uri": "https://localhost:8080/"
        },
        "id": "8a75f0f1",
        "outputId": "45dba826-3952-4b66-a7cf-4917cbd77cb5"
      },
      "outputs": [
        {
          "output_type": "stream",
          "name": "stdout",
          "text": [
            "[nltk_data] Downloading package stopwords to /root/nltk_data...\n",
            "[nltk_data]   Package stopwords is already up-to-date!\n",
            "[nltk_data] Downloading package wordnet to /root/nltk_data...\n",
            "[nltk_data]   Package wordnet is already up-to-date!\n"
          ]
        },
        {
          "output_type": "execute_result",
          "data": {
            "text/plain": [
              "True"
            ]
          },
          "metadata": {},
          "execution_count": 8
        }
      ],
      "source": [
        "import tensorflow as tf\n",
        "import pandas as pd\n",
        "import numpy as np\n",
        "from transformers import AutoTokenizer, AutoModelForSeq2SeqLM, pipeline\n",
        "from sklearn.feature_extraction.text import CountVectorizer\n",
        "from sklearn.feature_extraction.text import TfidfTransformer\n",
        "import re\n",
        "from nltk import word_tokenize, RegexpTokenizer\n",
        "from nltk.corpus import stopwords, wordnet\n",
        "import nltk\n",
        "from sklearn.model_selection import train_test_split\n",
        "nltk.download('stopwords')\n",
        "nltk.download('wordnet')\n",
        "# import dl_translate as dlt"
      ]
    },
    {
      "cell_type": "code",
      "execution_count": 9,
      "id": "1cb363ec",
      "metadata": {
        "colab": {
          "base_uri": "https://localhost:8080/"
        },
        "id": "1cb363ec",
        "outputId": "f9fb6e74-1b58-4c1c-bf6f-c66f980a3636"
      },
      "outputs": [
        {
          "output_type": "stream",
          "name": "stderr",
          "text": [
            "All model checkpoint layers were used when initializing TFRobertaForSequenceClassification.\n",
            "\n",
            "All the layers of TFRobertaForSequenceClassification were initialized from the model checkpoint at rabindralamsal/BERTsent.\n",
            "If your task is similar to the task the model of the checkpoint was trained on, you can already use TFRobertaForSequenceClassification for predictions without further training.\n"
          ]
        }
      ],
      "source": [
        "from transformers import AutoTokenizer, TFAutoModelForSequenceClassification\n",
        "  \n",
        "tokenizerR = AutoTokenizer.from_pretrained(\"rabindralamsal/BERTsent\")\n",
        "\n",
        "modelR = TFAutoModelForSequenceClassification.from_pretrained(\"rabindralamsal/BERTsent\")"
      ]
    },
    {
      "cell_type": "code",
      "execution_count": null,
      "id": "9e150b35",
      "metadata": {
        "colab": {
          "base_uri": "https://localhost:8080/"
        },
        "id": "9e150b35",
        "outputId": "99851f72-e279-42ab-c8de-3b560e0bd0fe"
      },
      "outputs": [
        {
          "output_type": "stream",
          "name": "stderr",
          "text": [
            "No model was supplied, defaulted to distilbert-base-uncased-finetuned-sst-2-english (https://huggingface.co/distilbert-base-uncased-finetuned-sst-2-english)\n"
          ]
        },
        {
          "output_type": "execute_result",
          "data": {
            "text/plain": [
              "[{'label': 'POSITIVE', 'score': 0.999840259552002}]"
            ]
          },
          "metadata": {},
          "execution_count": 5
        }
      ],
      "source": [
        "classifier = pipeline(\"sentiment-analysis\")\n",
        "classifier(\"I loved Star Wars so much!\")"
      ]
    },
    {
      "cell_type": "code",
      "execution_count": null,
      "id": "a1a60eb5",
      "metadata": {
        "id": "a1a60eb5"
      },
      "outputs": [],
      "source": [
        "# tokenizer = AutoTokenizer.from_pretrained(\"unicamp-dl/translation-pt-en-t5\")\n",
        "# model = AutoModelForSeq2SeqLM.from_pretrained(\"unicamp-dl/translation-pt-en-t5\")\n",
        "# pten_pipeline = pipeline('text2text-generation', model=model, tokenizer=tokenizer)\n",
        "# mt = dlt.TranslationModel()  # Slow when you load it for the first time"
      ]
    },
    {
      "cell_type": "code",
      "execution_count": 10,
      "id": "adff6713",
      "metadata": {
        "colab": {
          "base_uri": "https://localhost:8080/"
        },
        "id": "adff6713",
        "outputId": "8edf2a1c-7c76-44a2-8e0b-3eb463e032f9"
      },
      "outputs": [
        {
          "output_type": "stream",
          "name": "stdout",
          "text": [
            "[[0.97267216 0.02368472 0.00364307]]\n",
            "0\n"
          ]
        }
      ],
      "source": [
        "example_tweet = \"The NEET exams show our Govt in a poor light: unresponsiveness to genuine concerns; admit cards not delivered to aspirants in time; failure to provide centres in towns they reside, thus requiring unnecessary & risky travels. What a disgrace to treat our #Covid warriors like this!\"\n",
        "#this tweet resides on Twitter with an identifier-1435793872588738560\n",
        "    \n",
        "input = tokenizerR.encode(example_tweet, return_tensors=\"tf\")\n",
        "output = modelR.predict(input)[0]\n",
        "prediction = tf.nn.softmax(output, axis=1).numpy()\n",
        "sentiment = np.argmax(prediction)\n",
        "    \n",
        "print(prediction)\n",
        "print(sentiment)"
      ]
    },
    {
      "cell_type": "code",
      "execution_count": 50,
      "id": "fc8b5727",
      "metadata": {
        "id": "fc8b5727"
      },
      "outputs": [],
      "source": [
        "df_portuguese = pd.read_csv(\"./export_TweetSentBR.csv\")\n",
        "# df_english = pd.read_csv(\"datasets/export_TweetSentEnglish.csv\")\n",
        "# dataset = pd.read_csv(\"./datasetcompleto.csv\")\n",
        "completo = pd.read_csv(\"./TweetCompleto11k.csv\")"
      ]
    },
    {
      "cell_type": "code",
      "execution_count": 51,
      "id": "d7e3ee3e",
      "metadata": {
        "id": "d7e3ee3e"
      },
      "outputs": [],
      "source": [
        "completo.drop(columns = ['Unnamed: 0'], inplace = True)"
      ]
    },
    {
      "cell_type": "code",
      "execution_count": null,
      "id": "f796c964",
      "metadata": {
        "id": "f796c964"
      },
      "outputs": [],
      "source": [
        "completo['tweets_translater_unicamp'] = completo['tweets_translater_unicamp'].replace('','')\n",
        "completo['tweets_translater_face'] = completo['tweets_translater_face'].replace('\"','')"
      ]
    },
    {
      "cell_type": "code",
      "execution_count": 57,
      "id": "7441e9e7",
      "metadata": {
        "colab": {
          "base_uri": "https://localhost:8080/",
          "height": 424
        },
        "id": "7441e9e7",
        "outputId": "2e476c3c-bd6a-4ca2-905f-efd77aaf87be"
      },
      "outputs": [
        {
          "output_type": "execute_result",
          "data": {
            "text/plain": [
              "                                                    text  sentiment\n",
              "0      Que coisa linda! O Programa #encontro estava m...          1\n",
              "1      Por mais #Encontro com as Irmãs Galvão, adorei...          1\n",
              "2      Mr. CATRA  lançando sua nova música PPK CHORA ...          1\n",
              "3      quem viu aquela lutadora modela barbuda tatuad...          0\n",
              "4      Tô passada com esse cara.... quanta merda pode...         -1\n",
              "...                                                  ...        ...\n",
              "11522  a animação da filha da vanessa da mata é de se...          1\n",
              "11523  eu ja to aqui pronto pro #MasterChefBR mas ain...         -1\n",
              "11524  MALUCO! Uma coisa que eu não tenho coragem é e...         -1\n",
              "11525                            #MaisVoce   está linda           1\n",
              "11526                     Que orgulho de ti, ! #Encontro          1\n",
              "\n",
              "[11527 rows x 2 columns]"
            ],
            "text/html": [
              "\n",
              "  <div id=\"df-47b0c3b6-500c-44e7-ba32-c1f8ebac2555\">\n",
              "    <div class=\"colab-df-container\">\n",
              "      <div>\n",
              "<style scoped>\n",
              "    .dataframe tbody tr th:only-of-type {\n",
              "        vertical-align: middle;\n",
              "    }\n",
              "\n",
              "    .dataframe tbody tr th {\n",
              "        vertical-align: top;\n",
              "    }\n",
              "\n",
              "    .dataframe thead th {\n",
              "        text-align: right;\n",
              "    }\n",
              "</style>\n",
              "<table border=\"1\" class=\"dataframe\">\n",
              "  <thead>\n",
              "    <tr style=\"text-align: right;\">\n",
              "      <th></th>\n",
              "      <th>text</th>\n",
              "      <th>sentiment</th>\n",
              "    </tr>\n",
              "  </thead>\n",
              "  <tbody>\n",
              "    <tr>\n",
              "      <th>0</th>\n",
              "      <td>Que coisa linda! O Programa #encontro estava m...</td>\n",
              "      <td>1</td>\n",
              "    </tr>\n",
              "    <tr>\n",
              "      <th>1</th>\n",
              "      <td>Por mais #Encontro com as Irmãs Galvão, adorei...</td>\n",
              "      <td>1</td>\n",
              "    </tr>\n",
              "    <tr>\n",
              "      <th>2</th>\n",
              "      <td>Mr. CATRA  lançando sua nova música PPK CHORA ...</td>\n",
              "      <td>1</td>\n",
              "    </tr>\n",
              "    <tr>\n",
              "      <th>3</th>\n",
              "      <td>quem viu aquela lutadora modela barbuda tatuad...</td>\n",
              "      <td>0</td>\n",
              "    </tr>\n",
              "    <tr>\n",
              "      <th>4</th>\n",
              "      <td>Tô passada com esse cara.... quanta merda pode...</td>\n",
              "      <td>-1</td>\n",
              "    </tr>\n",
              "    <tr>\n",
              "      <th>...</th>\n",
              "      <td>...</td>\n",
              "      <td>...</td>\n",
              "    </tr>\n",
              "    <tr>\n",
              "      <th>11522</th>\n",
              "      <td>a animação da filha da vanessa da mata é de se...</td>\n",
              "      <td>1</td>\n",
              "    </tr>\n",
              "    <tr>\n",
              "      <th>11523</th>\n",
              "      <td>eu ja to aqui pronto pro #MasterChefBR mas ain...</td>\n",
              "      <td>-1</td>\n",
              "    </tr>\n",
              "    <tr>\n",
              "      <th>11524</th>\n",
              "      <td>MALUCO! Uma coisa que eu não tenho coragem é e...</td>\n",
              "      <td>-1</td>\n",
              "    </tr>\n",
              "    <tr>\n",
              "      <th>11525</th>\n",
              "      <td>#MaisVoce   está linda</td>\n",
              "      <td>1</td>\n",
              "    </tr>\n",
              "    <tr>\n",
              "      <th>11526</th>\n",
              "      <td>Que orgulho de ti, ! #Encontro</td>\n",
              "      <td>1</td>\n",
              "    </tr>\n",
              "  </tbody>\n",
              "</table>\n",
              "<p>11527 rows × 2 columns</p>\n",
              "</div>\n",
              "      <button class=\"colab-df-convert\" onclick=\"convertToInteractive('df-47b0c3b6-500c-44e7-ba32-c1f8ebac2555')\"\n",
              "              title=\"Convert this dataframe to an interactive table.\"\n",
              "              style=\"display:none;\">\n",
              "        \n",
              "  <svg xmlns=\"http://www.w3.org/2000/svg\" height=\"24px\"viewBox=\"0 0 24 24\"\n",
              "       width=\"24px\">\n",
              "    <path d=\"M0 0h24v24H0V0z\" fill=\"none\"/>\n",
              "    <path d=\"M18.56 5.44l.94 2.06.94-2.06 2.06-.94-2.06-.94-.94-2.06-.94 2.06-2.06.94zm-11 1L8.5 8.5l.94-2.06 2.06-.94-2.06-.94L8.5 2.5l-.94 2.06-2.06.94zm10 10l.94 2.06.94-2.06 2.06-.94-2.06-.94-.94-2.06-.94 2.06-2.06.94z\"/><path d=\"M17.41 7.96l-1.37-1.37c-.4-.4-.92-.59-1.43-.59-.52 0-1.04.2-1.43.59L10.3 9.45l-7.72 7.72c-.78.78-.78 2.05 0 2.83L4 21.41c.39.39.9.59 1.41.59.51 0 1.02-.2 1.41-.59l7.78-7.78 2.81-2.81c.8-.78.8-2.07 0-2.86zM5.41 20L4 18.59l7.72-7.72 1.47 1.35L5.41 20z\"/>\n",
              "  </svg>\n",
              "      </button>\n",
              "      \n",
              "  <style>\n",
              "    .colab-df-container {\n",
              "      display:flex;\n",
              "      flex-wrap:wrap;\n",
              "      gap: 12px;\n",
              "    }\n",
              "\n",
              "    .colab-df-convert {\n",
              "      background-color: #E8F0FE;\n",
              "      border: none;\n",
              "      border-radius: 50%;\n",
              "      cursor: pointer;\n",
              "      display: none;\n",
              "      fill: #1967D2;\n",
              "      height: 32px;\n",
              "      padding: 0 0 0 0;\n",
              "      width: 32px;\n",
              "    }\n",
              "\n",
              "    .colab-df-convert:hover {\n",
              "      background-color: #E2EBFA;\n",
              "      box-shadow: 0px 1px 2px rgba(60, 64, 67, 0.3), 0px 1px 3px 1px rgba(60, 64, 67, 0.15);\n",
              "      fill: #174EA6;\n",
              "    }\n",
              "\n",
              "    [theme=dark] .colab-df-convert {\n",
              "      background-color: #3B4455;\n",
              "      fill: #D2E3FC;\n",
              "    }\n",
              "\n",
              "    [theme=dark] .colab-df-convert:hover {\n",
              "      background-color: #434B5C;\n",
              "      box-shadow: 0px 1px 3px 1px rgba(0, 0, 0, 0.15);\n",
              "      filter: drop-shadow(0px 1px 2px rgba(0, 0, 0, 0.3));\n",
              "      fill: #FFFFFF;\n",
              "    }\n",
              "  </style>\n",
              "\n",
              "      <script>\n",
              "        const buttonEl =\n",
              "          document.querySelector('#df-47b0c3b6-500c-44e7-ba32-c1f8ebac2555 button.colab-df-convert');\n",
              "        buttonEl.style.display =\n",
              "          google.colab.kernel.accessAllowed ? 'block' : 'none';\n",
              "\n",
              "        async function convertToInteractive(key) {\n",
              "          const element = document.querySelector('#df-47b0c3b6-500c-44e7-ba32-c1f8ebac2555');\n",
              "          const dataTable =\n",
              "            await google.colab.kernel.invokeFunction('convertToInteractive',\n",
              "                                                     [key], {});\n",
              "          if (!dataTable) return;\n",
              "\n",
              "          const docLinkHtml = 'Like what you see? Visit the ' +\n",
              "            '<a target=\"_blank\" href=https://colab.research.google.com/notebooks/data_table.ipynb>data table notebook</a>'\n",
              "            + ' to learn more about interactive tables.';\n",
              "          element.innerHTML = '';\n",
              "          dataTable['output_type'] = 'display_data';\n",
              "          await google.colab.output.renderOutput(dataTable, element);\n",
              "          const docLink = document.createElement('div');\n",
              "          docLink.innerHTML = docLinkHtml;\n",
              "          element.appendChild(docLink);\n",
              "        }\n",
              "      </script>\n",
              "    </div>\n",
              "  </div>\n",
              "  "
            ]
          },
          "metadata": {},
          "execution_count": 57
        }
      ],
      "source": [
        "df_portuguese"
      ]
    },
    {
      "cell_type": "code",
      "execution_count": 53,
      "id": "861c2ed8",
      "metadata": {
        "id": "861c2ed8"
      },
      "outputs": [],
      "source": [
        "df_remove = df_portuguese[df_portuguese['sentiment'] == '-']\n",
        "df_portuguese = df_portuguese.drop(df_remove.index)\n",
        "df_portuguese = df_portuguese.reset_index()\n",
        "df_portuguese = df_portuguese.drop(columns=['index'])\n",
        "df_portuguese['sentiment'] = df_portuguese['sentiment'].apply(lambda x: int(x))\n",
        "Tweet = df_portuguese['text']\n",
        "polarity = np.asarray(df_portuguese['sentiment'])"
      ]
    },
    {
      "cell_type": "code",
      "execution_count": 54,
      "id": "0f6db168",
      "metadata": {
        "id": "0f6db168"
      },
      "outputs": [],
      "source": [
        "df_portuguese['text'] = df_portuguese['text'].apply(remove_user)\n",
        "df_portuguese.drop(columns = ['id', 'id_twitter'], inplace = True)"
      ]
    },
    {
      "cell_type": "code",
      "source": [
        "df_portuguese.drop(index = 11527, inplace = True )"
      ],
      "metadata": {
        "id": "yrpep2Zb0672"
      },
      "id": "yrpep2Zb0672",
      "execution_count": 56,
      "outputs": []
    },
    {
      "cell_type": "code",
      "execution_count": 22,
      "id": "1f21fc34",
      "metadata": {
        "colab": {
          "base_uri": "https://localhost:8080/",
          "height": 424
        },
        "id": "1f21fc34",
        "outputId": "46fbe341-ca4b-44db-9b1a-cbecd5a9677f"
      },
      "outputs": [
        {
          "output_type": "execute_result",
          "data": {
            "text/plain": [
              "                                         tweets_original  \\\n",
              "0      Que coisa linda! O Programa #encontro estava m...   \n",
              "1      Por mais #Encontro com as Irmãs Galvão, adorei...   \n",
              "2      Mr. CATRA  lançando sua nova música PPK CHORA ...   \n",
              "3      quem viu aquela lutadora modela barbuda tatuad...   \n",
              "4      Tô passada com esse cara.... quanta merda pode...   \n",
              "...                                                  ...   \n",
              "11506  a animação da filha da vanessa da mata é de se...   \n",
              "11507  eu ja to aqui pronto pro #MasterChefBR mas ain...   \n",
              "11508  MALUCO! Uma coisa que eu não tenho coragem é e...   \n",
              "11509                            #MaisVoce   está linda    \n",
              "11510                     Que orgulho de ti, ! #Encontro   \n",
              "\n",
              "                               tweets_translater_unicamp  \\\n",
              "0      The #encontro Program was showing a family tha...   \n",
              "1                                          I loved them.   \n",
              "2            CATRA launching its new song PPK CHORA no k   \n",
              "3                                          #MasterChefBR   \n",
              "4                  I'm handled with this guy.... how mu\"   \n",
              "...                                                  ...   \n",
              "11506  The animation of the daughter of vanessa da ma...   \n",
              "11507      I'm already here ready for #MasterChefBR but\"   \n",
              "11508        One thing I don't have the courage is this\"   \n",
              "11509            #By You are beautiful #ByYou are beauti   \n",
              "11510                    What pride of you,! #I meet you   \n",
              "\n",
              "                                  tweets_translater_face  \n",
              "0      What a beautiful thing! The #touch program was...  \n",
              "1      For more I met with the Galvan Sisters, I love...  \n",
              "2      Mr. CATRA releases his new song PPK CHORA on k...  \n",
              "3      Who saw that fighter model tattooed? #MasterCh...  \n",
              "4      How much shit can come out of someone’s mouth ...  \n",
              "...                                                  ...  \n",
              "11506  The animation of the daughter of the vanessa o...  \n",
              "11507  I'm ready to go here for #MasterChefBR but I'm...  \n",
              "11508  One thing I don’t have the courage is that nor...  \n",
              "11509                             #MaisVoce is beautiful  \n",
              "11510                           I am proud of you! #Meet  \n",
              "\n",
              "[11511 rows x 3 columns]"
            ],
            "text/html": [
              "\n",
              "  <div id=\"df-4942a0b5-3a50-4723-a261-c6d88babeeba\">\n",
              "    <div class=\"colab-df-container\">\n",
              "      <div>\n",
              "<style scoped>\n",
              "    .dataframe tbody tr th:only-of-type {\n",
              "        vertical-align: middle;\n",
              "    }\n",
              "\n",
              "    .dataframe tbody tr th {\n",
              "        vertical-align: top;\n",
              "    }\n",
              "\n",
              "    .dataframe thead th {\n",
              "        text-align: right;\n",
              "    }\n",
              "</style>\n",
              "<table border=\"1\" class=\"dataframe\">\n",
              "  <thead>\n",
              "    <tr style=\"text-align: right;\">\n",
              "      <th></th>\n",
              "      <th>tweets_original</th>\n",
              "      <th>tweets_translater_unicamp</th>\n",
              "      <th>tweets_translater_face</th>\n",
              "    </tr>\n",
              "  </thead>\n",
              "  <tbody>\n",
              "    <tr>\n",
              "      <th>0</th>\n",
              "      <td>Que coisa linda! O Programa #encontro estava m...</td>\n",
              "      <td>The #encontro Program was showing a family tha...</td>\n",
              "      <td>What a beautiful thing! The #touch program was...</td>\n",
              "    </tr>\n",
              "    <tr>\n",
              "      <th>1</th>\n",
              "      <td>Por mais #Encontro com as Irmãs Galvão, adorei...</td>\n",
              "      <td>I loved them.</td>\n",
              "      <td>For more I met with the Galvan Sisters, I love...</td>\n",
              "    </tr>\n",
              "    <tr>\n",
              "      <th>2</th>\n",
              "      <td>Mr. CATRA  lançando sua nova música PPK CHORA ...</td>\n",
              "      <td>CATRA launching its new song PPK CHORA no k</td>\n",
              "      <td>Mr. CATRA releases his new song PPK CHORA on k...</td>\n",
              "    </tr>\n",
              "    <tr>\n",
              "      <th>3</th>\n",
              "      <td>quem viu aquela lutadora modela barbuda tatuad...</td>\n",
              "      <td>#MasterChefBR</td>\n",
              "      <td>Who saw that fighter model tattooed? #MasterCh...</td>\n",
              "    </tr>\n",
              "    <tr>\n",
              "      <th>4</th>\n",
              "      <td>Tô passada com esse cara.... quanta merda pode...</td>\n",
              "      <td>I'm handled with this guy.... how mu\"</td>\n",
              "      <td>How much shit can come out of someone’s mouth ...</td>\n",
              "    </tr>\n",
              "    <tr>\n",
              "      <th>...</th>\n",
              "      <td>...</td>\n",
              "      <td>...</td>\n",
              "      <td>...</td>\n",
              "    </tr>\n",
              "    <tr>\n",
              "      <th>11506</th>\n",
              "      <td>a animação da filha da vanessa da mata é de se...</td>\n",
              "      <td>The animation of the daughter of vanessa da ma...</td>\n",
              "      <td>The animation of the daughter of the vanessa o...</td>\n",
              "    </tr>\n",
              "    <tr>\n",
              "      <th>11507</th>\n",
              "      <td>eu ja to aqui pronto pro #MasterChefBR mas ain...</td>\n",
              "      <td>I'm already here ready for #MasterChefBR but\"</td>\n",
              "      <td>I'm ready to go here for #MasterChefBR but I'm...</td>\n",
              "    </tr>\n",
              "    <tr>\n",
              "      <th>11508</th>\n",
              "      <td>MALUCO! Uma coisa que eu não tenho coragem é e...</td>\n",
              "      <td>One thing I don't have the courage is this\"</td>\n",
              "      <td>One thing I don’t have the courage is that nor...</td>\n",
              "    </tr>\n",
              "    <tr>\n",
              "      <th>11509</th>\n",
              "      <td>#MaisVoce   está linda</td>\n",
              "      <td>#By You are beautiful #ByYou are beauti</td>\n",
              "      <td>#MaisVoce is beautiful</td>\n",
              "    </tr>\n",
              "    <tr>\n",
              "      <th>11510</th>\n",
              "      <td>Que orgulho de ti, ! #Encontro</td>\n",
              "      <td>What pride of you,! #I meet you</td>\n",
              "      <td>I am proud of you! #Meet</td>\n",
              "    </tr>\n",
              "  </tbody>\n",
              "</table>\n",
              "<p>11511 rows × 3 columns</p>\n",
              "</div>\n",
              "      <button class=\"colab-df-convert\" onclick=\"convertToInteractive('df-4942a0b5-3a50-4723-a261-c6d88babeeba')\"\n",
              "              title=\"Convert this dataframe to an interactive table.\"\n",
              "              style=\"display:none;\">\n",
              "        \n",
              "  <svg xmlns=\"http://www.w3.org/2000/svg\" height=\"24px\"viewBox=\"0 0 24 24\"\n",
              "       width=\"24px\">\n",
              "    <path d=\"M0 0h24v24H0V0z\" fill=\"none\"/>\n",
              "    <path d=\"M18.56 5.44l.94 2.06.94-2.06 2.06-.94-2.06-.94-.94-2.06-.94 2.06-2.06.94zm-11 1L8.5 8.5l.94-2.06 2.06-.94-2.06-.94L8.5 2.5l-.94 2.06-2.06.94zm10 10l.94 2.06.94-2.06 2.06-.94-2.06-.94-.94-2.06-.94 2.06-2.06.94z\"/><path d=\"M17.41 7.96l-1.37-1.37c-.4-.4-.92-.59-1.43-.59-.52 0-1.04.2-1.43.59L10.3 9.45l-7.72 7.72c-.78.78-.78 2.05 0 2.83L4 21.41c.39.39.9.59 1.41.59.51 0 1.02-.2 1.41-.59l7.78-7.78 2.81-2.81c.8-.78.8-2.07 0-2.86zM5.41 20L4 18.59l7.72-7.72 1.47 1.35L5.41 20z\"/>\n",
              "  </svg>\n",
              "      </button>\n",
              "      \n",
              "  <style>\n",
              "    .colab-df-container {\n",
              "      display:flex;\n",
              "      flex-wrap:wrap;\n",
              "      gap: 12px;\n",
              "    }\n",
              "\n",
              "    .colab-df-convert {\n",
              "      background-color: #E8F0FE;\n",
              "      border: none;\n",
              "      border-radius: 50%;\n",
              "      cursor: pointer;\n",
              "      display: none;\n",
              "      fill: #1967D2;\n",
              "      height: 32px;\n",
              "      padding: 0 0 0 0;\n",
              "      width: 32px;\n",
              "    }\n",
              "\n",
              "    .colab-df-convert:hover {\n",
              "      background-color: #E2EBFA;\n",
              "      box-shadow: 0px 1px 2px rgba(60, 64, 67, 0.3), 0px 1px 3px 1px rgba(60, 64, 67, 0.15);\n",
              "      fill: #174EA6;\n",
              "    }\n",
              "\n",
              "    [theme=dark] .colab-df-convert {\n",
              "      background-color: #3B4455;\n",
              "      fill: #D2E3FC;\n",
              "    }\n",
              "\n",
              "    [theme=dark] .colab-df-convert:hover {\n",
              "      background-color: #434B5C;\n",
              "      box-shadow: 0px 1px 3px 1px rgba(0, 0, 0, 0.15);\n",
              "      filter: drop-shadow(0px 1px 2px rgba(0, 0, 0, 0.3));\n",
              "      fill: #FFFFFF;\n",
              "    }\n",
              "  </style>\n",
              "\n",
              "      <script>\n",
              "        const buttonEl =\n",
              "          document.querySelector('#df-4942a0b5-3a50-4723-a261-c6d88babeeba button.colab-df-convert');\n",
              "        buttonEl.style.display =\n",
              "          google.colab.kernel.accessAllowed ? 'block' : 'none';\n",
              "\n",
              "        async function convertToInteractive(key) {\n",
              "          const element = document.querySelector('#df-4942a0b5-3a50-4723-a261-c6d88babeeba');\n",
              "          const dataTable =\n",
              "            await google.colab.kernel.invokeFunction('convertToInteractive',\n",
              "                                                     [key], {});\n",
              "          if (!dataTable) return;\n",
              "\n",
              "          const docLinkHtml = 'Like what you see? Visit the ' +\n",
              "            '<a target=\"_blank\" href=https://colab.research.google.com/notebooks/data_table.ipynb>data table notebook</a>'\n",
              "            + ' to learn more about interactive tables.';\n",
              "          element.innerHTML = '';\n",
              "          dataTable['output_type'] = 'display_data';\n",
              "          await google.colab.output.renderOutput(dataTable, element);\n",
              "          const docLink = document.createElement('div');\n",
              "          docLink.innerHTML = docLinkHtml;\n",
              "          element.appendChild(docLink);\n",
              "        }\n",
              "      </script>\n",
              "    </div>\n",
              "  </div>\n",
              "  "
            ]
          },
          "metadata": {},
          "execution_count": 22
        }
      ],
      "source": [
        "completo.drop()"
      ]
    },
    {
      "cell_type": "code",
      "source": [
        "completo['polaridade'] = df_portuguese['sentiment']"
      ],
      "metadata": {
        "id": "mr4So6N8vsT0"
      },
      "id": "mr4So6N8vsT0",
      "execution_count": 58,
      "outputs": []
    },
    {
      "cell_type": "code",
      "source": [
        "completo.to_csv('datasetcompolaridade.csv')"
      ],
      "metadata": {
        "id": "gv10Fv4F7HbJ"
      },
      "id": "gv10Fv4F7HbJ",
      "execution_count": 61,
      "outputs": []
    },
    {
      "cell_type": "code",
      "execution_count": 62,
      "id": "17e17894",
      "metadata": {
        "id": "17e17894"
      },
      "outputs": [],
      "source": [
        "completo = completo.dropna().reset_index().drop(columns = ['index'])"
      ]
    },
    {
      "cell_type": "code",
      "execution_count": 19,
      "id": "16a2bd12",
      "metadata": {
        "id": "16a2bd12"
      },
      "outputs": [],
      "source": [
        "def pre_X(frases):\n",
        "    lista = []\n",
        "    \n",
        "    for frase in frases:\n",
        "        lista.append(frase)\n",
        "        \n",
        "    return lista\n",
        "\n",
        "def pre_Y(number):\n",
        "    lista = []\n",
        "    \n",
        "    for numb in number:\n",
        "        lista.append(numb)\n",
        "    \n",
        "    return lista\n"
      ]
    },
    {
      "cell_type": "code",
      "execution_count": 65,
      "id": "719331ae",
      "metadata": {
        "id": "719331ae"
      },
      "outputs": [],
      "source": [
        "def set_array(frases):\n",
        "    \n",
        "    vocab = []\n",
        "    palavras = []\n",
        "    for frase in frases:\n",
        "        \n",
        "        text_array = remove_user(frase)\n",
        "        text_array = Tokenize(text_array)\n",
        "        text_array = text_array.split(' ')\n",
        "        for i in range(len(text_array)):\n",
        "            vocab.append(text_array[i])\n",
        "    \n",
        "    \n",
        "        \n",
        "    return vocab\n",
        "\n",
        "def Tokenize(f):     ## Pre-processando a frase\n",
        "    \n",
        "    ## Colocando em minusculo\n",
        "    ## Retirando a pontuaçao\n",
        "    ## Retirando as StopWords\n",
        "    \n",
        "    f = f.lower().replace('\\n', '').replace('-','').replace('#','').replace('.','').replace(',','').replace('!','').replace('r\\n','').replace('  ','')\n",
        "    token = RegexpTokenizer(r\"\\w+\")\n",
        "    f = token.tokenize(f)\n",
        "    \n",
        "    stop_words = set(stopwords.words('portuguese'))\n",
        "    \n",
        "    new_word = [word for word in f if not word in stop_words]\n",
        "    \n",
        "    return ' '.join(new_word)\n",
        "\n",
        "def remove_user(frase):\n",
        "\n",
        "    return re.sub('@\\w+','',frase)\n",
        "\n",
        "def translater_phrases(frase):\n",
        "    translater = pten_pipeline(frase)\n",
        "    translater = str(translater).strip('[{}]')\n",
        "    translater = translater[19:]\n",
        "    translater = translater.strip(\"''\")\n",
        "    \n",
        "    return translater\n",
        "\n",
        "def translater_frases(frase):\n",
        "    text_hi = frase\n",
        "    translater = mt.translate(text_hi, source=dlt.lang.PORTUGUESE, target=dlt.lang.ENGLISH)\n",
        "    \n",
        "    return translater\n",
        "\n",
        "def new_classifier(frase):\n",
        "    input = tokenizerR.encode(frase, return_tensors=\"tf\")\n",
        "    output = modelR.predict(input)[0]\n",
        "    prediction = tf.nn.softmax(output, axis=1).numpy()\n",
        "    sentiment = np.argmax(prediction)\n",
        "    \n",
        "    return sentiment \n"
      ]
    },
    {
      "cell_type": "code",
      "execution_count": null,
      "id": "3b0fb0bd",
      "metadata": {
        "id": "3b0fb0bd",
        "outputId": "bd62769e-90a5-4740-ffff-9bfff78d0b86"
      },
      "outputs": [
        {
          "ename": "NameError",
          "evalue": "name 'Tweet' is not defined",
          "output_type": "error",
          "traceback": [
            "\u001b[1;31m---------------------------------------------------------------------------\u001b[0m",
            "\u001b[1;31mNameError\u001b[0m                                 Traceback (most recent call last)",
            "Input \u001b[1;32mIn [21]\u001b[0m, in \u001b[0;36m<module>\u001b[1;34m\u001b[0m\n\u001b[1;32m----> 1\u001b[0m Tweet \u001b[38;5;241m=\u001b[39m \u001b[43mTweet\u001b[49m\u001b[38;5;241m.\u001b[39mapply(remove_user)\n",
            "\u001b[1;31mNameError\u001b[0m: name 'Tweet' is not defined"
          ]
        }
      ],
      "source": [
        "Tweet = Tweet.apply(remove_user)\n",
        "# Tweet_preprocessed = Tweet.apply(Tokenize)\n",
        "\n",
        "# count_vect = CountVectorizer()\n",
        "# X_train = count_vect.fit_transform(Tweet_preprocessed)\n",
        "\n",
        "# tfidf_transformer = TfidfTransformer()\n",
        "# X_train_transform = tfidf_transformer.fit_transform(X_train) # Aplicando o TF-IDF\n",
        "\n",
        "\n",
        "# X_train, X_test, Y_train, Y_test = train_test_split(X_train_transform, polarity, test_size=0.3)"
      ]
    },
    {
      "cell_type": "code",
      "execution_count": null,
      "id": "1fd9cef9",
      "metadata": {
        "id": "1fd9cef9"
      },
      "outputs": [],
      "source": [
        "classificacoes = pd.DataFrame(data = {'origem_portugues': df_portuguese['sentiment'], \n",
        "                                      'classificação_hug_com_unicamp_translater': completo['tweets_translater_unicamp'].apply(classifier),\n",
        "                                      'classificação_rabin_com_unicamp_translater': completo['tweets_translater_unicamp'].apply(new_classifier),\n",
        "                                      'classificação_hug_com_face_translater': completo['tweets_translater_face'].apply(classifier)})"
      ]
    },
    {
      "cell_type": "code",
      "source": [
        "classificacao = pd.DataFrame( data = { 'classificação_rabin_face_translater': completo['tweets_translater_face'].apply(new_classifier)})"
      ],
      "metadata": {
        "id": "Wl-tKYXZ-Tbl"
      },
      "id": "Wl-tKYXZ-Tbl",
      "execution_count": 66,
      "outputs": []
    },
    {
      "cell_type": "code",
      "source": [
        "classificacao"
      ],
      "metadata": {
        "colab": {
          "base_uri": "https://localhost:8080/",
          "height": 424
        },
        "id": "TwuAGo_g_I2L",
        "outputId": "fe5fb4f1-d7f8-4ea9-c619-97f72787aacb"
      },
      "id": "TwuAGo_g_I2L",
      "execution_count": null,
      "outputs": [
        {
          "output_type": "execute_result",
          "data": {
            "text/plain": [
              "       classificação_rabin_face_translater\n",
              "0                                        1\n",
              "1                                        1\n",
              "2                                        0\n",
              "3                                        0\n",
              "4                                       -1\n",
              "...                                    ...\n",
              "11506                                    0\n",
              "11507                                   -1\n",
              "11508                                   -1\n",
              "11509                                    1\n",
              "11510                                    1\n",
              "\n",
              "[11511 rows x 1 columns]"
            ],
            "text/html": [
              "\n",
              "  <div id=\"df-c3e407e4-2592-40eb-ac9b-9f075a93922a\">\n",
              "    <div class=\"colab-df-container\">\n",
              "      <div>\n",
              "<style scoped>\n",
              "    .dataframe tbody tr th:only-of-type {\n",
              "        vertical-align: middle;\n",
              "    }\n",
              "\n",
              "    .dataframe tbody tr th {\n",
              "        vertical-align: top;\n",
              "    }\n",
              "\n",
              "    .dataframe thead th {\n",
              "        text-align: right;\n",
              "    }\n",
              "</style>\n",
              "<table border=\"1\" class=\"dataframe\">\n",
              "  <thead>\n",
              "    <tr style=\"text-align: right;\">\n",
              "      <th></th>\n",
              "      <th>classificação_rabin_face_translater</th>\n",
              "    </tr>\n",
              "  </thead>\n",
              "  <tbody>\n",
              "    <tr>\n",
              "      <th>0</th>\n",
              "      <td>1</td>\n",
              "    </tr>\n",
              "    <tr>\n",
              "      <th>1</th>\n",
              "      <td>1</td>\n",
              "    </tr>\n",
              "    <tr>\n",
              "      <th>2</th>\n",
              "      <td>0</td>\n",
              "    </tr>\n",
              "    <tr>\n",
              "      <th>3</th>\n",
              "      <td>0</td>\n",
              "    </tr>\n",
              "    <tr>\n",
              "      <th>4</th>\n",
              "      <td>-1</td>\n",
              "    </tr>\n",
              "    <tr>\n",
              "      <th>...</th>\n",
              "      <td>...</td>\n",
              "    </tr>\n",
              "    <tr>\n",
              "      <th>11506</th>\n",
              "      <td>0</td>\n",
              "    </tr>\n",
              "    <tr>\n",
              "      <th>11507</th>\n",
              "      <td>-1</td>\n",
              "    </tr>\n",
              "    <tr>\n",
              "      <th>11508</th>\n",
              "      <td>-1</td>\n",
              "    </tr>\n",
              "    <tr>\n",
              "      <th>11509</th>\n",
              "      <td>1</td>\n",
              "    </tr>\n",
              "    <tr>\n",
              "      <th>11510</th>\n",
              "      <td>1</td>\n",
              "    </tr>\n",
              "  </tbody>\n",
              "</table>\n",
              "<p>11511 rows × 1 columns</p>\n",
              "</div>\n",
              "      <button class=\"colab-df-convert\" onclick=\"convertToInteractive('df-c3e407e4-2592-40eb-ac9b-9f075a93922a')\"\n",
              "              title=\"Convert this dataframe to an interactive table.\"\n",
              "              style=\"display:none;\">\n",
              "        \n",
              "  <svg xmlns=\"http://www.w3.org/2000/svg\" height=\"24px\"viewBox=\"0 0 24 24\"\n",
              "       width=\"24px\">\n",
              "    <path d=\"M0 0h24v24H0V0z\" fill=\"none\"/>\n",
              "    <path d=\"M18.56 5.44l.94 2.06.94-2.06 2.06-.94-2.06-.94-.94-2.06-.94 2.06-2.06.94zm-11 1L8.5 8.5l.94-2.06 2.06-.94-2.06-.94L8.5 2.5l-.94 2.06-2.06.94zm10 10l.94 2.06.94-2.06 2.06-.94-2.06-.94-.94-2.06-.94 2.06-2.06.94z\"/><path d=\"M17.41 7.96l-1.37-1.37c-.4-.4-.92-.59-1.43-.59-.52 0-1.04.2-1.43.59L10.3 9.45l-7.72 7.72c-.78.78-.78 2.05 0 2.83L4 21.41c.39.39.9.59 1.41.59.51 0 1.02-.2 1.41-.59l7.78-7.78 2.81-2.81c.8-.78.8-2.07 0-2.86zM5.41 20L4 18.59l7.72-7.72 1.47 1.35L5.41 20z\"/>\n",
              "  </svg>\n",
              "      </button>\n",
              "      \n",
              "  <style>\n",
              "    .colab-df-container {\n",
              "      display:flex;\n",
              "      flex-wrap:wrap;\n",
              "      gap: 12px;\n",
              "    }\n",
              "\n",
              "    .colab-df-convert {\n",
              "      background-color: #E8F0FE;\n",
              "      border: none;\n",
              "      border-radius: 50%;\n",
              "      cursor: pointer;\n",
              "      display: none;\n",
              "      fill: #1967D2;\n",
              "      height: 32px;\n",
              "      padding: 0 0 0 0;\n",
              "      width: 32px;\n",
              "    }\n",
              "\n",
              "    .colab-df-convert:hover {\n",
              "      background-color: #E2EBFA;\n",
              "      box-shadow: 0px 1px 2px rgba(60, 64, 67, 0.3), 0px 1px 3px 1px rgba(60, 64, 67, 0.15);\n",
              "      fill: #174EA6;\n",
              "    }\n",
              "\n",
              "    [theme=dark] .colab-df-convert {\n",
              "      background-color: #3B4455;\n",
              "      fill: #D2E3FC;\n",
              "    }\n",
              "\n",
              "    [theme=dark] .colab-df-convert:hover {\n",
              "      background-color: #434B5C;\n",
              "      box-shadow: 0px 1px 3px 1px rgba(0, 0, 0, 0.15);\n",
              "      filter: drop-shadow(0px 1px 2px rgba(0, 0, 0, 0.3));\n",
              "      fill: #FFFFFF;\n",
              "    }\n",
              "  </style>\n",
              "\n",
              "      <script>\n",
              "        const buttonEl =\n",
              "          document.querySelector('#df-c3e407e4-2592-40eb-ac9b-9f075a93922a button.colab-df-convert');\n",
              "        buttonEl.style.display =\n",
              "          google.colab.kernel.accessAllowed ? 'block' : 'none';\n",
              "\n",
              "        async function convertToInteractive(key) {\n",
              "          const element = document.querySelector('#df-c3e407e4-2592-40eb-ac9b-9f075a93922a');\n",
              "          const dataTable =\n",
              "            await google.colab.kernel.invokeFunction('convertToInteractive',\n",
              "                                                     [key], {});\n",
              "          if (!dataTable) return;\n",
              "\n",
              "          const docLinkHtml = 'Like what you see? Visit the ' +\n",
              "            '<a target=\"_blank\" href=https://colab.research.google.com/notebooks/data_table.ipynb>data table notebook</a>'\n",
              "            + ' to learn more about interactive tables.';\n",
              "          element.innerHTML = '';\n",
              "          dataTable['output_type'] = 'display_data';\n",
              "          await google.colab.output.renderOutput(dataTable, element);\n",
              "          const docLink = document.createElement('div');\n",
              "          docLink.innerHTML = docLinkHtml;\n",
              "          element.appendChild(docLink);\n",
              "        }\n",
              "      </script>\n",
              "    </div>\n",
              "  </div>\n",
              "  "
            ]
          },
          "metadata": {},
          "execution_count": 23
        }
      ]
    },
    {
      "cell_type": "code",
      "execution_count": null,
      "id": "78693ef5",
      "metadata": {
        "id": "78693ef5"
      },
      "outputs": [],
      "source": [
        "classificacao['classificação_rabin_face_translater'] = classificacao['classificação_rabin_face_translater'].replace(0, -1).replace(1,0).replace(2,1)"
      ]
    },
    {
      "cell_type": "code",
      "execution_count": null,
      "id": "d386a654",
      "metadata": {
        "id": "d386a654"
      },
      "outputs": [],
      "source": [
        "classificacoes = classificacoes.dropna().reset_index().drop(columns = ['index'])"
      ]
    },
    {
      "cell_type": "code",
      "execution_count": null,
      "id": "aba0ae45",
      "metadata": {
        "id": "aba0ae45",
        "outputId": "75a65e1b-e2dd-43a4-9927-ae711b63e894"
      },
      "outputs": [
        {
          "data": {
            "text/html": [
              "<div>\n",
              "<style scoped>\n",
              "    .dataframe tbody tr th:only-of-type {\n",
              "        vertical-align: middle;\n",
              "    }\n",
              "\n",
              "    .dataframe tbody tr th {\n",
              "        vertical-align: top;\n",
              "    }\n",
              "\n",
              "    .dataframe thead th {\n",
              "        text-align: right;\n",
              "    }\n",
              "</style>\n",
              "<table border=\"1\" class=\"dataframe\">\n",
              "  <thead>\n",
              "    <tr style=\"text-align: right;\">\n",
              "      <th></th>\n",
              "      <th>origem_portugues</th>\n",
              "      <th>classificação_hug_com_unicamp_translater</th>\n",
              "      <th>classificação_rabin_com_unicamp_translater</th>\n",
              "      <th>classificação_hug_com_face_translater</th>\n",
              "    </tr>\n",
              "  </thead>\n",
              "  <tbody>\n",
              "    <tr>\n",
              "      <th>0</th>\n",
              "      <td>1</td>\n",
              "      <td>[{'label': 'NEGATIVE', 'score': 0.978637635707...</td>\n",
              "      <td>1.0</td>\n",
              "      <td>[{'label': 'POSITIVE', 'score': 0.999819815158...</td>\n",
              "    </tr>\n",
              "    <tr>\n",
              "      <th>1</th>\n",
              "      <td>1</td>\n",
              "      <td>[{'label': 'POSITIVE', 'score': 0.999877452850...</td>\n",
              "      <td>2.0</td>\n",
              "      <td>[{'label': 'POSITIVE', 'score': 0.999851465225...</td>\n",
              "    </tr>\n",
              "    <tr>\n",
              "      <th>2</th>\n",
              "      <td>1</td>\n",
              "      <td>[{'label': 'POSITIVE', 'score': 0.993814468383...</td>\n",
              "      <td>1.0</td>\n",
              "      <td>[{'label': 'NEGATIVE', 'score': 0.977949678897...</td>\n",
              "    </tr>\n",
              "    <tr>\n",
              "      <th>3</th>\n",
              "      <td>0</td>\n",
              "      <td>[{'label': 'POSITIVE', 'score': 0.983937680721...</td>\n",
              "      <td>1.0</td>\n",
              "      <td>[{'label': 'NEGATIVE', 'score': 0.994238138198...</td>\n",
              "    </tr>\n",
              "    <tr>\n",
              "      <th>4</th>\n",
              "      <td>-1</td>\n",
              "      <td>[{'label': 'NEGATIVE', 'score': 0.977942943572...</td>\n",
              "      <td>1.0</td>\n",
              "      <td>[{'label': 'NEGATIVE', 'score': 0.999268591403...</td>\n",
              "    </tr>\n",
              "    <tr>\n",
              "      <th>...</th>\n",
              "      <td>...</td>\n",
              "      <td>...</td>\n",
              "      <td>...</td>\n",
              "      <td>...</td>\n",
              "    </tr>\n",
              "    <tr>\n",
              "      <th>11511</th>\n",
              "      <td>0</td>\n",
              "      <td>[{'label': 'NEGATIVE', 'score': 0.854824185371...</td>\n",
              "      <td>1.0</td>\n",
              "      <td>[{'label': 'POSITIVE', 'score': 0.999161243438...</td>\n",
              "    </tr>\n",
              "    <tr>\n",
              "      <th>11512</th>\n",
              "      <td>-1</td>\n",
              "      <td>[{'label': 'NEGATIVE', 'score': 0.973548531532...</td>\n",
              "      <td>1.0</td>\n",
              "      <td>[{'label': 'NEGATIVE', 'score': 0.999184668064...</td>\n",
              "    </tr>\n",
              "    <tr>\n",
              "      <th>11513</th>\n",
              "      <td>1</td>\n",
              "      <td>[{'label': 'NEGATIVE', 'score': 0.999200165271...</td>\n",
              "      <td>0.0</td>\n",
              "      <td>[{'label': 'NEGATIVE', 'score': 0.998830497264...</td>\n",
              "    </tr>\n",
              "    <tr>\n",
              "      <th>11514</th>\n",
              "      <td>0</td>\n",
              "      <td>[{'label': 'POSITIVE', 'score': 0.999661445617...</td>\n",
              "      <td>2.0</td>\n",
              "      <td>[{'label': 'POSITIVE', 'score': 0.999835968017...</td>\n",
              "    </tr>\n",
              "    <tr>\n",
              "      <th>11515</th>\n",
              "      <td>-1</td>\n",
              "      <td>[{'label': 'POSITIVE', 'score': 0.999851465225...</td>\n",
              "      <td>2.0</td>\n",
              "      <td>[{'label': 'POSITIVE', 'score': 0.999861836433...</td>\n",
              "    </tr>\n",
              "  </tbody>\n",
              "</table>\n",
              "<p>11516 rows × 4 columns</p>\n",
              "</div>"
            ],
            "text/plain": [
              "       origem_portugues           classificação_hug_com_unicamp_translater  \\\n",
              "0                     1  [{'label': 'NEGATIVE', 'score': 0.978637635707...   \n",
              "1                     1  [{'label': 'POSITIVE', 'score': 0.999877452850...   \n",
              "2                     1  [{'label': 'POSITIVE', 'score': 0.993814468383...   \n",
              "3                     0  [{'label': 'POSITIVE', 'score': 0.983937680721...   \n",
              "4                    -1  [{'label': 'NEGATIVE', 'score': 0.977942943572...   \n",
              "...                 ...                                                ...   \n",
              "11511                 0  [{'label': 'NEGATIVE', 'score': 0.854824185371...   \n",
              "11512                -1  [{'label': 'NEGATIVE', 'score': 0.973548531532...   \n",
              "11513                 1  [{'label': 'NEGATIVE', 'score': 0.999200165271...   \n",
              "11514                 0  [{'label': 'POSITIVE', 'score': 0.999661445617...   \n",
              "11515                -1  [{'label': 'POSITIVE', 'score': 0.999851465225...   \n",
              "\n",
              "       classificação_rabin_com_unicamp_translater  \\\n",
              "0                                             1.0   \n",
              "1                                             2.0   \n",
              "2                                             1.0   \n",
              "3                                             1.0   \n",
              "4                                             1.0   \n",
              "...                                           ...   \n",
              "11511                                         1.0   \n",
              "11512                                         1.0   \n",
              "11513                                         0.0   \n",
              "11514                                         2.0   \n",
              "11515                                         2.0   \n",
              "\n",
              "                   classificação_hug_com_face_translater  \n",
              "0      [{'label': 'POSITIVE', 'score': 0.999819815158...  \n",
              "1      [{'label': 'POSITIVE', 'score': 0.999851465225...  \n",
              "2      [{'label': 'NEGATIVE', 'score': 0.977949678897...  \n",
              "3      [{'label': 'NEGATIVE', 'score': 0.994238138198...  \n",
              "4      [{'label': 'NEGATIVE', 'score': 0.999268591403...  \n",
              "...                                                  ...  \n",
              "11511  [{'label': 'POSITIVE', 'score': 0.999161243438...  \n",
              "11512  [{'label': 'NEGATIVE', 'score': 0.999184668064...  \n",
              "11513  [{'label': 'NEGATIVE', 'score': 0.998830497264...  \n",
              "11514  [{'label': 'POSITIVE', 'score': 0.999835968017...  \n",
              "11515  [{'label': 'POSITIVE', 'score': 0.999861836433...  \n",
              "\n",
              "[11516 rows x 4 columns]"
            ]
          },
          "execution_count": 40,
          "metadata": {},
          "output_type": "execute_result"
        }
      ],
      "source": [
        "classificacoes"
      ]
    },
    {
      "cell_type": "code",
      "execution_count": null,
      "id": "ea0eb708",
      "metadata": {
        "id": "ea0eb708"
      },
      "outputs": [],
      "source": [
        "classificacoes['classificação_hug_com_unicamp_translater'] = classificacoes['classificação_hug_com_unicamp_translater'].apply(lambda x: x[0]['label'])\n",
        "classificacoes['classificação_hug_com_face_translater'] = classificacoes['classificação_hug_com_face_translater'].apply(lambda x: x[0]['label'])"
      ]
    },
    {
      "cell_type": "code",
      "execution_count": null,
      "id": "a7da1f7d",
      "metadata": {
        "id": "a7da1f7d"
      },
      "outputs": [],
      "source": [
        "classificacoes['classificação_hug_com_unicamp_translater'] = classificacoes['classificação_hug_com_unicamp_translater'].replace('POSITIVE', 1).replace('NEGATIVE',-1)\n",
        "classificacoes['classificação_hug_com_face_translater'] = classificacoes['classificação_hug_com_face_translater'].replace('POSITIVE', 1).replace('NEGATIVE',-1)"
      ]
    },
    {
      "cell_type": "code",
      "execution_count": null,
      "id": "1b2284de",
      "metadata": {
        "id": "1b2284de"
      },
      "outputs": [],
      "source": [
        "classificacoes['classificação_rabin_com_unicamp_translater'] = classificacoes['classificação_rabin_com_unicamp_translater'].replace(0, -1).replace(1,0).replace(2,1)\n",
        "# classificacoes['classificação_rabin_face'] = classificacoes['classificação_rabin_face'].replace(0, -1).replace(1,0).replace(2,1)"
      ]
    },
    {
      "cell_type": "code",
      "execution_count": null,
      "id": "2a0bfc72",
      "metadata": {
        "id": "2a0bfc72",
        "outputId": "3ea6675a-059d-48a5-fe7d-e6076d81c698"
      },
      "outputs": [
        {
          "data": {
            "text/html": [
              "<div>\n",
              "<style scoped>\n",
              "    .dataframe tbody tr th:only-of-type {\n",
              "        vertical-align: middle;\n",
              "    }\n",
              "\n",
              "    .dataframe tbody tr th {\n",
              "        vertical-align: top;\n",
              "    }\n",
              "\n",
              "    .dataframe thead th {\n",
              "        text-align: right;\n",
              "    }\n",
              "</style>\n",
              "<table border=\"1\" class=\"dataframe\">\n",
              "  <thead>\n",
              "    <tr style=\"text-align: right;\">\n",
              "      <th></th>\n",
              "      <th>origem_portugues</th>\n",
              "      <th>classificação_hug_com_unicamp_translater</th>\n",
              "      <th>classificação_rabin_com_unicamp_translater</th>\n",
              "      <th>classificação_hug_com_face_translater</th>\n",
              "    </tr>\n",
              "  </thead>\n",
              "  <tbody>\n",
              "    <tr>\n",
              "      <th>0</th>\n",
              "      <td>1</td>\n",
              "      <td>-1</td>\n",
              "      <td>0.0</td>\n",
              "      <td>1</td>\n",
              "    </tr>\n",
              "    <tr>\n",
              "      <th>1</th>\n",
              "      <td>1</td>\n",
              "      <td>1</td>\n",
              "      <td>1.0</td>\n",
              "      <td>1</td>\n",
              "    </tr>\n",
              "    <tr>\n",
              "      <th>2</th>\n",
              "      <td>1</td>\n",
              "      <td>1</td>\n",
              "      <td>0.0</td>\n",
              "      <td>-1</td>\n",
              "    </tr>\n",
              "    <tr>\n",
              "      <th>3</th>\n",
              "      <td>0</td>\n",
              "      <td>1</td>\n",
              "      <td>0.0</td>\n",
              "      <td>-1</td>\n",
              "    </tr>\n",
              "    <tr>\n",
              "      <th>4</th>\n",
              "      <td>-1</td>\n",
              "      <td>-1</td>\n",
              "      <td>0.0</td>\n",
              "      <td>-1</td>\n",
              "    </tr>\n",
              "    <tr>\n",
              "      <th>...</th>\n",
              "      <td>...</td>\n",
              "      <td>...</td>\n",
              "      <td>...</td>\n",
              "      <td>...</td>\n",
              "    </tr>\n",
              "    <tr>\n",
              "      <th>11511</th>\n",
              "      <td>0</td>\n",
              "      <td>-1</td>\n",
              "      <td>0.0</td>\n",
              "      <td>1</td>\n",
              "    </tr>\n",
              "    <tr>\n",
              "      <th>11512</th>\n",
              "      <td>-1</td>\n",
              "      <td>-1</td>\n",
              "      <td>0.0</td>\n",
              "      <td>-1</td>\n",
              "    </tr>\n",
              "    <tr>\n",
              "      <th>11513</th>\n",
              "      <td>1</td>\n",
              "      <td>-1</td>\n",
              "      <td>-1.0</td>\n",
              "      <td>-1</td>\n",
              "    </tr>\n",
              "    <tr>\n",
              "      <th>11514</th>\n",
              "      <td>0</td>\n",
              "      <td>1</td>\n",
              "      <td>1.0</td>\n",
              "      <td>1</td>\n",
              "    </tr>\n",
              "    <tr>\n",
              "      <th>11515</th>\n",
              "      <td>-1</td>\n",
              "      <td>1</td>\n",
              "      <td>1.0</td>\n",
              "      <td>1</td>\n",
              "    </tr>\n",
              "  </tbody>\n",
              "</table>\n",
              "<p>11516 rows × 4 columns</p>\n",
              "</div>"
            ],
            "text/plain": [
              "       origem_portugues  classificação_hug_com_unicamp_translater  \\\n",
              "0                     1                                        -1   \n",
              "1                     1                                         1   \n",
              "2                     1                                         1   \n",
              "3                     0                                         1   \n",
              "4                    -1                                        -1   \n",
              "...                 ...                                       ...   \n",
              "11511                 0                                        -1   \n",
              "11512                -1                                        -1   \n",
              "11513                 1                                        -1   \n",
              "11514                 0                                         1   \n",
              "11515                -1                                         1   \n",
              "\n",
              "       classificação_rabin_com_unicamp_translater  \\\n",
              "0                                             0.0   \n",
              "1                                             1.0   \n",
              "2                                             0.0   \n",
              "3                                             0.0   \n",
              "4                                             0.0   \n",
              "...                                           ...   \n",
              "11511                                         0.0   \n",
              "11512                                         0.0   \n",
              "11513                                        -1.0   \n",
              "11514                                         1.0   \n",
              "11515                                         1.0   \n",
              "\n",
              "       classificação_hug_com_face_translater  \n",
              "0                                          1  \n",
              "1                                          1  \n",
              "2                                         -1  \n",
              "3                                         -1  \n",
              "4                                         -1  \n",
              "...                                      ...  \n",
              "11511                                      1  \n",
              "11512                                     -1  \n",
              "11513                                     -1  \n",
              "11514                                      1  \n",
              "11515                                      1  \n",
              "\n",
              "[11516 rows x 4 columns]"
            ]
          },
          "execution_count": 47,
          "metadata": {},
          "output_type": "execute_result"
        }
      ],
      "source": [
        "classificacoes"
      ]
    },
    {
      "cell_type": "markdown",
      "id": "655aa45e",
      "metadata": {
        "id": "655aa45e"
      },
      "source": [
        "## Acuracia da origem com classificador do huggingface e traduzido com o tradutor da unicamp"
      ]
    },
    {
      "cell_type": "code",
      "execution_count": 67,
      "id": "fafae750",
      "metadata": {
        "id": "fafae750",
        "outputId": "01a85b0e-e628-4eec-ecda-7f1f3912f926",
        "colab": {
          "base_uri": "https://localhost:8080/"
        }
      },
      "outputs": [
        {
          "output_type": "execute_result",
          "data": {
            "text/plain": [
              "0.20623751194509599"
            ]
          },
          "metadata": {},
          "execution_count": 67
        }
      ],
      "source": [
        "soma = 0\n",
        "for i in range (len(completo)):\n",
        "      if(int(completo['polaridade'][i]) == int(classificacao['classificação_rabin_face_translater'][i])):\n",
        "        soma+=1\n",
        "\n",
        "soma/len(classificacao)"
      ]
    },
    {
      "cell_type": "markdown",
      "id": "8680efd9",
      "metadata": {
        "id": "8680efd9"
      },
      "source": [
        "## Acuracia da origem com classificador do rabin e traduzido com o tradutor da unicamp"
      ]
    },
    {
      "cell_type": "code",
      "execution_count": null,
      "id": "c28cf363",
      "metadata": {
        "id": "c28cf363",
        "outputId": "4e5d034c-92e6-49f3-994e-b513d94fdcb7"
      },
      "outputs": [
        {
          "data": {
            "text/plain": [
              "0.3109586662035429"
            ]
          },
          "execution_count": 49,
          "metadata": {},
          "output_type": "execute_result"
        }
      ],
      "source": [
        "soma = 0\n",
        "for i in range (len(classificacoes)):\n",
        "    if(int(classificacoes['origem_portugues'][i]) == int(classificacoes['classificação_rabin_com_unicamp_translater'][i])):\n",
        "        soma+=1\n",
        "\n",
        "soma/len(classificacoes)"
      ]
    },
    {
      "cell_type": "markdown",
      "id": "e5041356",
      "metadata": {
        "id": "e5041356"
      },
      "source": [
        "## Acuracia da origem com classificador do huggingface e traduzido com o tradutor da m2m100 ou face"
      ]
    },
    {
      "cell_type": "code",
      "execution_count": null,
      "id": "483493dc",
      "metadata": {
        "id": "483493dc",
        "outputId": "af2382f4-46ee-4c90-df5c-0cdd003ad1f7"
      },
      "outputs": [
        {
          "data": {
            "text/plain": [
              "0.37816950329975685"
            ]
          },
          "execution_count": 50,
          "metadata": {},
          "output_type": "execute_result"
        }
      ],
      "source": [
        "soma = 0\n",
        "for i in range (len(classificacoes)):\n",
        "    if(int(classificacoes['origem_portugues'][i]) == int(classificacoes['classificação_hug_com_face_translater'][i])):\n",
        "        soma+=1\n",
        "\n",
        "soma/len(classificacoes)"
      ]
    },
    {
      "cell_type": "markdown",
      "id": "08ba6a2a",
      "metadata": {
        "id": "08ba6a2a"
      },
      "source": [
        "## Acuracia da origem com classificador do rabin e traduzido com o tradutor da m2m100 ou face"
      ]
    },
    {
      "cell_type": "code",
      "execution_count": null,
      "id": "76830d7c",
      "metadata": {
        "id": "76830d7c",
        "outputId": "8e51d542-e9b7-4bb9-e971-25716d12451a"
      },
      "outputs": [
        {
          "data": {
            "text/plain": [
              "0.65"
            ]
          },
          "execution_count": 94,
          "metadata": {},
          "output_type": "execute_result"
        }
      ],
      "source": [
        "soma = 0\n",
        "for i in range (len(classificacoes)):\n",
        "    if(int(classificacoes['origem_portugues'][i]) == int(classificacoes['classificação_rabin_face'][i])):\n",
        "        soma+=1\n",
        "\n",
        "soma/len(classificacoes)"
      ]
    },
    {
      "cell_type": "code",
      "execution_count": null,
      "id": "18ec282b",
      "metadata": {
        "id": "18ec282b"
      },
      "outputs": [],
      "source": [
        ""
      ]
    }
  ],
  "metadata": {
    "kernelspec": {
      "display_name": "Python 3 (ipykernel)",
      "language": "python",
      "name": "python3"
    },
    "language_info": {
      "codemirror_mode": {
        "name": "ipython",
        "version": 3
      },
      "file_extension": ".py",
      "mimetype": "text/x-python",
      "name": "python",
      "nbconvert_exporter": "python",
      "pygments_lexer": "ipython3",
      "version": "3.9.1"
    },
    "colab": {
      "name": "TCC5.ipynb",
      "provenance": [],
      "collapsed_sections": [
        "e5041356",
        "08ba6a2a"
      ]
    }
  },
  "nbformat": 4,
  "nbformat_minor": 5
}