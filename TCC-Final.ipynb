{
 "cells": [
  {
   "attachments": {},
   "cell_type": "markdown",
   "metadata": {},
   "source": [
    "# Implementação dos experimentos para Trabalho de Conclusão de Curso \n",
    "## Análise de Sentimentos: Impacto da Tradução Neural na Avaliação de Desempenho\n",
    "### Autoria: Lincoln Wallace Valentim da Costa Silva\n",
    "### Orientador: Yuri de Almeida Malheiros Barbosa"
   ]
  },
  {
   "cell_type": "markdown",
   "metadata": {},
   "source": [
    "Importação das biblotecas:"
   ]
  },
  {
   "cell_type": "code",
   "execution_count": 1,
   "metadata": {},
   "outputs": [
    {
     "name": "stdout",
     "output_type": "stream",
     "text": [
      "Requirement already satisfied: transformers in /home/lincoln81/.local/lib/python3.8/site-packages (4.32.1)\n",
      "Requirement already satisfied: tqdm>=4.27 in /home/lincoln81/.local/lib/python3.8/site-packages (from transformers) (4.66.1)\n",
      "Requirement already satisfied: safetensors>=0.3.1 in /home/lincoln81/.local/lib/python3.8/site-packages (from transformers) (0.3.2)\n",
      "Requirement already satisfied: tokenizers!=0.11.3,<0.14,>=0.11.1 in /home/lincoln81/.local/lib/python3.8/site-packages (from transformers) (0.12.1)\n",
      "Requirement already satisfied: huggingface-hub<1.0,>=0.15.1 in /home/lincoln81/.local/lib/python3.8/site-packages (from transformers) (0.16.4)\n",
      "Requirement already satisfied: regex!=2019.12.17 in /home/lincoln81/.local/lib/python3.8/site-packages (from transformers) (2023.8.8)\n",
      "Requirement already satisfied: requests in /usr/lib/python3/dist-packages (from transformers) (2.22.0)\n",
      "Requirement already satisfied: packaging>=20.0 in /home/lincoln81/.local/lib/python3.8/site-packages (from transformers) (23.1)\n",
      "Requirement already satisfied: pyyaml>=5.1 in /usr/lib/python3/dist-packages (from transformers) (5.3.1)\n",
      "Requirement already satisfied: filelock in /home/lincoln81/.local/lib/python3.8/site-packages (from transformers) (3.12.2)\n",
      "Requirement already satisfied: numpy>=1.17 in /home/lincoln81/.local/lib/python3.8/site-packages (from transformers) (1.24.3)\n",
      "Requirement already satisfied: fsspec in /home/lincoln81/.local/lib/python3.8/site-packages (from huggingface-hub<1.0,>=0.15.1->transformers) (2023.6.0)\n",
      "Requirement already satisfied: typing-extensions>=3.7.4.3 in /home/lincoln81/.local/lib/python3.8/site-packages (from huggingface-hub<1.0,>=0.15.1->transformers) (4.5.0)\n",
      "Requirement already satisfied: dl-translate in /home/lincoln81/.local/lib/python3.8/site-packages (0.3.0)\n",
      "Requirement already satisfied: protobuf in /home/lincoln81/.local/lib/python3.8/site-packages (from dl-translate) (4.24.0)\n",
      "Requirement already satisfied: transformers>=4.30.2 in /home/lincoln81/.local/lib/python3.8/site-packages (from dl-translate) (4.32.1)\n",
      "Requirement already satisfied: tqdm in /home/lincoln81/.local/lib/python3.8/site-packages (from dl-translate) (4.66.1)\n",
      "Requirement already satisfied: torch>=2.0.0 in /home/lincoln81/.local/lib/python3.8/site-packages (from dl-translate) (2.0.1)\n",
      "Requirement already satisfied: sentencepiece in /home/lincoln81/.local/lib/python3.8/site-packages (from dl-translate) (0.1.99)\n",
      "Requirement already satisfied: pyyaml>=5.1 in /usr/lib/python3/dist-packages (from transformers>=4.30.2->dl-translate) (5.3.1)\n",
      "Requirement already satisfied: huggingface-hub<1.0,>=0.15.1 in /home/lincoln81/.local/lib/python3.8/site-packages (from transformers>=4.30.2->dl-translate) (0.16.4)\n",
      "Requirement already satisfied: packaging>=20.0 in /home/lincoln81/.local/lib/python3.8/site-packages (from transformers>=4.30.2->dl-translate) (23.1)\n",
      "Requirement already satisfied: requests in /usr/lib/python3/dist-packages (from transformers>=4.30.2->dl-translate) (2.22.0)\n",
      "Requirement already satisfied: regex!=2019.12.17 in /home/lincoln81/.local/lib/python3.8/site-packages (from transformers>=4.30.2->dl-translate) (2023.8.8)\n",
      "Requirement already satisfied: safetensors>=0.3.1 in /home/lincoln81/.local/lib/python3.8/site-packages (from transformers>=4.30.2->dl-translate) (0.3.2)\n",
      "Requirement already satisfied: tokenizers!=0.11.3,<0.14,>=0.11.1 in /home/lincoln81/.local/lib/python3.8/site-packages (from transformers>=4.30.2->dl-translate) (0.12.1)\n",
      "Requirement already satisfied: numpy>=1.17 in /home/lincoln81/.local/lib/python3.8/site-packages (from transformers>=4.30.2->dl-translate) (1.24.3)\n",
      "Requirement already satisfied: filelock in /home/lincoln81/.local/lib/python3.8/site-packages (from transformers>=4.30.2->dl-translate) (3.12.2)\n",
      "Requirement already satisfied: nvidia-nvtx-cu11==11.7.91; platform_system == \"Linux\" and platform_machine == \"x86_64\" in /home/lincoln81/.local/lib/python3.8/site-packages (from torch>=2.0.0->dl-translate) (11.7.91)\n",
      "Requirement already satisfied: nvidia-cusparse-cu11==11.7.4.91; platform_system == \"Linux\" and platform_machine == \"x86_64\" in /home/lincoln81/.local/lib/python3.8/site-packages (from torch>=2.0.0->dl-translate) (11.7.4.91)\n",
      "Requirement already satisfied: triton==2.0.0; platform_system == \"Linux\" and platform_machine == \"x86_64\" in /home/lincoln81/.local/lib/python3.8/site-packages (from torch>=2.0.0->dl-translate) (2.0.0)\n",
      "Requirement already satisfied: nvidia-cublas-cu11==11.10.3.66; platform_system == \"Linux\" and platform_machine == \"x86_64\" in /home/lincoln81/.local/lib/python3.8/site-packages (from torch>=2.0.0->dl-translate) (11.10.3.66)\n",
      "Requirement already satisfied: nvidia-nccl-cu11==2.14.3; platform_system == \"Linux\" and platform_machine == \"x86_64\" in /home/lincoln81/.local/lib/python3.8/site-packages (from torch>=2.0.0->dl-translate) (2.14.3)\n",
      "Requirement already satisfied: jinja2 in /usr/lib/python3/dist-packages (from torch>=2.0.0->dl-translate) (2.10.1)\n",
      "Requirement already satisfied: nvidia-cuda-runtime-cu11==11.7.99; platform_system == \"Linux\" and platform_machine == \"x86_64\" in /home/lincoln81/.local/lib/python3.8/site-packages (from torch>=2.0.0->dl-translate) (11.7.99)\n",
      "Requirement already satisfied: nvidia-cudnn-cu11==8.5.0.96; platform_system == \"Linux\" and platform_machine == \"x86_64\" in /home/lincoln81/.local/lib/python3.8/site-packages (from torch>=2.0.0->dl-translate) (8.5.0.96)\n",
      "Requirement already satisfied: nvidia-cufft-cu11==10.9.0.58; platform_system == \"Linux\" and platform_machine == \"x86_64\" in /home/lincoln81/.local/lib/python3.8/site-packages (from torch>=2.0.0->dl-translate) (10.9.0.58)\n",
      "Requirement already satisfied: nvidia-cuda-cupti-cu11==11.7.101; platform_system == \"Linux\" and platform_machine == \"x86_64\" in /home/lincoln81/.local/lib/python3.8/site-packages (from torch>=2.0.0->dl-translate) (11.7.101)\n",
      "Requirement already satisfied: networkx in /home/lincoln81/.local/lib/python3.8/site-packages (from torch>=2.0.0->dl-translate) (3.1)\n",
      "Requirement already satisfied: typing-extensions in /home/lincoln81/.local/lib/python3.8/site-packages (from torch>=2.0.0->dl-translate) (4.5.0)\n",
      "Requirement already satisfied: nvidia-curand-cu11==10.2.10.91; platform_system == \"Linux\" and platform_machine == \"x86_64\" in /home/lincoln81/.local/lib/python3.8/site-packages (from torch>=2.0.0->dl-translate) (10.2.10.91)\n",
      "Requirement already satisfied: nvidia-cuda-nvrtc-cu11==11.7.99; platform_system == \"Linux\" and platform_machine == \"x86_64\" in /home/lincoln81/.local/lib/python3.8/site-packages (from torch>=2.0.0->dl-translate) (11.7.99)\n",
      "Requirement already satisfied: sympy in /home/lincoln81/.local/lib/python3.8/site-packages (from torch>=2.0.0->dl-translate) (1.12)\n",
      "Requirement already satisfied: nvidia-cusolver-cu11==11.4.0.1; platform_system == \"Linux\" and platform_machine == \"x86_64\" in /home/lincoln81/.local/lib/python3.8/site-packages (from torch>=2.0.0->dl-translate) (11.4.0.1)\n",
      "Requirement already satisfied: fsspec in /home/lincoln81/.local/lib/python3.8/site-packages (from huggingface-hub<1.0,>=0.15.1->transformers>=4.30.2->dl-translate) (2023.6.0)\n",
      "Requirement already satisfied: wheel in /usr/lib/python3/dist-packages (from nvidia-nvtx-cu11==11.7.91; platform_system == \"Linux\" and platform_machine == \"x86_64\"->torch>=2.0.0->dl-translate) (0.34.2)\n",
      "Requirement already satisfied: setuptools in /usr/lib/python3/dist-packages (from nvidia-nvtx-cu11==11.7.91; platform_system == \"Linux\" and platform_machine == \"x86_64\"->torch>=2.0.0->dl-translate) (45.2.0)\n",
      "Requirement already satisfied: lit in /home/lincoln81/.local/lib/python3.8/site-packages (from triton==2.0.0; platform_system == \"Linux\" and platform_machine == \"x86_64\"->torch>=2.0.0->dl-translate) (16.0.6)\n",
      "Requirement already satisfied: cmake in /home/lincoln81/.local/lib/python3.8/site-packages (from triton==2.0.0; platform_system == \"Linux\" and platform_machine == \"x86_64\"->torch>=2.0.0->dl-translate) (3.27.1)\n",
      "Requirement already satisfied: mpmath>=0.19 in /home/lincoln81/.local/lib/python3.8/site-packages (from sympy->torch>=2.0.0->dl-translate) (1.3.0)\n",
      "Requirement already satisfied: emoji in /home/lincoln81/.local/lib/python3.8/site-packages (2.7.0)\n",
      "Requirement already satisfied: tensorflow in /home/lincoln81/.local/lib/python3.8/site-packages (2.13.0)\n",
      "Requirement already satisfied: six>=1.12.0 in /usr/lib/python3/dist-packages (from tensorflow) (1.14.0)\n",
      "Requirement already satisfied: libclang>=13.0.0 in /home/lincoln81/.local/lib/python3.8/site-packages (from tensorflow) (16.0.6)\n",
      "Requirement already satisfied: termcolor>=1.1.0 in /home/lincoln81/.local/lib/python3.8/site-packages (from tensorflow) (2.3.0)\n",
      "Requirement already satisfied: typing-extensions<4.6.0,>=3.6.6 in /home/lincoln81/.local/lib/python3.8/site-packages (from tensorflow) (4.5.0)\n",
      "Requirement already satisfied: keras<2.14,>=2.13.1 in /home/lincoln81/.local/lib/python3.8/site-packages (from tensorflow) (2.13.1)\n",
      "Requirement already satisfied: wrapt>=1.11.0 in /home/lincoln81/.local/lib/python3.8/site-packages (from tensorflow) (1.15.0)\n",
      "Requirement already satisfied: astunparse>=1.6.0 in /home/lincoln81/.local/lib/python3.8/site-packages (from tensorflow) (1.6.3)\n",
      "Requirement already satisfied: google-pasta>=0.1.1 in /home/lincoln81/.local/lib/python3.8/site-packages (from tensorflow) (0.2.0)\n",
      "Requirement already satisfied: gast<=0.4.0,>=0.2.1 in /home/lincoln81/.local/lib/python3.8/site-packages (from tensorflow) (0.4.0)\n",
      "Requirement already satisfied: absl-py>=1.0.0 in /home/lincoln81/.local/lib/python3.8/site-packages (from tensorflow) (1.4.0)\n",
      "Requirement already satisfied: grpcio<2.0,>=1.24.3 in /home/lincoln81/.local/lib/python3.8/site-packages (from tensorflow) (1.57.0)\n",
      "Requirement already satisfied: h5py>=2.9.0 in /home/lincoln81/.local/lib/python3.8/site-packages (from tensorflow) (3.9.0)\n",
      "Requirement already satisfied: tensorflow-estimator<2.14,>=2.13.0 in /home/lincoln81/.local/lib/python3.8/site-packages (from tensorflow) (2.13.0)\n",
      "Requirement already satisfied: setuptools in /usr/lib/python3/dist-packages (from tensorflow) (45.2.0)\n",
      "Requirement already satisfied: numpy<=1.24.3,>=1.22 in /home/lincoln81/.local/lib/python3.8/site-packages (from tensorflow) (1.24.3)\n",
      "Requirement already satisfied: packaging in /home/lincoln81/.local/lib/python3.8/site-packages (from tensorflow) (23.1)\n",
      "Requirement already satisfied: opt-einsum>=2.3.2 in /home/lincoln81/.local/lib/python3.8/site-packages (from tensorflow) (3.3.0)\n",
      "Requirement already satisfied: tensorflow-io-gcs-filesystem>=0.23.1; platform_machine != \"arm64\" or platform_system != \"Darwin\" in /home/lincoln81/.local/lib/python3.8/site-packages (from tensorflow) (0.33.0)\n",
      "Requirement already satisfied: flatbuffers>=23.1.21 in /home/lincoln81/.local/lib/python3.8/site-packages (from tensorflow) (23.5.26)\n",
      "Requirement already satisfied: tensorboard<2.14,>=2.13 in /home/lincoln81/.local/lib/python3.8/site-packages (from tensorflow) (2.13.0)\n",
      "Requirement already satisfied: protobuf!=4.21.0,!=4.21.1,!=4.21.2,!=4.21.3,!=4.21.4,!=4.21.5,<5.0.0dev,>=3.20.3 in /home/lincoln81/.local/lib/python3.8/site-packages (from tensorflow) (4.24.0)\n",
      "Requirement already satisfied: wheel<1.0,>=0.23.0 in /usr/lib/python3/dist-packages (from astunparse>=1.6.0->tensorflow) (0.34.2)\n",
      "Requirement already satisfied: requests<3,>=2.21.0 in /usr/lib/python3/dist-packages (from tensorboard<2.14,>=2.13->tensorflow) (2.22.0)\n",
      "Requirement already satisfied: markdown>=2.6.8 in /usr/lib/python3/dist-packages (from tensorboard<2.14,>=2.13->tensorflow) (3.1.1)\n",
      "Requirement already satisfied: google-auth<3,>=1.6.3 in /home/lincoln81/.local/lib/python3.8/site-packages (from tensorboard<2.14,>=2.13->tensorflow) (2.22.0)\n",
      "Requirement already satisfied: tensorboard-data-server<0.8.0,>=0.7.0 in /home/lincoln81/.local/lib/python3.8/site-packages (from tensorboard<2.14,>=2.13->tensorflow) (0.7.1)\n",
      "Requirement already satisfied: google-auth-oauthlib<1.1,>=0.5 in /home/lincoln81/.local/lib/python3.8/site-packages (from tensorboard<2.14,>=2.13->tensorflow) (1.0.0)\n",
      "Requirement already satisfied: werkzeug>=1.0.1 in /home/lincoln81/.local/lib/python3.8/site-packages (from tensorboard<2.14,>=2.13->tensorflow) (2.3.6)\n",
      "Requirement already satisfied: urllib3<2.0 in /usr/lib/python3/dist-packages (from google-auth<3,>=1.6.3->tensorboard<2.14,>=2.13->tensorflow) (1.25.8)\n",
      "Requirement already satisfied: pyasn1-modules>=0.2.1 in /usr/lib/python3/dist-packages (from google-auth<3,>=1.6.3->tensorboard<2.14,>=2.13->tensorflow) (0.2.1)\n",
      "Requirement already satisfied: cachetools<6.0,>=2.0.0 in /home/lincoln81/.local/lib/python3.8/site-packages (from google-auth<3,>=1.6.3->tensorboard<2.14,>=2.13->tensorflow) (5.3.1)\n",
      "Requirement already satisfied: rsa<5,>=3.1.4 in /home/lincoln81/.local/lib/python3.8/site-packages (from google-auth<3,>=1.6.3->tensorboard<2.14,>=2.13->tensorflow) (4.9)\n",
      "Requirement already satisfied: requests-oauthlib>=0.7.0 in /home/lincoln81/.local/lib/python3.8/site-packages (from google-auth-oauthlib<1.1,>=0.5->tensorboard<2.14,>=2.13->tensorflow) (1.3.1)\n",
      "Requirement already satisfied: MarkupSafe>=2.1.1 in /home/lincoln81/.local/lib/python3.8/site-packages (from werkzeug>=1.0.1->tensorboard<2.14,>=2.13->tensorflow) (2.1.3)\n",
      "Requirement already satisfied: pyasn1>=0.1.3 in /usr/lib/python3/dist-packages (from rsa<5,>=3.1.4->google-auth<3,>=1.6.3->tensorboard<2.14,>=2.13->tensorflow) (0.4.2)\n",
      "Requirement already satisfied: oauthlib>=3.0.0 in /usr/lib/python3/dist-packages (from requests-oauthlib>=0.7.0->google-auth-oauthlib<1.1,>=0.5->tensorboard<2.14,>=2.13->tensorflow) (3.1.0)\n",
      "Requirement already satisfied: numpy in /home/lincoln81/.local/lib/python3.8/site-packages (1.24.3)\n",
      "Requirement already satisfied: tensorflow_hub in /home/lincoln81/.local/lib/python3.8/site-packages (0.14.0)\n",
      "Requirement already satisfied: numpy>=1.12.0 in /home/lincoln81/.local/lib/python3.8/site-packages (from tensorflow_hub) (1.24.3)\n",
      "Requirement already satisfied: protobuf>=3.19.6 in /home/lincoln81/.local/lib/python3.8/site-packages (from tensorflow_hub) (4.24.0)\n"
     ]
    }
   ],
   "source": [
    "!pip3 install transformers\n",
    "!pip3 install dl-translate\n",
    "!pip3 install emoji\n",
    "!pip3 install tensorflow\n",
    "!pip3 install numpy\n",
    "!pip3 install tensorflow_hub"
   ]
  },
  {
   "cell_type": "markdown",
   "metadata": {},
   "source": [
    "### Importação das bibliotecas:"
   ]
  },
  {
   "cell_type": "code",
   "execution_count": 3,
   "metadata": {},
   "outputs": [
    {
     "name": "stderr",
     "output_type": "stream",
     "text": [
      "2023-11-02 05:20:26.440165: I tensorflow/tsl/cuda/cudart_stub.cc:28] Could not find cuda drivers on your machine, GPU will not be used.\n",
      "2023-11-02 05:20:26.863367: I tensorflow/tsl/cuda/cudart_stub.cc:28] Could not find cuda drivers on your machine, GPU will not be used.\n",
      "2023-11-02 05:20:26.866055: I tensorflow/core/platform/cpu_feature_guard.cc:182] This TensorFlow binary is optimized to use available CPU instructions in performance-critical operations.\n",
      "To enable the following instructions: AVX2 FMA, in other operations, rebuild TensorFlow with the appropriate compiler flags.\n",
      "2023-11-02 05:20:28.609098: W tensorflow/compiler/tf2tensorrt/utils/py_utils.cc:38] TF-TRT Warning: Could not find TensorRT\n",
      "/home/lincoln81/.local/lib/python3.8/site-packages/tqdm/auto.py:21: TqdmWarning: IProgress not found. Please update jupyter and ipywidgets. See https://ipywidgets.readthedocs.io/en/stable/user_install.html\n",
      "  from .autonotebook import tqdm as notebook_tqdm\n"
     ]
    }
   ],
   "source": [
    "import tensorflow as tf\n",
    "import numpy as np\n",
    "import pandas as pd\n",
    "import dl_translate as dlt\n",
    "from sklearn.metrics import precision_score, recall_score, f1_score, confusion_matrix, matthews_corrcoef, classification_report\n",
    "import matplotlib.pyplot as plt\n",
    "import seaborn as sns"
   ]
  },
  {
   "cell_type": "markdown",
   "metadata": {},
   "source": [
    "### Carregamento da API de tradução, para utilização do modelo M2M-100."
   ]
  },
  {
   "cell_type": "code",
   "execution_count": 4,
   "metadata": {},
   "outputs": [],
   "source": [
    "mt = dlt.TranslationModel()"
   ]
  },
  {
   "cell_type": "markdown",
   "metadata": {},
   "source": [
    "###  Modelo de classificação de Tweets, treinado com 23 milhões de exemplos em inglês, sobre covid.\n",
    "\n",
    "### Este é um modelo multilíngue baseado em XLM-roBERTa treinado em aproximadamente 198 milhões de tweets e ajustado para análise de sentimento. O ajuste fino do sentimento foi feito em 8 idiomas (Ar, En, Fr, De, Hi, It, Sp, Pt)."
   ]
  },
  {
   "cell_type": "code",
   "execution_count": 5,
   "metadata": {},
   "outputs": [
    {
     "data": {
      "text/plain": [
       "[{'label': 'negative', 'score': 0.9488404989242554}]"
      ]
     },
     "execution_count": 5,
     "metadata": {},
     "output_type": "execute_result"
    }
   ],
   "source": [
    "from transformers import pipeline\n",
    "model_path = \"cardiffnlp/twitter-xlm-roberta-base-sentiment\"\n",
    "sentiment_task = pipeline(\"sentiment-analysis\", model=model_path, tokenizer=model_path)\n",
    "sentiment_task(\"que dia pessimo\")"
   ]
  },
  {
   "cell_type": "markdown",
   "metadata": {},
   "source": [
    "### Implementação das funções de tradução e classificação:"
   ]
  },
  {
   "cell_type": "code",
   "execution_count": 61,
   "metadata": {},
   "outputs": [],
   "source": [
    "def translaterText(text):\n",
    "  translater = mt.translate(text, source=dlt.lang.PORTUGUESE, target=dlt.lang.ENGLISH)\n",
    "  return translater\n",
    "\n",
    "\n",
    "def classificationText(text):\n",
    "  sentiment = sentiment_task(text)\n",
    "\n",
    "  sentiment = sentiment[0]['label']\n",
    "\n",
    "  sentiment = sentiment.replace('positive', '1').replace('negative', '-1').replace('neutral', '0')\n",
    "\n",
    "  return sentiment\n"
   ]
  },
  {
   "cell_type": "markdown",
   "metadata": {},
   "source": [
    "### Carregamento dos conjuntos de dados: TweetSentBr e B2W-Review01"
   ]
  },
  {
   "cell_type": "code",
   "execution_count": 16,
   "metadata": {},
   "outputs": [],
   "source": [
    "tweetSent = pd.read_csv(\"./TweetSentBR.csv\")\n",
    "b2w = pd.read_csv(\"./B2W-Review.csv\")"
   ]
  },
  {
   "cell_type": "code",
   "execution_count": 17,
   "metadata": {},
   "outputs": [
    {
     "data": {
      "text/html": [
       "<div>\n",
       "<style scoped>\n",
       "    .dataframe tbody tr th:only-of-type {\n",
       "        vertical-align: middle;\n",
       "    }\n",
       "\n",
       "    .dataframe tbody tr th {\n",
       "        vertical-align: top;\n",
       "    }\n",
       "\n",
       "    .dataframe thead th {\n",
       "        text-align: right;\n",
       "    }\n",
       "</style>\n",
       "<table border=\"1\" class=\"dataframe\">\n",
       "  <thead>\n",
       "    <tr style=\"text-align: right;\">\n",
       "      <th></th>\n",
       "      <th>id</th>\n",
       "      <th>id_twitter</th>\n",
       "      <th>text</th>\n",
       "      <th>sentiment</th>\n",
       "    </tr>\n",
       "  </thead>\n",
       "  <tbody>\n",
       "    <tr>\n",
       "      <th>0</th>\n",
       "      <td>1343</td>\n",
       "      <td>863044774588272640</td>\n",
       "      <td>Que coisa linda! O Programa #encontro estava m...</td>\n",
       "      <td>1</td>\n",
       "    </tr>\n",
       "    <tr>\n",
       "      <th>1</th>\n",
       "      <td>1344</td>\n",
       "      <td>865583716088766467</td>\n",
       "      <td>Por mais #Encontro com as Irmãs Galvão, adorei...</td>\n",
       "      <td>1</td>\n",
       "    </tr>\n",
       "    <tr>\n",
       "      <th>2</th>\n",
       "      <td>1345</td>\n",
       "      <td>865063232201011201</td>\n",
       "      <td>Mr. CATRA @OficialMrCatra lançando sua nova mú...</td>\n",
       "      <td>1</td>\n",
       "    </tr>\n",
       "    <tr>\n",
       "      <th>3</th>\n",
       "      <td>1346</td>\n",
       "      <td>864668391008763905</td>\n",
       "      <td>quem viu aquela lutadora modela barbuda tatuad...</td>\n",
       "      <td>0</td>\n",
       "    </tr>\n",
       "    <tr>\n",
       "      <th>4</th>\n",
       "      <td>1347</td>\n",
       "      <td>865572794016378882</td>\n",
       "      <td>Tô passada com esse cara.... quanta merda pode...</td>\n",
       "      <td>-1</td>\n",
       "    </tr>\n",
       "    <tr>\n",
       "      <th>...</th>\n",
       "      <td>...</td>\n",
       "      <td>...</td>\n",
       "      <td>...</td>\n",
       "      <td>...</td>\n",
       "    </tr>\n",
       "    <tr>\n",
       "      <th>11560</th>\n",
       "      <td>12908</td>\n",
       "      <td>864636619000877056</td>\n",
       "      <td>eu ja to aqui pronto pro #MasterChefBR mas ain...</td>\n",
       "      <td>-1</td>\n",
       "    </tr>\n",
       "    <tr>\n",
       "      <th>11561</th>\n",
       "      <td>12909</td>\n",
       "      <td>863581588713603072</td>\n",
       "      <td>MALUCO! Uma coisa que eu não tenho coragem é e...</td>\n",
       "      <td>-1</td>\n",
       "    </tr>\n",
       "    <tr>\n",
       "      <th>11562</th>\n",
       "      <td>12910</td>\n",
       "      <td>864831041349054464</td>\n",
       "      <td>#MaisVoce @ANAMARIABRAGA  está linda @RedeGlobo</td>\n",
       "      <td>1</td>\n",
       "    </tr>\n",
       "    <tr>\n",
       "      <th>11563</th>\n",
       "      <td>12911</td>\n",
       "      <td>863042798575951872</td>\n",
       "      <td>Que orgulho de ti, @sportrecife! #Encontro</td>\n",
       "      <td>1</td>\n",
       "    </tr>\n",
       "    <tr>\n",
       "      <th>11564</th>\n",
       "      <td>12912</td>\n",
       "      <td>864681041541386240</td>\n",
       "      <td>Gente olha o bíceps desse padre #ConversaComBial</td>\n",
       "      <td>1</td>\n",
       "    </tr>\n",
       "  </tbody>\n",
       "</table>\n",
       "<p>11565 rows × 4 columns</p>\n",
       "</div>"
      ],
      "text/plain": [
       "          id          id_twitter  \\\n",
       "0       1343  863044774588272640   \n",
       "1       1344  865583716088766467   \n",
       "2       1345  865063232201011201   \n",
       "3       1346  864668391008763905   \n",
       "4       1347  865572794016378882   \n",
       "...      ...                 ...   \n",
       "11560  12908  864636619000877056   \n",
       "11561  12909  863581588713603072   \n",
       "11562  12910  864831041349054464   \n",
       "11563  12911  863042798575951872   \n",
       "11564  12912  864681041541386240   \n",
       "\n",
       "                                                    text sentiment  \n",
       "0      Que coisa linda! O Programa #encontro estava m...         1  \n",
       "1      Por mais #Encontro com as Irmãs Galvão, adorei...         1  \n",
       "2      Mr. CATRA @OficialMrCatra lançando sua nova mú...         1  \n",
       "3      quem viu aquela lutadora modela barbuda tatuad...         0  \n",
       "4      Tô passada com esse cara.... quanta merda pode...        -1  \n",
       "...                                                  ...       ...  \n",
       "11560  eu ja to aqui pronto pro #MasterChefBR mas ain...        -1  \n",
       "11561  MALUCO! Uma coisa que eu não tenho coragem é e...        -1  \n",
       "11562    #MaisVoce @ANAMARIABRAGA  está linda @RedeGlobo         1  \n",
       "11563         Que orgulho de ti, @sportrecife! #Encontro         1  \n",
       "11564   Gente olha o bíceps desse padre #ConversaComBial         1  \n",
       "\n",
       "[11565 rows x 4 columns]"
      ]
     },
     "execution_count": 17,
     "metadata": {},
     "output_type": "execute_result"
    }
   ],
   "source": [
    "tweetSent"
   ]
  },
  {
   "cell_type": "code",
   "execution_count": 18,
   "metadata": {},
   "outputs": [
    {
     "data": {
      "text/html": [
       "<div>\n",
       "<style scoped>\n",
       "    .dataframe tbody tr th:only-of-type {\n",
       "        vertical-align: middle;\n",
       "    }\n",
       "\n",
       "    .dataframe tbody tr th {\n",
       "        vertical-align: top;\n",
       "    }\n",
       "\n",
       "    .dataframe thead th {\n",
       "        text-align: right;\n",
       "    }\n",
       "</style>\n",
       "<table border=\"1\" class=\"dataframe\">\n",
       "  <thead>\n",
       "    <tr style=\"text-align: right;\">\n",
       "      <th></th>\n",
       "      <th>original_index</th>\n",
       "      <th>review_text</th>\n",
       "      <th>review_text_processed</th>\n",
       "      <th>review_text_tokenized</th>\n",
       "      <th>polarity</th>\n",
       "      <th>rating</th>\n",
       "      <th>kfold_polarity</th>\n",
       "      <th>kfold_rating</th>\n",
       "    </tr>\n",
       "  </thead>\n",
       "  <tbody>\n",
       "    <tr>\n",
       "      <th>0</th>\n",
       "      <td>11955</td>\n",
       "      <td>Bem macio e felpudo...recomendo.  Preço imbatí...</td>\n",
       "      <td>bem macio e felpudo...recomendo.  preco imbati...</td>\n",
       "      <td>['bem', 'macio', 'felpudo', 'recomendo', 'prec...</td>\n",
       "      <td>1.0</td>\n",
       "      <td>4</td>\n",
       "      <td>1</td>\n",
       "      <td>1</td>\n",
       "    </tr>\n",
       "    <tr>\n",
       "      <th>1</th>\n",
       "      <td>35478</td>\n",
       "      <td>Produto excepcional!  recomendo!!! inovador e ...</td>\n",
       "      <td>produto excepcional!  recomendo!!! inovador e ...</td>\n",
       "      <td>['produto', 'excepcional', 'recomendo', 'inova...</td>\n",
       "      <td>1.0</td>\n",
       "      <td>5</td>\n",
       "      <td>1</td>\n",
       "      <td>1</td>\n",
       "    </tr>\n",
       "    <tr>\n",
       "      <th>2</th>\n",
       "      <td>122760</td>\n",
       "      <td>recebi o produto antes do prazo mas veio com d...</td>\n",
       "      <td>recebi o produto antes do prazo mas veio com d...</td>\n",
       "      <td>['recebi', 'produto', 'antes', 'do', 'prazo', ...</td>\n",
       "      <td>0.0</td>\n",
       "      <td>1</td>\n",
       "      <td>1</td>\n",
       "      <td>1</td>\n",
       "    </tr>\n",
       "    <tr>\n",
       "      <th>3</th>\n",
       "      <td>17114</td>\n",
       "      <td>Bom custo beneficio. Adequado para pessoas que...</td>\n",
       "      <td>bom custo beneficio. adequado para pessoas que...</td>\n",
       "      <td>['bom', 'custo', 'beneficio', 'adequado', 'par...</td>\n",
       "      <td>1.0</td>\n",
       "      <td>5</td>\n",
       "      <td>1</td>\n",
       "      <td>1</td>\n",
       "    </tr>\n",
       "    <tr>\n",
       "      <th>4</th>\n",
       "      <td>19112</td>\n",
       "      <td>Além de higiênico tem o tamanho ideal. Só falt...</td>\n",
       "      <td>alem de higienico tem o tamanho ideal. so falt...</td>\n",
       "      <td>['alem', 'de', 'higienico', 'tem', 'tamanho', ...</td>\n",
       "      <td>NaN</td>\n",
       "      <td>3</td>\n",
       "      <td>-1</td>\n",
       "      <td>1</td>\n",
       "    </tr>\n",
       "    <tr>\n",
       "      <th>...</th>\n",
       "      <td>...</td>\n",
       "      <td>...</td>\n",
       "      <td>...</td>\n",
       "      <td>...</td>\n",
       "      <td>...</td>\n",
       "      <td>...</td>\n",
       "      <td>...</td>\n",
       "      <td>...</td>\n",
       "    </tr>\n",
       "    <tr>\n",
       "      <th>132368</th>\n",
       "      <td>41993</td>\n",
       "      <td>SMARTHPHONE  PERFEITO  MUITO  BOM  E  A  ECONO...</td>\n",
       "      <td>smarthphone  perfeito  muito  bom  e  a  econo...</td>\n",
       "      <td>['smarthphone', 'perfeito', 'muito', 'bom', 'e...</td>\n",
       "      <td>1.0</td>\n",
       "      <td>5</td>\n",
       "      <td>10</td>\n",
       "      <td>10</td>\n",
       "    </tr>\n",
       "    <tr>\n",
       "      <th>132369</th>\n",
       "      <td>97639</td>\n",
       "      <td>Eu estou muito chateado com isso gostaria que ...</td>\n",
       "      <td>eu estou muito chateado com isso gostaria que ...</td>\n",
       "      <td>['eu', 'estou', 'muito', 'chateado', 'com', 'i...</td>\n",
       "      <td>0.0</td>\n",
       "      <td>1</td>\n",
       "      <td>10</td>\n",
       "      <td>10</td>\n",
       "    </tr>\n",
       "    <tr>\n",
       "      <th>132370</th>\n",
       "      <td>95939</td>\n",
       "      <td>Vale a pena pelo preço oferecido, qualidade a ...</td>\n",
       "      <td>vale a pena pelo preco oferecido, qualidade a ...</td>\n",
       "      <td>['vale', 'pena', 'pelo', 'preco', 'oferecido',...</td>\n",
       "      <td>NaN</td>\n",
       "      <td>3</td>\n",
       "      <td>-1</td>\n",
       "      <td>10</td>\n",
       "    </tr>\n",
       "    <tr>\n",
       "      <th>132371</th>\n",
       "      <td>117952</td>\n",
       "      <td>O produto anunciado no site dizia ser  100% al...</td>\n",
       "      <td>o produto anunciado no site dizia ser  100% al...</td>\n",
       "      <td>['produto', 'anunciado', 'no', 'site', 'dizia'...</td>\n",
       "      <td>0.0</td>\n",
       "      <td>1</td>\n",
       "      <td>10</td>\n",
       "      <td>10</td>\n",
       "    </tr>\n",
       "    <tr>\n",
       "      <th>132372</th>\n",
       "      <td>43567</td>\n",
       "      <td>Não recebi o produto e consta como entregue no...</td>\n",
       "      <td>nao recebi o produto e consta como entregue no...</td>\n",
       "      <td>['nao', 'recebi', 'produto', 'consta', 'como',...</td>\n",
       "      <td>0.0</td>\n",
       "      <td>1</td>\n",
       "      <td>10</td>\n",
       "      <td>10</td>\n",
       "    </tr>\n",
       "  </tbody>\n",
       "</table>\n",
       "<p>132373 rows × 8 columns</p>\n",
       "</div>"
      ],
      "text/plain": [
       "        original_index                                        review_text  \\\n",
       "0                11955  Bem macio e felpudo...recomendo.  Preço imbatí...   \n",
       "1                35478  Produto excepcional!  recomendo!!! inovador e ...   \n",
       "2               122760  recebi o produto antes do prazo mas veio com d...   \n",
       "3                17114  Bom custo beneficio. Adequado para pessoas que...   \n",
       "4                19112  Além de higiênico tem o tamanho ideal. Só falt...   \n",
       "...                ...                                                ...   \n",
       "132368           41993  SMARTHPHONE  PERFEITO  MUITO  BOM  E  A  ECONO...   \n",
       "132369           97639  Eu estou muito chateado com isso gostaria que ...   \n",
       "132370           95939  Vale a pena pelo preço oferecido, qualidade a ...   \n",
       "132371          117952  O produto anunciado no site dizia ser  100% al...   \n",
       "132372           43567  Não recebi o produto e consta como entregue no...   \n",
       "\n",
       "                                    review_text_processed  \\\n",
       "0       bem macio e felpudo...recomendo.  preco imbati...   \n",
       "1       produto excepcional!  recomendo!!! inovador e ...   \n",
       "2       recebi o produto antes do prazo mas veio com d...   \n",
       "3       bom custo beneficio. adequado para pessoas que...   \n",
       "4       alem de higienico tem o tamanho ideal. so falt...   \n",
       "...                                                   ...   \n",
       "132368  smarthphone  perfeito  muito  bom  e  a  econo...   \n",
       "132369  eu estou muito chateado com isso gostaria que ...   \n",
       "132370  vale a pena pelo preco oferecido, qualidade a ...   \n",
       "132371  o produto anunciado no site dizia ser  100% al...   \n",
       "132372  nao recebi o produto e consta como entregue no...   \n",
       "\n",
       "                                    review_text_tokenized  polarity  rating  \\\n",
       "0       ['bem', 'macio', 'felpudo', 'recomendo', 'prec...       1.0       4   \n",
       "1       ['produto', 'excepcional', 'recomendo', 'inova...       1.0       5   \n",
       "2       ['recebi', 'produto', 'antes', 'do', 'prazo', ...       0.0       1   \n",
       "3       ['bom', 'custo', 'beneficio', 'adequado', 'par...       1.0       5   \n",
       "4       ['alem', 'de', 'higienico', 'tem', 'tamanho', ...       NaN       3   \n",
       "...                                                   ...       ...     ...   \n",
       "132368  ['smarthphone', 'perfeito', 'muito', 'bom', 'e...       1.0       5   \n",
       "132369  ['eu', 'estou', 'muito', 'chateado', 'com', 'i...       0.0       1   \n",
       "132370  ['vale', 'pena', 'pelo', 'preco', 'oferecido',...       NaN       3   \n",
       "132371  ['produto', 'anunciado', 'no', 'site', 'dizia'...       0.0       1   \n",
       "132372  ['nao', 'recebi', 'produto', 'consta', 'como',...       0.0       1   \n",
       "\n",
       "        kfold_polarity  kfold_rating  \n",
       "0                    1             1  \n",
       "1                    1             1  \n",
       "2                    1             1  \n",
       "3                    1             1  \n",
       "4                   -1             1  \n",
       "...                ...           ...  \n",
       "132368              10            10  \n",
       "132369              10            10  \n",
       "132370              -1            10  \n",
       "132371              10            10  \n",
       "132372              10            10  \n",
       "\n",
       "[132373 rows x 8 columns]"
      ]
     },
     "execution_count": 18,
     "metadata": {},
     "output_type": "execute_result"
    }
   ],
   "source": [
    "b2w"
   ]
  },
  {
   "cell_type": "markdown",
   "metadata": {},
   "source": [
    "### Retirando colunas que não são necessarias para o experimento:"
   ]
  },
  {
   "cell_type": "code",
   "execution_count": 19,
   "metadata": {},
   "outputs": [],
   "source": [
    "tweetSent.drop(columns = ['id','id_twitter'], inplace=True)\n",
    "b2w.drop(columns = ['original_index', 'review_text_processed', 'review_text_tokenized', 'rating', 'kfold_polarity', 'kfold_rating'], inplace=True)"
   ]
  },
  {
   "cell_type": "markdown",
   "metadata": {},
   "source": [
    "### Retirando valones N/A:"
   ]
  },
  {
   "cell_type": "code",
   "execution_count": 21,
   "metadata": {},
   "outputs": [],
   "source": [
    "tweetSent.dropna(inplace=True)\n",
    "b2w.dropna(inplace=True)"
   ]
  },
  {
   "cell_type": "markdown",
   "metadata": {},
   "source": [
    "### Selecionando os 100 exemplos de positivos e negativos:"
   ]
  },
  {
   "cell_type": "code",
   "execution_count": null,
   "metadata": {},
   "outputs": [],
   "source": [
    "b2w = b2w[b2w['polarity'] == 1].head(100)\n",
    "b2w = b2w.append(b2w[b2w['polarity'] == 0].head(20))"
   ]
  },
  {
   "cell_type": "markdown",
   "metadata": {},
   "source": [
    "### Tradução dos conjunto de dados TweetSent Br e B2W-Review01:"
   ]
  },
  {
   "cell_type": "code",
   "execution_count": null,
   "metadata": {},
   "outputs": [],
   "source": [
    "tweetSent['tweets_translater_face'] = tweetSent['text'].apply(translaterText)\n",
    "b2w['reviews_translater_face'] = b2w['review_text'].apply(translaterText)"
   ]
  },
  {
   "cell_type": "markdown",
   "metadata": {},
   "source": [
    "### Conjuntos de dados após a tradução:"
   ]
  },
  {
   "cell_type": "code",
   "execution_count": 33,
   "metadata": {},
   "outputs": [
    {
     "data": {
      "text/html": [
       "<div>\n",
       "<style scoped>\n",
       "    .dataframe tbody tr th:only-of-type {\n",
       "        vertical-align: middle;\n",
       "    }\n",
       "\n",
       "    .dataframe tbody tr th {\n",
       "        vertical-align: top;\n",
       "    }\n",
       "\n",
       "    .dataframe thead th {\n",
       "        text-align: right;\n",
       "    }\n",
       "</style>\n",
       "<table border=\"1\" class=\"dataframe\">\n",
       "  <thead>\n",
       "    <tr style=\"text-align: right;\">\n",
       "      <th></th>\n",
       "      <th>tweets_original</th>\n",
       "      <th>tweets_translater_face</th>\n",
       "      <th>polarity</th>\n",
       "    </tr>\n",
       "  </thead>\n",
       "  <tbody>\n",
       "    <tr>\n",
       "      <th>0</th>\n",
       "      <td>Que coisa linda! O Programa #encontro estava m...</td>\n",
       "      <td>What a beautiful thing! The #touch program was...</td>\n",
       "      <td>1.0</td>\n",
       "    </tr>\n",
       "    <tr>\n",
       "      <th>1</th>\n",
       "      <td>Por mais #Encontro com as Irmãs Galvão, adorei...</td>\n",
       "      <td>For more I met with the Galvan Sisters, I love...</td>\n",
       "      <td>1.0</td>\n",
       "    </tr>\n",
       "    <tr>\n",
       "      <th>2</th>\n",
       "      <td>Mr. CATRA  lançando sua nova música PPK CHORA ...</td>\n",
       "      <td>Mr. CATRA releases his new song PPK CHORA on k...</td>\n",
       "      <td>1.0</td>\n",
       "    </tr>\n",
       "    <tr>\n",
       "      <th>3</th>\n",
       "      <td>quem viu aquela lutadora modela barbuda tatuad...</td>\n",
       "      <td>Who saw that fighter model tattooed? #MasterCh...</td>\n",
       "      <td>0.0</td>\n",
       "    </tr>\n",
       "    <tr>\n",
       "      <th>4</th>\n",
       "      <td>Tô passada com esse cara.... quanta merda pode...</td>\n",
       "      <td>How much shit can come out of someone’s mouth ...</td>\n",
       "      <td>-1.0</td>\n",
       "    </tr>\n",
       "    <tr>\n",
       "      <th>...</th>\n",
       "      <td>...</td>\n",
       "      <td>...</td>\n",
       "      <td>...</td>\n",
       "    </tr>\n",
       "    <tr>\n",
       "      <th>11523</th>\n",
       "      <td>a animação da filha da vanessa da mata é de se...</td>\n",
       "      <td>The animation of the daughter of the vanessa o...</td>\n",
       "      <td>1.0</td>\n",
       "    </tr>\n",
       "    <tr>\n",
       "      <th>11524</th>\n",
       "      <td>eu ja to aqui pronto pro #MasterChefBR mas ain...</td>\n",
       "      <td>I'm ready to go here for #MasterChefBR but I'm...</td>\n",
       "      <td>-1.0</td>\n",
       "    </tr>\n",
       "    <tr>\n",
       "      <th>11525</th>\n",
       "      <td>MALUCO! Uma coisa que eu não tenho coragem é e...</td>\n",
       "      <td>One thing I don’t have the courage is that nor...</td>\n",
       "      <td>-1.0</td>\n",
       "    </tr>\n",
       "    <tr>\n",
       "      <th>11526</th>\n",
       "      <td>#MaisVoce   está linda</td>\n",
       "      <td>#MaisVoce is beautiful</td>\n",
       "      <td>1.0</td>\n",
       "    </tr>\n",
       "    <tr>\n",
       "      <th>11527</th>\n",
       "      <td>Que orgulho de ti, ! #Encontro</td>\n",
       "      <td>I am proud of you! #Meet</td>\n",
       "      <td>1.0</td>\n",
       "    </tr>\n",
       "  </tbody>\n",
       "</table>\n",
       "<p>11528 rows × 3 columns</p>\n",
       "</div>"
      ],
      "text/plain": [
       "                                         tweets_original  \\\n",
       "0      Que coisa linda! O Programa #encontro estava m...   \n",
       "1      Por mais #Encontro com as Irmãs Galvão, adorei...   \n",
       "2      Mr. CATRA  lançando sua nova música PPK CHORA ...   \n",
       "3      quem viu aquela lutadora modela barbuda tatuad...   \n",
       "4      Tô passada com esse cara.... quanta merda pode...   \n",
       "...                                                  ...   \n",
       "11523  a animação da filha da vanessa da mata é de se...   \n",
       "11524  eu ja to aqui pronto pro #MasterChefBR mas ain...   \n",
       "11525  MALUCO! Uma coisa que eu não tenho coragem é e...   \n",
       "11526                            #MaisVoce   está linda    \n",
       "11527                     Que orgulho de ti, ! #Encontro   \n",
       "\n",
       "                                  tweets_translater_face  polarity  \n",
       "0      What a beautiful thing! The #touch program was...       1.0  \n",
       "1      For more I met with the Galvan Sisters, I love...       1.0  \n",
       "2      Mr. CATRA releases his new song PPK CHORA on k...       1.0  \n",
       "3      Who saw that fighter model tattooed? #MasterCh...       0.0  \n",
       "4      How much shit can come out of someone’s mouth ...      -1.0  \n",
       "...                                                  ...       ...  \n",
       "11523  The animation of the daughter of the vanessa o...       1.0  \n",
       "11524  I'm ready to go here for #MasterChefBR but I'm...      -1.0  \n",
       "11525  One thing I don’t have the courage is that nor...      -1.0  \n",
       "11526                             #MaisVoce is beautiful       1.0  \n",
       "11527                           I am proud of you! #Meet       1.0  \n",
       "\n",
       "[11528 rows x 3 columns]"
      ]
     },
     "execution_count": 33,
     "metadata": {},
     "output_type": "execute_result"
    }
   ],
   "source": [
    "tweetSent\n"
   ]
  },
  {
   "cell_type": "code",
   "execution_count": 52,
   "metadata": {},
   "outputs": [
    {
     "data": {
      "text/html": [
       "<div>\n",
       "<style scoped>\n",
       "    .dataframe tbody tr th:only-of-type {\n",
       "        vertical-align: middle;\n",
       "    }\n",
       "\n",
       "    .dataframe tbody tr th {\n",
       "        vertical-align: top;\n",
       "    }\n",
       "\n",
       "    .dataframe thead th {\n",
       "        text-align: right;\n",
       "    }\n",
       "</style>\n",
       "<table border=\"1\" class=\"dataframe\">\n",
       "  <thead>\n",
       "    <tr style=\"text-align: right;\">\n",
       "      <th></th>\n",
       "      <th>review_text</th>\n",
       "      <th>review_translater_face</th>\n",
       "      <th>polarity</th>\n",
       "    </tr>\n",
       "  </thead>\n",
       "  <tbody>\n",
       "    <tr>\n",
       "      <th>0</th>\n",
       "      <td>Bem macio e felpudo...recomendo.  Preço imbatí...</td>\n",
       "      <td>Good soft and smooth I recommend. unbeatable p...</td>\n",
       "      <td>1.0</td>\n",
       "    </tr>\n",
       "    <tr>\n",
       "      <th>1</th>\n",
       "      <td>Produto excepcional!  recomendo!!! inovador e ...</td>\n",
       "      <td>Excellent product! recommend!!! innovative and...</td>\n",
       "      <td>1.0</td>\n",
       "    </tr>\n",
       "    <tr>\n",
       "      <th>2</th>\n",
       "      <td>Bom custo beneficio. Adequado para pessoas que...</td>\n",
       "      <td>Good cost benefit. Suitable for people who do ...</td>\n",
       "      <td>1.0</td>\n",
       "    </tr>\n",
       "    <tr>\n",
       "      <th>3</th>\n",
       "      <td>ótmo produto atendeu as expectativas, a entreg...</td>\n",
       "      <td>The product fulfilled expectations, the delive...</td>\n",
       "      <td>1.0</td>\n",
       "    </tr>\n",
       "    <tr>\n",
       "      <th>4</th>\n",
       "      <td>GOSTEI MUITO DO PRODUTO! TEM ÓTIMA QUALIDADE, ...</td>\n",
       "      <td>It has excellent quality, and makes it very ea...</td>\n",
       "      <td>1.0</td>\n",
       "    </tr>\n",
       "    <tr>\n",
       "      <th>...</th>\n",
       "      <td>...</td>\n",
       "      <td>...</td>\n",
       "      <td>...</td>\n",
       "    </tr>\n",
       "    <tr>\n",
       "      <th>195</th>\n",
       "      <td>A entrega foi rápida  o produto veio lacrado e...</td>\n",
       "      <td>Delivery was fast the product came tears and i...</td>\n",
       "      <td>0.0</td>\n",
       "    </tr>\n",
       "    <tr>\n",
       "      <th>196</th>\n",
       "      <td>Comprei o carrinha em 8 dias foi entregue... n...</td>\n",
       "      <td>I bought the car in 8 days was delivered... in...</td>\n",
       "      <td>0.0</td>\n",
       "    </tr>\n",
       "    <tr>\n",
       "      <th>197</th>\n",
       "      <td>ENGANAÇÃO ! NÃO FUNCIONA NO BRASIL ! Esperei q...</td>\n",
       "      <td>I waited almost a month and I received a phone...</td>\n",
       "      <td>0.0</td>\n",
       "    </tr>\n",
       "    <tr>\n",
       "      <th>198</th>\n",
       "      <td>A capa tem uma apresentação legal, mas eu comp...</td>\n",
       "      <td>The cover has a legal presentation, but I boug...</td>\n",
       "      <td>0.0</td>\n",
       "    </tr>\n",
       "    <tr>\n",
       "      <th>199</th>\n",
       "      <td>Eu já expliquei o motivo de ter cancelado o pe...</td>\n",
       "      <td>I’ve already explained why I canceled the orde...</td>\n",
       "      <td>0.0</td>\n",
       "    </tr>\n",
       "  </tbody>\n",
       "</table>\n",
       "<p>200 rows × 3 columns</p>\n",
       "</div>"
      ],
      "text/plain": [
       "                                           review_text  \\\n",
       "0    Bem macio e felpudo...recomendo.  Preço imbatí...   \n",
       "1    Produto excepcional!  recomendo!!! inovador e ...   \n",
       "2    Bom custo beneficio. Adequado para pessoas que...   \n",
       "3    ótmo produto atendeu as expectativas, a entreg...   \n",
       "4    GOSTEI MUITO DO PRODUTO! TEM ÓTIMA QUALIDADE, ...   \n",
       "..                                                 ...   \n",
       "195  A entrega foi rápida  o produto veio lacrado e...   \n",
       "196  Comprei o carrinha em 8 dias foi entregue... n...   \n",
       "197  ENGANAÇÃO ! NÃO FUNCIONA NO BRASIL ! Esperei q...   \n",
       "198  A capa tem uma apresentação legal, mas eu comp...   \n",
       "199  Eu já expliquei o motivo de ter cancelado o pe...   \n",
       "\n",
       "                                review_translater_face  polarity  \n",
       "0    Good soft and smooth I recommend. unbeatable p...       1.0  \n",
       "1    Excellent product! recommend!!! innovative and...       1.0  \n",
       "2    Good cost benefit. Suitable for people who do ...       1.0  \n",
       "3    The product fulfilled expectations, the delive...       1.0  \n",
       "4    It has excellent quality, and makes it very ea...       1.0  \n",
       "..                                                 ...       ...  \n",
       "195  Delivery was fast the product came tears and i...       0.0  \n",
       "196  I bought the car in 8 days was delivered... in...       0.0  \n",
       "197  I waited almost a month and I received a phone...       0.0  \n",
       "198  The cover has a legal presentation, but I boug...       0.0  \n",
       "199  I’ve already explained why I canceled the orde...       0.0  \n",
       "\n",
       "[200 rows x 3 columns]"
      ]
     },
     "execution_count": 52,
     "metadata": {},
     "output_type": "execute_result"
    }
   ],
   "source": [
    "b2w"
   ]
  },
  {
   "cell_type": "markdown",
   "metadata": {},
   "source": [
    "### Classificando os conjuntos de dados:"
   ]
  },
  {
   "cell_type": "code",
   "execution_count": 66,
   "metadata": {},
   "outputs": [],
   "source": [
    "tweetSent['polarityMultiClassifierTweetsOriginal'] = tweetSent['tweets_original'].apply(classificationText)\n",
    "tweetSent['polarityMultiClassifierTweetsTraduzido'] = tweetSent['tweets_translater_face'].apply(classificationText)\n",
    "b2w['polarityMultiClassifierReviewsOriginal'] = b2w['review_text'].apply(classificationText)\n",
    "b2w['polarityMultiClassifierReviewsTraduzido'] = b2w['reviews_translater_face'].apply(classificationText)"
   ]
  },
  {
   "cell_type": "markdown",
   "metadata": {},
   "source": [
    "### Mudando para float a coluna para conseguir fazer os caculos das metricas avaliativas:"
   ]
  },
  {
   "cell_type": "code",
   "execution_count": 68,
   "metadata": {},
   "outputs": [],
   "source": [
    "tweetSent['polarityMultiClassifierTweetsOriginal'] = tweetSent['polarityMultiClassifierTweetsOriginal'].astype(float)\n",
    "tweetSent['polarityMultiClassifierTweetsTraduzido'] = tweetSent['polarityMultiClassifierTweetsTraduzido'].astype(float)\n",
    "b2w['polarityMultiClassifierReviewsOriginal'] = b2w['polarityMultiClassifierReviewsOriginal'].astype(float)\n",
    "b2w['polarityMultiClassifierReviewsTraduzido'] = b2w['polarityMultiClassifierReviewsTraduzido'].astype(float)\n"
   ]
  },
  {
   "cell_type": "markdown",
   "metadata": {},
   "source": [
    "### Replace no B2W-Review01 para conseguir calcular as metricas avaliativas: "
   ]
  },
  {
   "cell_type": "code",
   "execution_count": 78,
   "metadata": {},
   "outputs": [],
   "source": [
    "b2w['polarity'].replace(0, -1, inplace=True)"
   ]
  },
  {
   "cell_type": "markdown",
   "metadata": {},
   "source": [
    "### Resutaldos das classificações e calculos das metricas avaliativas: F1-Score, Precisão e Cobertura."
   ]
  },
  {
   "cell_type": "code",
   "execution_count": 79,
   "metadata": {},
   "outputs": [],
   "source": [
    "results = {\n",
    "  'Dataset': ['tweetSentBr'],\n",
    "  'Original': [pd.DataFrame({'F1': [f1_score(tweetSent['polarity'], tweetSent['polarityMultiClassifierTweetsOriginal'], average='weighted')], 'Precision': [precision_score(tweetSent['polarity'], tweetSent['polarityMultiClassifierTweetsOriginal'], average='weighted')], 'Recall': [recall_score(tweetSent['polarity'], tweetSent['polarityMultiClassifierTweetsOriginal'], average='weighted')]})],\n",
    "  'Traduzido': [pd.DataFrame({'F1': [f1_score(tweetSent['polarity'], tweetSent['polarityMultiClassifierTweetsTraduzido'], average='weighted')], 'Precision': [precision_score(tweetSent['polarity'], tweetSent['polarityMultiClassifierTweetsTraduzido'], average='weighted')], 'Recall': [recall_score(tweetSent['polarity'], tweetSent['polarityMultiClassifierTweetsTraduzido'], average='weighted')]})]\n",
    "}"
   ]
  },
  {
   "cell_type": "code",
   "execution_count": 80,
   "metadata": {},
   "outputs": [
    {
     "data": {
      "text/html": [
       "<div>\n",
       "<style scoped>\n",
       "    .dataframe tbody tr th:only-of-type {\n",
       "        vertical-align: middle;\n",
       "    }\n",
       "\n",
       "    .dataframe tbody tr th {\n",
       "        vertical-align: top;\n",
       "    }\n",
       "\n",
       "    .dataframe thead th {\n",
       "        text-align: right;\n",
       "    }\n",
       "</style>\n",
       "<table border=\"1\" class=\"dataframe\">\n",
       "  <thead>\n",
       "    <tr style=\"text-align: right;\">\n",
       "      <th></th>\n",
       "      <th>F1</th>\n",
       "      <th>Precision</th>\n",
       "      <th>Recall</th>\n",
       "    </tr>\n",
       "  </thead>\n",
       "  <tbody>\n",
       "    <tr>\n",
       "      <th>0</th>\n",
       "      <td>0.598053</td>\n",
       "      <td>0.609495</td>\n",
       "      <td>0.593197</td>\n",
       "    </tr>\n",
       "  </tbody>\n",
       "</table>\n",
       "</div>"
      ],
      "text/plain": [
       "         F1  Precision    Recall\n",
       "0  0.598053   0.609495  0.593197"
      ]
     },
     "execution_count": 80,
     "metadata": {},
     "output_type": "execute_result"
    }
   ],
   "source": [
    "results['Original'][0]"
   ]
  },
  {
   "cell_type": "code",
   "execution_count": 81,
   "metadata": {},
   "outputs": [
    {
     "data": {
      "text/html": [
       "<div>\n",
       "<style scoped>\n",
       "    .dataframe tbody tr th:only-of-type {\n",
       "        vertical-align: middle;\n",
       "    }\n",
       "\n",
       "    .dataframe tbody tr th {\n",
       "        vertical-align: top;\n",
       "    }\n",
       "\n",
       "    .dataframe thead th {\n",
       "        text-align: right;\n",
       "    }\n",
       "</style>\n",
       "<table border=\"1\" class=\"dataframe\">\n",
       "  <thead>\n",
       "    <tr style=\"text-align: right;\">\n",
       "      <th></th>\n",
       "      <th>F1</th>\n",
       "      <th>Precision</th>\n",
       "      <th>Recall</th>\n",
       "    </tr>\n",
       "  </thead>\n",
       "  <tbody>\n",
       "    <tr>\n",
       "      <th>0</th>\n",
       "      <td>0.532956</td>\n",
       "      <td>0.547365</td>\n",
       "      <td>0.526206</td>\n",
       "    </tr>\n",
       "  </tbody>\n",
       "</table>\n",
       "</div>"
      ],
      "text/plain": [
       "         F1  Precision    Recall\n",
       "0  0.532956   0.547365  0.526206"
      ]
     },
     "execution_count": 81,
     "metadata": {},
     "output_type": "execute_result"
    }
   ],
   "source": [
    "results['Traduzido'][0]"
   ]
  },
  {
   "cell_type": "code",
   "execution_count": 83,
   "metadata": {},
   "outputs": [],
   "source": [
    "matrizConfusaoOriginal = confusion_matrix(tweetSent['polarity'], tweetSent['polarityMultiClassifierTweetsOriginal'])"
   ]
  },
  {
   "cell_type": "code",
   "execution_count": 84,
   "metadata": {},
   "outputs": [
    {
     "data": {
      "text/plain": [
       "array([[2110,  729,  547],\n",
       "       [ 798, 1502,  625],\n",
       "       [ 888, 1101, 3224]])"
      ]
     },
     "execution_count": 84,
     "metadata": {},
     "output_type": "execute_result"
    }
   ],
   "source": [
    "matrizConfusaoOriginal"
   ]
  },
  {
   "cell_type": "code",
   "execution_count": 85,
   "metadata": {},
   "outputs": [
    {
     "data": {
      "image/png": "[encoded data removed]",
      "text/plain": [
       "<Figure size 640x480 with 1 Axes>"
      ]
     },
     "metadata": {},
     "output_type": "display_data"
    }
   ],
   "source": [
    "sns.heatmap(matrizConfusaoOriginal, annot=True, fmt=\"d\", cmap=\"Reds\", cbar=False, square=True,\n",
    "            xticklabels=[\"Negativo\",\"Neutro\", \"Positivo\"], yticklabels=[\"Negativo\",\"Neutro\", \"Positivo\"])\n",
    "\n",
    "\n",
    "plt.xlabel(\"Rótulos Previstos\")\n",
    "plt.ylabel(\"Rótulos Verdadeiros\")\n",
    "plt.title(\"Idioma Origem\")\n",
    "fig1 = plt.gcf()\n",
    "\n",
    "plt.show()\n",
    "\n"
   ]
  },
  {
   "cell_type": "code",
   "execution_count": 86,
   "metadata": {},
   "outputs": [],
   "source": [
    "matrizConfusaoTraduzido = confusion_matrix(tweetSent['polarity'], tweetSent['polarityMultiClassifierTweetsTraduzido'])\n"
   ]
  },
  {
   "cell_type": "code",
   "execution_count": 87,
   "metadata": {},
   "outputs": [
    {
     "data": {
      "image/png": "[encoded data removed]",
      "text/plain": [
       "<Figure size 640x480 with 1 Axes>"
      ]
     },
     "metadata": {},
     "output_type": "display_data"
    }
   ],
   "source": [
    "sns.heatmap(matrizConfusaoTraduzido, annot=True, fmt=\"d\", cmap=\"Reds\", cbar=False, square=True,\n",
    "             xticklabels=[\"Negativo\",\"Neutro\", \"Positivo\"], yticklabels=[\"Negativo\",\"Neutro\", \"Positivo\"])\n",
    "\n",
    "plt.xlabel(\"Rótulos Previstos\")\n",
    "plt.ylabel(\"Rótulos Verdadeiros\")\n",
    "plt.title(\"Idioma Traduzido\")\n",
    "\n",
    "fig2 = plt.gcf()\n",
    "\n",
    "plt.show()"
   ]
  },
  {
   "cell_type": "code",
   "execution_count": 90,
   "metadata": {},
   "outputs": [],
   "source": [
    "resultss = {\n",
    "  'dataset': ['B2W'],\n",
    "  'Original': [pd.DataFrame({'F1': [f1_score(b2w['polarity'], b2w['polarityMultiClassifierReviewsOriginal'], average='micro')], 'Precision': [precision_score(b2w['polarity'], b2w['polarityMultiClassifierReviewsOriginal'], average='micro')], 'Recall': [recall_score(b2w['polarity'], b2w['polarityMultiClassifierReviewsOriginal'], average='micro')]})],\n",
    "  'Traduzido': [pd.DataFrame({'F1': [f1_score(b2w['polarity'], b2w['polarityMultiClassifierReviewsTraduzido'], average='micro')], 'Precision': [precision_score(b2w['polarity'], b2w['polarityMultiClassifierReviewsTraduzido'], average='micro')], 'Recall': [recall_score(b2w['polarity'], b2w['polarityMultiClassifierReviewsTraduzido'], average='micro')]})]\n",
    "}"
   ]
  },
  {
   "cell_type": "code",
   "execution_count": 91,
   "metadata": {},
   "outputs": [
    {
     "data": {
      "text/html": [
       "<div>\n",
       "<style scoped>\n",
       "    .dataframe tbody tr th:only-of-type {\n",
       "        vertical-align: middle;\n",
       "    }\n",
       "\n",
       "    .dataframe tbody tr th {\n",
       "        vertical-align: top;\n",
       "    }\n",
       "\n",
       "    .dataframe thead th {\n",
       "        text-align: right;\n",
       "    }\n",
       "</style>\n",
       "<table border=\"1\" class=\"dataframe\">\n",
       "  <thead>\n",
       "    <tr style=\"text-align: right;\">\n",
       "      <th></th>\n",
       "      <th>F1</th>\n",
       "      <th>Precision</th>\n",
       "      <th>Recall</th>\n",
       "    </tr>\n",
       "  </thead>\n",
       "  <tbody>\n",
       "    <tr>\n",
       "      <th>0</th>\n",
       "      <td>0.83</td>\n",
       "      <td>0.83</td>\n",
       "      <td>0.83</td>\n",
       "    </tr>\n",
       "  </tbody>\n",
       "</table>\n",
       "</div>"
      ],
      "text/plain": [
       "     F1  Precision  Recall\n",
       "0  0.83       0.83    0.83"
      ]
     },
     "execution_count": 91,
     "metadata": {},
     "output_type": "execute_result"
    }
   ],
   "source": [
    "resultss['Original'][0]"
   ]
  },
  {
   "cell_type": "code",
   "execution_count": 92,
   "metadata": {},
   "outputs": [
    {
     "data": {
      "text/html": [
       "<div>\n",
       "<style scoped>\n",
       "    .dataframe tbody tr th:only-of-type {\n",
       "        vertical-align: middle;\n",
       "    }\n",
       "\n",
       "    .dataframe tbody tr th {\n",
       "        vertical-align: top;\n",
       "    }\n",
       "\n",
       "    .dataframe thead th {\n",
       "        text-align: right;\n",
       "    }\n",
       "</style>\n",
       "<table border=\"1\" class=\"dataframe\">\n",
       "  <thead>\n",
       "    <tr style=\"text-align: right;\">\n",
       "      <th></th>\n",
       "      <th>F1</th>\n",
       "      <th>Precision</th>\n",
       "      <th>Recall</th>\n",
       "    </tr>\n",
       "  </thead>\n",
       "  <tbody>\n",
       "    <tr>\n",
       "      <th>0</th>\n",
       "      <td>0.805</td>\n",
       "      <td>0.805</td>\n",
       "      <td>0.805</td>\n",
       "    </tr>\n",
       "  </tbody>\n",
       "</table>\n",
       "</div>"
      ],
      "text/plain": [
       "      F1  Precision  Recall\n",
       "0  0.805      0.805   0.805"
      ]
     },
     "execution_count": 92,
     "metadata": {},
     "output_type": "execute_result"
    }
   ],
   "source": [
    "resultss['Traduzido'][0]"
   ]
  },
  {
   "cell_type": "code",
   "execution_count": 94,
   "metadata": {},
   "outputs": [
    {
     "data": {
      "image/png": "[encoded data removed]",
      "text/plain": [
       "<Figure size 640x480 with 1 Axes>"
      ]
     },
     "metadata": {},
     "output_type": "display_data"
    }
   ],
   "source": [
    "matrizConfusaoB2wOriginal = confusion_matrix(b2w['polarity'], b2w['polarityMultiClassifierReviewsOriginal'])\n",
    "\n",
    "sns.heatmap(matrizConfusaoB2wOriginal, annot=True, fmt=\"d\", cmap=\"Reds\", cbar=False, square=True,\n",
    "             xticklabels=[\"Negativo\",\"Neutro\",\"Positivo\"], yticklabels=[\"Negativo\",\"Neutro\",\"Positivo\"])\n",
    "\n",
    "plt.xlabel(\"Rótulos Previstos\")\n",
    "plt.ylabel(\"Rótulos Verdadeiros\")\n",
    "plt.title(\"Idioma Origem\")\n",
    "\n",
    "fig3 = plt.gcf()\n",
    "\n",
    "plt.show()\n"
   ]
  },
  {
   "cell_type": "code",
   "execution_count": 98,
   "metadata": {},
   "outputs": [
    {
     "data": {
      "image/png": "[encoded data removed]",
      "text/plain": [
       "<Figure size 640x480 with 1 Axes>"
      ]
     },
     "metadata": {},
     "output_type": "display_data"
    }
   ],
   "source": [
    "matrizConfusaoB2wTraduzido = confusion_matrix(b2w['polarity'], b2w['polarityMultiClassifierReviewsTraduzido'])\n",
    "\n",
    "sns.heatmap(matrizConfusaoB2wTraduzido, annot=True, fmt=\"d\", cmap=\"Reds\", cbar=False, square=True,\n",
    "              xticklabels=[\"Negativo\",\"Neutro\" ,\"Positivo\"], yticklabels=[\"Negativo\",\"Neutro\",\"Positivo\"])\n",
    "\n",
    "plt.xlabel(\"Rótulos Previstos\")\n",
    "plt.ylabel(\"Rótulos Verdadeiros\")\n",
    "plt.title(\"Idioma Traduzido\")\n",
    "\n",
    "fig4 = plt.gcf()\n",
    "\n",
    "plt.show()"
   ]
  },
  {
   "cell_type": "code",
   "execution_count": null,
   "metadata": {},
   "outputs": [],
   "source": [
    "tweetSent.to_csv('tweetSentBrFinal.csv', index=False)\n",
    "b2w.to_csv('b2wFinal.csv', index=False)"
   ]
  }
 ],
 "metadata": {
  "kernelspec": {
   "display_name": "Python 3",
   "language": "python",
   "name": "python3"
  },
  "language_info": {
   "codemirror_mode": {
    "name": "ipython",
    "version": 3
   },
   "file_extension": ".py",
   "mimetype": "text/x-python",
   "name": "python",
   "nbconvert_exporter": "python",
   "pygments_lexer": "ipython3",
   "version": "3.8.10"
  },
  "orig_nbformat": 4
 },
 "nbformat": 4,
 "nbformat_minor": 2
}
