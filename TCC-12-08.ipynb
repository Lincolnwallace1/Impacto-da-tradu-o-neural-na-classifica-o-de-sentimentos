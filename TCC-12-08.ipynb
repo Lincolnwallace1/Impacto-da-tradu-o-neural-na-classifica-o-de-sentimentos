{
 "cells": [
  {
   "attachments": {},
   "cell_type": "markdown",
   "metadata": {},
   "source": [
    "Codigo do tcc"
   ]
  },
  {
   "cell_type": "code",
   "execution_count": 1,
   "metadata": {},
   "outputs": [
    {
     "name": "stdout",
     "output_type": "stream",
     "text": [
      "Requirement already satisfied: transformers in /home/lincoln81/.local/lib/python3.8/site-packages (4.31.0)\n",
      "Requirement already satisfied: packaging>=20.0 in /usr/lib/python3/dist-packages (from transformers) (20.3)\n",
      "Requirement already satisfied: huggingface-hub<1.0,>=0.14.1 in /home/lincoln81/.local/lib/python3.8/site-packages (from transformers) (0.16.4)\n",
      "Requirement already satisfied: filelock in /home/lincoln81/.local/lib/python3.8/site-packages (from transformers) (3.12.2)\n",
      "Requirement already satisfied: regex!=2019.12.17 in /home/lincoln81/.local/lib/python3.8/site-packages (from transformers) (2023.8.8)\n",
      "Requirement already satisfied: safetensors>=0.3.1 in /home/lincoln81/.local/lib/python3.8/site-packages (from transformers) (0.3.2)\n",
      "Requirement already satisfied: numpy>=1.17 in /home/lincoln81/.local/lib/python3.8/site-packages (from transformers) (1.24.3)\n",
      "Requirement already satisfied: tokenizers!=0.11.3,<0.14,>=0.11.1 in /home/lincoln81/.local/lib/python3.8/site-packages (from transformers) (0.13.3)\n",
      "Requirement already satisfied: tqdm>=4.27 in /home/lincoln81/.local/lib/python3.8/site-packages (from transformers) (4.66.1)\n",
      "Requirement already satisfied: requests in /usr/lib/python3/dist-packages (from transformers) (2.22.0)\n",
      "Requirement already satisfied: pyyaml>=5.1 in /usr/lib/python3/dist-packages (from transformers) (5.3.1)\n",
      "Requirement already satisfied: typing-extensions>=3.7.4.3 in /home/lincoln81/.local/lib/python3.8/site-packages (from huggingface-hub<1.0,>=0.14.1->transformers) (4.5.0)\n",
      "Requirement already satisfied: fsspec in /home/lincoln81/.local/lib/python3.8/site-packages (from huggingface-hub<1.0,>=0.14.1->transformers) (2023.6.0)\n",
      "Requirement already satisfied: dl-translate in /home/lincoln81/.local/lib/python3.8/site-packages (0.3.0)\n",
      "Requirement already satisfied: torch>=2.0.0 in /home/lincoln81/.local/lib/python3.8/site-packages (from dl-translate) (2.0.1)\n",
      "Requirement already satisfied: tqdm in /home/lincoln81/.local/lib/python3.8/site-packages (from dl-translate) (4.66.1)\n",
      "Requirement already satisfied: transformers>=4.30.2 in /home/lincoln81/.local/lib/python3.8/site-packages (from dl-translate) (4.31.0)\n",
      "Requirement already satisfied: protobuf in /home/lincoln81/.local/lib/python3.8/site-packages (from dl-translate) (4.24.0)\n",
      "Requirement already satisfied: sentencepiece in /home/lincoln81/.local/lib/python3.8/site-packages (from dl-translate) (0.1.99)\n",
      "Requirement already satisfied: nvidia-curand-cu11==10.2.10.91; platform_system == \"Linux\" and platform_machine == \"x86_64\" in /home/lincoln81/.local/lib/python3.8/site-packages (from torch>=2.0.0->dl-translate) (10.2.10.91)\n",
      "Requirement already satisfied: filelock in /home/lincoln81/.local/lib/python3.8/site-packages (from torch>=2.0.0->dl-translate) (3.12.2)\n",
      "Requirement already satisfied: nvidia-cuda-runtime-cu11==11.7.99; platform_system == \"Linux\" and platform_machine == \"x86_64\" in /home/lincoln81/.local/lib/python3.8/site-packages (from torch>=2.0.0->dl-translate) (11.7.99)\n",
      "Requirement already satisfied: networkx in /home/lincoln81/.local/lib/python3.8/site-packages (from torch>=2.0.0->dl-translate) (3.1)\n",
      "Requirement already satisfied: triton==2.0.0; platform_system == \"Linux\" and platform_machine == \"x86_64\" in /home/lincoln81/.local/lib/python3.8/site-packages (from torch>=2.0.0->dl-translate) (2.0.0)\n",
      "Requirement already satisfied: nvidia-cudnn-cu11==8.5.0.96; platform_system == \"Linux\" and platform_machine == \"x86_64\" in /home/lincoln81/.local/lib/python3.8/site-packages (from torch>=2.0.0->dl-translate) (8.5.0.96)\n",
      "Requirement already satisfied: nvidia-cuda-cupti-cu11==11.7.101; platform_system == \"Linux\" and platform_machine == \"x86_64\" in /home/lincoln81/.local/lib/python3.8/site-packages (from torch>=2.0.0->dl-translate) (11.7.101)\n",
      "Requirement already satisfied: nvidia-cublas-cu11==11.10.3.66; platform_system == \"Linux\" and platform_machine == \"x86_64\" in /home/lincoln81/.local/lib/python3.8/site-packages (from torch>=2.0.0->dl-translate) (11.10.3.66)\n",
      "Requirement already satisfied: nvidia-cusparse-cu11==11.7.4.91; platform_system == \"Linux\" and platform_machine == \"x86_64\" in /home/lincoln81/.local/lib/python3.8/site-packages (from torch>=2.0.0->dl-translate) (11.7.4.91)\n",
      "Requirement already satisfied: nvidia-cuda-nvrtc-cu11==11.7.99; platform_system == \"Linux\" and platform_machine == \"x86_64\" in /home/lincoln81/.local/lib/python3.8/site-packages (from torch>=2.0.0->dl-translate) (11.7.99)\n",
      "Requirement already satisfied: nvidia-nvtx-cu11==11.7.91; platform_system == \"Linux\" and platform_machine == \"x86_64\" in /home/lincoln81/.local/lib/python3.8/site-packages (from torch>=2.0.0->dl-translate) (11.7.91)\n",
      "Requirement already satisfied: nvidia-nccl-cu11==2.14.3; platform_system == \"Linux\" and platform_machine == \"x86_64\" in /home/lincoln81/.local/lib/python3.8/site-packages (from torch>=2.0.0->dl-translate) (2.14.3)\n",
      "Requirement already satisfied: typing-extensions in /home/lincoln81/.local/lib/python3.8/site-packages (from torch>=2.0.0->dl-translate) (4.5.0)\n",
      "Requirement already satisfied: sympy in /home/lincoln81/.local/lib/python3.8/site-packages (from torch>=2.0.0->dl-translate) (1.12)\n",
      "Requirement already satisfied: nvidia-cusolver-cu11==11.4.0.1; platform_system == \"Linux\" and platform_machine == \"x86_64\" in /home/lincoln81/.local/lib/python3.8/site-packages (from torch>=2.0.0->dl-translate) (11.4.0.1)\n",
      "Requirement already satisfied: jinja2 in /usr/lib/python3/dist-packages (from torch>=2.0.0->dl-translate) (2.10.1)\n",
      "Requirement already satisfied: nvidia-cufft-cu11==10.9.0.58; platform_system == \"Linux\" and platform_machine == \"x86_64\" in /home/lincoln81/.local/lib/python3.8/site-packages (from torch>=2.0.0->dl-translate) (10.9.0.58)\n",
      "Requirement already satisfied: regex!=2019.12.17 in /home/lincoln81/.local/lib/python3.8/site-packages (from transformers>=4.30.2->dl-translate) (2023.8.8)\n",
      "Requirement already satisfied: numpy>=1.17 in /home/lincoln81/.local/lib/python3.8/site-packages (from transformers>=4.30.2->dl-translate) (1.24.3)\n",
      "Requirement already satisfied: requests in /usr/lib/python3/dist-packages (from transformers>=4.30.2->dl-translate) (2.22.0)\n",
      "Requirement already satisfied: tokenizers!=0.11.3,<0.14,>=0.11.1 in /home/lincoln81/.local/lib/python3.8/site-packages (from transformers>=4.30.2->dl-translate) (0.13.3)\n",
      "Requirement already satisfied: pyyaml>=5.1 in /usr/lib/python3/dist-packages (from transformers>=4.30.2->dl-translate) (5.3.1)\n",
      "Requirement already satisfied: safetensors>=0.3.1 in /home/lincoln81/.local/lib/python3.8/site-packages (from transformers>=4.30.2->dl-translate) (0.3.2)\n",
      "Requirement already satisfied: huggingface-hub<1.0,>=0.14.1 in /home/lincoln81/.local/lib/python3.8/site-packages (from transformers>=4.30.2->dl-translate) (0.16.4)\n",
      "Requirement already satisfied: packaging>=20.0 in /usr/lib/python3/dist-packages (from transformers>=4.30.2->dl-translate) (20.3)\n",
      "Requirement already satisfied: setuptools in /usr/lib/python3/dist-packages (from nvidia-curand-cu11==10.2.10.91; platform_system == \"Linux\" and platform_machine == \"x86_64\"->torch>=2.0.0->dl-translate) (45.2.0)\n",
      "Requirement already satisfied: wheel in /usr/lib/python3/dist-packages (from nvidia-curand-cu11==10.2.10.91; platform_system == \"Linux\" and platform_machine == \"x86_64\"->torch>=2.0.0->dl-translate) (0.34.2)\n",
      "Requirement already satisfied: lit in /home/lincoln81/.local/lib/python3.8/site-packages (from triton==2.0.0; platform_system == \"Linux\" and platform_machine == \"x86_64\"->torch>=2.0.0->dl-translate) (16.0.6)\n",
      "Requirement already satisfied: cmake in /home/lincoln81/.local/lib/python3.8/site-packages (from triton==2.0.0; platform_system == \"Linux\" and platform_machine == \"x86_64\"->torch>=2.0.0->dl-translate) (3.27.1)\n",
      "Requirement already satisfied: mpmath>=0.19 in /home/lincoln81/.local/lib/python3.8/site-packages (from sympy->torch>=2.0.0->dl-translate) (1.3.0)\n",
      "Requirement already satisfied: fsspec in /home/lincoln81/.local/lib/python3.8/site-packages (from huggingface-hub<1.0,>=0.14.1->transformers>=4.30.2->dl-translate) (2023.6.0)\n",
      "Requirement already satisfied: emoji in /home/lincoln81/.local/lib/python3.8/site-packages (2.7.0)\n",
      "Requirement already satisfied: tensorflow in /home/lincoln81/.local/lib/python3.8/site-packages (2.13.0)\n",
      "Requirement already satisfied: six>=1.12.0 in /usr/lib/python3/dist-packages (from tensorflow) (1.14.0)\n",
      "Requirement already satisfied: google-pasta>=0.1.1 in /home/lincoln81/.local/lib/python3.8/site-packages (from tensorflow) (0.2.0)\n",
      "Requirement already satisfied: tensorflow-estimator<2.14,>=2.13.0 in /home/lincoln81/.local/lib/python3.8/site-packages (from tensorflow) (2.13.0)\n",
      "Requirement already satisfied: typing-extensions<4.6.0,>=3.6.6 in /home/lincoln81/.local/lib/python3.8/site-packages (from tensorflow) (4.5.0)\n",
      "Requirement already satisfied: libclang>=13.0.0 in /home/lincoln81/.local/lib/python3.8/site-packages (from tensorflow) (16.0.6)\n",
      "Requirement already satisfied: protobuf!=4.21.0,!=4.21.1,!=4.21.2,!=4.21.3,!=4.21.4,!=4.21.5,<5.0.0dev,>=3.20.3 in /home/lincoln81/.local/lib/python3.8/site-packages (from tensorflow) (4.24.0)\n",
      "Requirement already satisfied: setuptools in /usr/lib/python3/dist-packages (from tensorflow) (45.2.0)\n",
      "Requirement already satisfied: tensorflow-io-gcs-filesystem>=0.23.1; platform_machine != \"arm64\" or platform_system != \"Darwin\" in /home/lincoln81/.local/lib/python3.8/site-packages (from tensorflow) (0.33.0)\n",
      "Requirement already satisfied: grpcio<2.0,>=1.24.3 in /home/lincoln81/.local/lib/python3.8/site-packages (from tensorflow) (1.57.0)\n",
      "Requirement already satisfied: opt-einsum>=2.3.2 in /home/lincoln81/.local/lib/python3.8/site-packages (from tensorflow) (3.3.0)\n",
      "Requirement already satisfied: keras<2.14,>=2.13.1 in /home/lincoln81/.local/lib/python3.8/site-packages (from tensorflow) (2.13.1)\n",
      "Requirement already satisfied: wrapt>=1.11.0 in /home/lincoln81/.local/lib/python3.8/site-packages (from tensorflow) (1.15.0)\n",
      "Requirement already satisfied: termcolor>=1.1.0 in /home/lincoln81/.local/lib/python3.8/site-packages (from tensorflow) (2.3.0)\n",
      "Requirement already satisfied: absl-py>=1.0.0 in /home/lincoln81/.local/lib/python3.8/site-packages (from tensorflow) (1.4.0)\n",
      "Requirement already satisfied: numpy<=1.24.3,>=1.22 in /home/lincoln81/.local/lib/python3.8/site-packages (from tensorflow) (1.24.3)\n",
      "Requirement already satisfied: tensorboard<2.14,>=2.13 in /home/lincoln81/.local/lib/python3.8/site-packages (from tensorflow) (2.13.0)\n",
      "Requirement already satisfied: gast<=0.4.0,>=0.2.1 in /home/lincoln81/.local/lib/python3.8/site-packages (from tensorflow) (0.4.0)\n",
      "Requirement already satisfied: h5py>=2.9.0 in /home/lincoln81/.local/lib/python3.8/site-packages (from tensorflow) (3.9.0)\n",
      "Requirement already satisfied: astunparse>=1.6.0 in /home/lincoln81/.local/lib/python3.8/site-packages (from tensorflow) (1.6.3)\n",
      "Requirement already satisfied: flatbuffers>=23.1.21 in /home/lincoln81/.local/lib/python3.8/site-packages (from tensorflow) (23.5.26)\n",
      "Requirement already satisfied: packaging in /usr/lib/python3/dist-packages (from tensorflow) (20.3)\n",
      "Requirement already satisfied: google-auth-oauthlib<1.1,>=0.5 in /home/lincoln81/.local/lib/python3.8/site-packages (from tensorboard<2.14,>=2.13->tensorflow) (1.0.0)\n",
      "Requirement already satisfied: tensorboard-data-server<0.8.0,>=0.7.0 in /home/lincoln81/.local/lib/python3.8/site-packages (from tensorboard<2.14,>=2.13->tensorflow) (0.7.1)\n",
      "Requirement already satisfied: wheel>=0.26 in /usr/lib/python3/dist-packages (from tensorboard<2.14,>=2.13->tensorflow) (0.34.2)\n",
      "Requirement already satisfied: werkzeug>=1.0.1 in /home/lincoln81/.local/lib/python3.8/site-packages (from tensorboard<2.14,>=2.13->tensorflow) (2.3.6)\n",
      "Requirement already satisfied: requests<3,>=2.21.0 in /usr/lib/python3/dist-packages (from tensorboard<2.14,>=2.13->tensorflow) (2.22.0)\n",
      "Requirement already satisfied: markdown>=2.6.8 in /usr/lib/python3/dist-packages (from tensorboard<2.14,>=2.13->tensorflow) (3.1.1)\n",
      "Requirement already satisfied: google-auth<3,>=1.6.3 in /home/lincoln81/.local/lib/python3.8/site-packages (from tensorboard<2.14,>=2.13->tensorflow) (2.22.0)\n",
      "Requirement already satisfied: requests-oauthlib>=0.7.0 in /home/lincoln81/.local/lib/python3.8/site-packages (from google-auth-oauthlib<1.1,>=0.5->tensorboard<2.14,>=2.13->tensorflow) (1.3.1)\n",
      "Requirement already satisfied: MarkupSafe>=2.1.1 in /home/lincoln81/.local/lib/python3.8/site-packages (from werkzeug>=1.0.1->tensorboard<2.14,>=2.13->tensorflow) (2.1.3)\n",
      "Requirement already satisfied: urllib3<2.0 in /usr/lib/python3/dist-packages (from google-auth<3,>=1.6.3->tensorboard<2.14,>=2.13->tensorflow) (1.25.8)\n",
      "Requirement already satisfied: rsa<5,>=3.1.4 in /home/lincoln81/.local/lib/python3.8/site-packages (from google-auth<3,>=1.6.3->tensorboard<2.14,>=2.13->tensorflow) (4.9)\n",
      "Requirement already satisfied: pyasn1-modules>=0.2.1 in /usr/lib/python3/dist-packages (from google-auth<3,>=1.6.3->tensorboard<2.14,>=2.13->tensorflow) (0.2.1)\n",
      "Requirement already satisfied: cachetools<6.0,>=2.0.0 in /home/lincoln81/.local/lib/python3.8/site-packages (from google-auth<3,>=1.6.3->tensorboard<2.14,>=2.13->tensorflow) (5.3.1)\n",
      "Requirement already satisfied: oauthlib>=3.0.0 in /usr/lib/python3/dist-packages (from requests-oauthlib>=0.7.0->google-auth-oauthlib<1.1,>=0.5->tensorboard<2.14,>=2.13->tensorflow) (3.1.0)\n",
      "Requirement already satisfied: pyasn1>=0.1.3 in /usr/lib/python3/dist-packages (from rsa<5,>=3.1.4->google-auth<3,>=1.6.3->tensorboard<2.14,>=2.13->tensorflow) (0.4.2)\n",
      "Requirement already satisfied: numpy in /home/lincoln81/.local/lib/python3.8/site-packages (1.24.3)\n",
      "Requirement already satisfied: tensorflow_hub in /home/lincoln81/.local/lib/python3.8/site-packages (0.14.0)\n",
      "Requirement already satisfied: protobuf>=3.19.6 in /home/lincoln81/.local/lib/python3.8/site-packages (from tensorflow_hub) (4.24.0)\n",
      "Requirement already satisfied: numpy>=1.12.0 in /home/lincoln81/.local/lib/python3.8/site-packages (from tensorflow_hub) (1.24.3)\n"
     ]
    }
   ],
   "source": [
    "!pip3 install transformers\n",
    "!pip3 install dl-translate\n",
    "!pip3 install emoji\n",
    "!pip3 install tensorflow\n",
    "!pip3 install numpy\n",
    "!pip3 install tensorflow_hub"
   ]
  },
  {
   "cell_type": "code",
   "execution_count": 2,
   "metadata": {},
   "outputs": [
    {
     "name": "stderr",
     "output_type": "stream",
     "text": [
      "2023-08-21 09:15:49.033661: I tensorflow/tsl/cuda/cudart_stub.cc:28] Could not find cuda drivers on your machine, GPU will not be used.\n",
      "2023-08-21 09:15:49.426335: I tensorflow/tsl/cuda/cudart_stub.cc:28] Could not find cuda drivers on your machine, GPU will not be used.\n",
      "2023-08-21 09:15:49.428117: I tensorflow/core/platform/cpu_feature_guard.cc:182] This TensorFlow binary is optimized to use available CPU instructions in performance-critical operations.\n",
      "To enable the following instructions: AVX2 FMA, in other operations, rebuild TensorFlow with the appropriate compiler flags.\n",
      "2023-08-21 09:15:52.036972: W tensorflow/compiler/tf2tensorrt/utils/py_utils.cc:38] TF-TRT Warning: Could not find TensorRT\n",
      "/home/lincoln81/.local/lib/python3.8/site-packages/tqdm/auto.py:21: TqdmWarning: IProgress not found. Please update jupyter and ipywidgets. See https://ipywidgets.readthedocs.io/en/stable/user_install.html\n",
      "  from .autonotebook import tqdm as notebook_tqdm\n"
     ]
    }
   ],
   "source": [
    "import tensorflow as tf\n",
    "import numpy as np\n",
    "import pandas as pd\n",
    "import dl_translate as dlt"
   ]
  },
  {
   "cell_type": "code",
   "execution_count": 3,
   "metadata": {},
   "outputs": [],
   "source": [
    "mt = dlt.TranslationModel()"
   ]
  },
  {
   "cell_type": "code",
   "execution_count": 38,
   "metadata": {},
   "outputs": [],
   "source": [
    "def translater_frases(frase):\n",
    "  text_hi = frase\n",
    "  translater = mt.translate(text_hi, source=dlt.lang.PORTUGUESE, target=dlt.lang.ENGLISH)\n",
    "  return translater\n",
    "\n",
    "def classification_frasesR(frase):\n",
    "  input = tokenizerR.encode(frase, return_tensors=\"tf\")\n",
    "  output = modelR.predict(input)[0]\n",
    "  prediction = tf.nn.softmax(output, axis=1).numpy()\n",
    "  sentiment = np.argmax(prediction) \n",
    "\n",
    "  return sentiment\n",
    "\n",
    "def classification_frasesM(frase):\n",
    "  print(frase)\n",
    "  inputs = tokenizerM(frase, return_tensors=\"tf\")\n",
    "  outputs = modelM(inputs)\n",
    "  logits = outputs.logits\n",
    "  sentiment = tf.argmax(logits, axis=1).numpy()[0]\n",
    "\n",
    "  return sentiment\n"
   ]
  },
  {
   "cell_type": "markdown",
   "metadata": {},
   "source": [
    "## Modelo de classificação de Tweets, treinado com 23 milhões de exemplos em inglês, sobre covid."
   ]
  },
  {
   "cell_type": "code",
   "execution_count": 4,
   "metadata": {},
   "outputs": [
    {
     "name": "stderr",
     "output_type": "stream",
     "text": [
      "2023-08-21 09:16:03.118682: I tensorflow/compiler/xla/stream_executor/cuda/cuda_gpu_executor.cc:981] could not open file to read NUMA node: /sys/bus/pci/devices/0000:01:00.0/numa_node\n",
      "Your kernel may have been built without NUMA support.\n",
      "2023-08-21 09:16:03.118933: W tensorflow/core/common_runtime/gpu/gpu_device.cc:1960] Cannot dlopen some GPU libraries. Please make sure the missing libraries mentioned above are installed properly if you would like to use GPU. Follow the guide at https://www.tensorflow.org/install/gpu for how to download and setup the required libraries for your platform.\n",
      "Skipping registering GPU devices...\n",
      "All model checkpoint layers were used when initializing TFRobertaForSequenceClassification.\n",
      "\n",
      "All the layers of TFRobertaForSequenceClassification were initialized from the model checkpoint at rabindralamsal/BERTsent.\n",
      "If your task is similar to the task the model of the checkpoint was trained on, you can already use TFRobertaForSequenceClassification for predictions without further training.\n"
     ]
    }
   ],
   "source": [
    "from transformers import AutoTokenizer, TFAutoModelForSequenceClassification\n",
    "  \n",
    "tokenizerR = AutoTokenizer.from_pretrained(\"rabindralamsal/BERTsent\")\n",
    "\n",
    "modelR = TFAutoModelForSequenceClassification.from_pretrained(\"rabindralamsal/BERTsent\")\n"
   ]
  },
  {
   "cell_type": "code",
   "execution_count": 6,
   "metadata": {},
   "outputs": [
    {
     "name": "stdout",
     "output_type": "stream",
     "text": [
      "1/1 [==============================] - 7s 7s/step\n",
      "[[0.97267216 0.02368475 0.00364307]]\n",
      "0\n"
     ]
    }
   ],
   "source": [
    "example_tweet = \"The NEET exams show our Govt in a poor light: unresponsiveness to genuine concerns; admit cards not delivered to aspirants in time; failure to provide centres in towns they reside, thus requiring unnecessary & risky travels. What a disgrace to treat our #Covid warriors like this!\"\n",
    "    \n",
    "input = tokenizerR.encode(example_tweet, return_tensors=\"tf\")\n",
    "output = modelR.predict(input)[0]\n",
    "prediction = tf.nn.softmax(output, axis=1).numpy()\n",
    "sentiment = np.argmax(prediction)\n",
    "    \n",
    "print(prediction)\n",
    "print(sentiment)"
   ]
  },
  {
   "cell_type": "markdown",
   "metadata": {},
   "source": [
    "## XLM-RoBERTa é uma versão multilíngue do RoBERTa. Ele é pré-treinado em 2,5 TB de dados CommonCrawl filtrados contendo 100 idiomas."
   ]
  },
  {
   "cell_type": "code",
   "execution_count": 5,
   "metadata": {},
   "outputs": [
    {
     "name": "stderr",
     "output_type": "stream",
     "text": [
      "All PyTorch model weights were used when initializing TFXLMRobertaForSequenceClassification.\n",
      "\n",
      "Some weights or buffers of the TF 2.0 model TFXLMRobertaForSequenceClassification were not initialized from the PyTorch model and are newly initialized: ['classifier.dense.weight', 'classifier.dense.bias', 'classifier.out_proj.weight', 'classifier.out_proj.bias']\n",
      "You should probably TRAIN this model on a down-stream task to be able to use it for predictions and inference.\n"
     ]
    }
   ],
   "source": [
    "tokenizerM = AutoTokenizer.from_pretrained(\"xlm-roberta-base\")\n",
    "modelM = TFAutoModelForSequenceClassification.from_pretrained(\"xlm-roberta-base\")"
   ]
  },
  {
   "cell_type": "code",
   "execution_count": 6,
   "metadata": {},
   "outputs": [
    {
     "name": "stdout",
     "output_type": "stream",
     "text": [
      "Predicted Sentiment: Negative\n"
     ]
    }
   ],
   "source": [
    "texto = \"what a great day, what a beautiful day\"\n",
    "inputs = tokenizerM(texto, return_tensors=\"tf\")\n",
    "\n",
    "outputs = modelM(inputs)\n",
    "logits = outputs.logits\n",
    "\n",
    "sentimentos = [\"Negative\", \"Neutral\", \"Positive\"]\n",
    "indice_sentimento = tf.argmax(logits, axis=1).numpy()[0]\n",
    "sentimento_predito = sentimentos[indice_sentimento]\n",
    "\n",
    "print(f\"Predicted Sentiment: {sentimento_predito}\")\n"
   ]
  },
  {
   "cell_type": "code",
   "execution_count": 7,
   "metadata": {},
   "outputs": [],
   "source": [
    "dataset = pd.read_csv(\"./TweetSentBR.csv\")"
   ]
  },
  {
   "cell_type": "code",
   "execution_count": 8,
   "metadata": {},
   "outputs": [],
   "source": [
    "dataset.drop(columns = ['id', 'id_twitter'],inplace=True)"
   ]
  },
  {
   "cell_type": "code",
   "execution_count": 9,
   "metadata": {},
   "outputs": [
    {
     "data": {
      "text/html": [
       "<div>\n",
       "<style scoped>\n",
       "    .dataframe tbody tr th:only-of-type {\n",
       "        vertical-align: middle;\n",
       "    }\n",
       "\n",
       "    .dataframe tbody tr th {\n",
       "        vertical-align: top;\n",
       "    }\n",
       "\n",
       "    .dataframe thead th {\n",
       "        text-align: right;\n",
       "    }\n",
       "</style>\n",
       "<table border=\"1\" class=\"dataframe\">\n",
       "  <thead>\n",
       "    <tr style=\"text-align: right;\">\n",
       "      <th></th>\n",
       "      <th>text</th>\n",
       "      <th>sentiment</th>\n",
       "    </tr>\n",
       "  </thead>\n",
       "  <tbody>\n",
       "    <tr>\n",
       "      <th>0</th>\n",
       "      <td>Que coisa linda! O Programa #encontro estava m...</td>\n",
       "      <td>1</td>\n",
       "    </tr>\n",
       "    <tr>\n",
       "      <th>1</th>\n",
       "      <td>Por mais #Encontro com as Irmãs Galvão, adorei...</td>\n",
       "      <td>1</td>\n",
       "    </tr>\n",
       "    <tr>\n",
       "      <th>2</th>\n",
       "      <td>Mr. CATRA @OficialMrCatra lançando sua nova mú...</td>\n",
       "      <td>1</td>\n",
       "    </tr>\n",
       "    <tr>\n",
       "      <th>3</th>\n",
       "      <td>quem viu aquela lutadora modela barbuda tatuad...</td>\n",
       "      <td>0</td>\n",
       "    </tr>\n",
       "    <tr>\n",
       "      <th>4</th>\n",
       "      <td>Tô passada com esse cara.... quanta merda pode...</td>\n",
       "      <td>-1</td>\n",
       "    </tr>\n",
       "    <tr>\n",
       "      <th>...</th>\n",
       "      <td>...</td>\n",
       "      <td>...</td>\n",
       "    </tr>\n",
       "    <tr>\n",
       "      <th>11560</th>\n",
       "      <td>eu ja to aqui pronto pro #MasterChefBR mas ain...</td>\n",
       "      <td>-1</td>\n",
       "    </tr>\n",
       "    <tr>\n",
       "      <th>11561</th>\n",
       "      <td>MALUCO! Uma coisa que eu não tenho coragem é e...</td>\n",
       "      <td>-1</td>\n",
       "    </tr>\n",
       "    <tr>\n",
       "      <th>11562</th>\n",
       "      <td>#MaisVoce @ANAMARIABRAGA  está linda @RedeGlobo</td>\n",
       "      <td>1</td>\n",
       "    </tr>\n",
       "    <tr>\n",
       "      <th>11563</th>\n",
       "      <td>Que orgulho de ti, @sportrecife! #Encontro</td>\n",
       "      <td>1</td>\n",
       "    </tr>\n",
       "    <tr>\n",
       "      <th>11564</th>\n",
       "      <td>Gente olha o bíceps desse padre #ConversaComBial</td>\n",
       "      <td>1</td>\n",
       "    </tr>\n",
       "  </tbody>\n",
       "</table>\n",
       "<p>11565 rows × 2 columns</p>\n",
       "</div>"
      ],
      "text/plain": [
       "                                                    text sentiment\n",
       "0      Que coisa linda! O Programa #encontro estava m...         1\n",
       "1      Por mais #Encontro com as Irmãs Galvão, adorei...         1\n",
       "2      Mr. CATRA @OficialMrCatra lançando sua nova mú...         1\n",
       "3      quem viu aquela lutadora modela barbuda tatuad...         0\n",
       "4      Tô passada com esse cara.... quanta merda pode...        -1\n",
       "...                                                  ...       ...\n",
       "11560  eu ja to aqui pronto pro #MasterChefBR mas ain...        -1\n",
       "11561  MALUCO! Uma coisa que eu não tenho coragem é e...        -1\n",
       "11562    #MaisVoce @ANAMARIABRAGA  está linda @RedeGlobo         1\n",
       "11563         Que orgulho de ti, @sportrecife! #Encontro         1\n",
       "11564   Gente olha o bíceps desse padre #ConversaComBial         1\n",
       "\n",
       "[11565 rows x 2 columns]"
      ]
     },
     "execution_count": 9,
     "metadata": {},
     "output_type": "execute_result"
    }
   ],
   "source": [
    "dataset"
   ]
  },
  {
   "cell_type": "code",
   "execution_count": 10,
   "metadata": {},
   "outputs": [],
   "source": [
    "positive = dataset[dataset['sentiment'] == '1'].head(10)"
   ]
  },
  {
   "cell_type": "code",
   "execution_count": 11,
   "metadata": {},
   "outputs": [],
   "source": [
    "positive['textEnglish'] = positive['text'].apply(translater_frases)"
   ]
  },
  {
   "cell_type": "code",
   "execution_count": 12,
   "metadata": {},
   "outputs": [
    {
     "name": "stdout",
     "output_type": "stream",
     "text": [
      "1/1 [==============================] - 2s 2s/step\n",
      "1/1 [==============================] - 0s 61ms/step\n",
      "1/1 [==============================] - 0s 81ms/step\n",
      "1/1 [==============================] - 0s 58ms/step\n",
      "1/1 [==============================] - 0s 64ms/step\n",
      "1/1 [==============================] - 0s 64ms/step\n",
      "1/1 [==============================] - 0s 60ms/step\n",
      "1/1 [==============================] - 0s 60ms/step\n",
      "1/1 [==============================] - 0s 60ms/step\n",
      "1/1 [==============================] - 0s 58ms/step\n"
     ]
    }
   ],
   "source": [
    "positive['sentimentEnglish'] = positive['textEnglish'].apply(classification_frasesR)"
   ]
  },
  {
   "cell_type": "code",
   "execution_count": 13,
   "metadata": {},
   "outputs": [],
   "source": [
    "positive['sentimentEnglish'] = positive['sentimentEnglish'].replace(2, '1').replace(0, '-1').replace(1, '0')"
   ]
  },
  {
   "cell_type": "code",
   "execution_count": 14,
   "metadata": {},
   "outputs": [],
   "source": [
    "nomepositivo= 'positive.xlsx'\n",
    "positive.to_excel(nomepositivo, index=False)"
   ]
  },
  {
   "cell_type": "code",
   "execution_count": 15,
   "metadata": {},
   "outputs": [],
   "source": [
    "negative = dataset[dataset['sentiment'] == '-1'].head(10)"
   ]
  },
  {
   "cell_type": "code",
   "execution_count": 16,
   "metadata": {},
   "outputs": [],
   "source": [
    "negative['textEnglish'] = negative['text'].apply(translater_frases)"
   ]
  },
  {
   "cell_type": "code",
   "execution_count": 17,
   "metadata": {},
   "outputs": [
    {
     "name": "stdout",
     "output_type": "stream",
     "text": [
      "1/1 [==============================] - 0s 73ms/step\n",
      "1/1 [==============================] - 0s 106ms/step\n",
      "1/1 [==============================] - 0s 99ms/step\n",
      "1/1 [==============================] - 0s 86ms/step\n",
      "1/1 [==============================] - 0s 74ms/step\n",
      "1/1 [==============================] - 0s 70ms/step\n",
      "1/1 [==============================] - 0s 98ms/step\n",
      "1/1 [==============================] - 0s 95ms/step\n",
      "1/1 [==============================] - 0s 108ms/step\n",
      "1/1 [==============================] - 0s 111ms/step\n"
     ]
    }
   ],
   "source": [
    "negative['sentimentEnglish'] = negative['textEnglish'].apply(classification_frasesR)"
   ]
  },
  {
   "cell_type": "code",
   "execution_count": 18,
   "metadata": {},
   "outputs": [],
   "source": [
    "negative['sentimentEnglish'] = negative['sentimentEnglish'].replace(2, '1').replace(0, '-1').replace(1, '0')"
   ]
  },
  {
   "cell_type": "code",
   "execution_count": 19,
   "metadata": {},
   "outputs": [],
   "source": [
    "\n",
    "negative.to_excel('negative.xlsx', index=False)"
   ]
  },
  {
   "cell_type": "code",
   "execution_count": 12,
   "metadata": {},
   "outputs": [],
   "source": [
    "dataset = pd.read_csv(\"./datasetcompolaridade.csv\")"
   ]
  },
  {
   "cell_type": "code",
   "execution_count": 13,
   "metadata": {},
   "outputs": [],
   "source": [
    "dataset.drop(columns = ['Unnamed: 0', 'tweets_translater_unicamp'],inplace=True)"
   ]
  },
  {
   "cell_type": "code",
   "execution_count": 15,
   "metadata": {},
   "outputs": [],
   "source": [
    "positive = dataset[dataset['polaridade'] == 1].head(100)"
   ]
  },
  {
   "cell_type": "code",
   "execution_count": 17,
   "metadata": {},
   "outputs": [],
   "source": [
    "negative = dataset[dataset['polaridade'] == -1].head(100)"
   ]
  },
  {
   "cell_type": "code",
   "execution_count": 19,
   "metadata": {},
   "outputs": [],
   "source": [
    "neutral = dataset[dataset['polaridade'] == 0].head(100)"
   ]
  },
  {
   "cell_type": "code",
   "execution_count": 23,
   "metadata": {},
   "outputs": [],
   "source": [
    "positive['polaridadeClassificationPortugues'] = positive['tweets_original'].apply(classification_frasesM)"
   ]
  },
  {
   "cell_type": "code",
   "execution_count": 25,
   "metadata": {},
   "outputs": [],
   "source": [
    "positive['polaridadeClassificationIngles'] = positive['tweets_translater_face'].apply(classification_frasesM)"
   ]
  },
  {
   "cell_type": "code",
   "execution_count": 27,
   "metadata": {},
   "outputs": [],
   "source": [
    "positive['polaridadeClassificationPortugues'] = positive['polaridadeClassificationPortugues'].replace(2, 1).replace(0, -1).replace(1, 0)"
   ]
  },
  {
   "cell_type": "code",
   "execution_count": 29,
   "metadata": {},
   "outputs": [],
   "source": [
    "positive['polaridadeClassificationIngles'] = positive['polaridadeClassificationIngles'].replace(2, 1).replace(0, -1).replace(1, 0)"
   ]
  },
  {
   "cell_type": "code",
   "execution_count": 30,
   "metadata": {},
   "outputs": [
    {
     "data": {
      "text/html": [
       "<div>\n",
       "<style scoped>\n",
       "    .dataframe tbody tr th:only-of-type {\n",
       "        vertical-align: middle;\n",
       "    }\n",
       "\n",
       "    .dataframe tbody tr th {\n",
       "        vertical-align: top;\n",
       "    }\n",
       "\n",
       "    .dataframe thead th {\n",
       "        text-align: right;\n",
       "    }\n",
       "</style>\n",
       "<table border=\"1\" class=\"dataframe\">\n",
       "  <thead>\n",
       "    <tr style=\"text-align: right;\">\n",
       "      <th></th>\n",
       "      <th>tweets_original</th>\n",
       "      <th>tweets_translater_face</th>\n",
       "      <th>polaridade</th>\n",
       "      <th>polaridadeClassificationPortugues</th>\n",
       "      <th>polaridadeClassificationIngles</th>\n",
       "    </tr>\n",
       "  </thead>\n",
       "  <tbody>\n",
       "    <tr>\n",
       "      <th>0</th>\n",
       "      <td>Que coisa linda! O Programa #encontro estava m...</td>\n",
       "      <td>What a beautiful thing! The #touch program was...</td>\n",
       "      <td>1.0</td>\n",
       "      <td>-1</td>\n",
       "      <td>-1</td>\n",
       "    </tr>\n",
       "    <tr>\n",
       "      <th>1</th>\n",
       "      <td>Por mais #Encontro com as Irmãs Galvão, adorei...</td>\n",
       "      <td>For more I met with the Galvan Sisters, I love...</td>\n",
       "      <td>1.0</td>\n",
       "      <td>-1</td>\n",
       "      <td>-1</td>\n",
       "    </tr>\n",
       "    <tr>\n",
       "      <th>2</th>\n",
       "      <td>Mr. CATRA  lançando sua nova música PPK CHORA ...</td>\n",
       "      <td>Mr. CATRA releases his new song PPK CHORA on k...</td>\n",
       "      <td>1.0</td>\n",
       "      <td>-1</td>\n",
       "      <td>-1</td>\n",
       "    </tr>\n",
       "    <tr>\n",
       "      <th>5</th>\n",
       "      <td>Cibele arrasou, humilhou!! #VideoShowAoVivo</td>\n",
       "      <td>The cave has broken, humiliated!! #VideoShowAo...</td>\n",
       "      <td>1.0</td>\n",
       "      <td>-1</td>\n",
       "      <td>-1</td>\n",
       "    </tr>\n",
       "    <tr>\n",
       "      <th>9</th>\n",
       "      <td>A Cearamirinense mais famosa do Brasil no #Ede...</td>\n",
       "      <td>The most famous Cearamirinense in Brazil at #E...</td>\n",
       "      <td>1.0</td>\n",
       "      <td>-1</td>\n",
       "      <td>-1</td>\n",
       "    </tr>\n",
       "    <tr>\n",
       "      <th>...</th>\n",
       "      <td>...</td>\n",
       "      <td>...</td>\n",
       "      <td>...</td>\n",
       "      <td>...</td>\n",
       "      <td>...</td>\n",
       "    </tr>\n",
       "    <tr>\n",
       "      <th>209</th>\n",
       "      <td>mal começou o programa e eu já tô chorando #Al...</td>\n",
       "      <td>It’s hard to start the program and I’m already...</td>\n",
       "      <td>1.0</td>\n",
       "      <td>-1</td>\n",
       "      <td>-1</td>\n",
       "    </tr>\n",
       "    <tr>\n",
       "      <th>210</th>\n",
       "      <td>Braulio sempre com suas poesias 😍 #Encontro</td>\n",
       "      <td>Braulio always with his poems</td>\n",
       "      <td>1.0</td>\n",
       "      <td>-1</td>\n",
       "      <td>-1</td>\n",
       "    </tr>\n",
       "    <tr>\n",
       "      <th>212</th>\n",
       "      <td>#ConversaComBial\\r\\nAnsiosa pra assistir a con...</td>\n",
       "      <td>#ConversaComBial Anxiosa to watch today's talk...</td>\n",
       "      <td>1.0</td>\n",
       "      <td>-1</td>\n",
       "      <td>-1</td>\n",
       "    </tr>\n",
       "    <tr>\n",
       "      <th>216</th>\n",
       "      <td>Rafael ainda nem nasceu e já escuta  #anjo #40...</td>\n",
       "      <td>I'm not sure I'm going to do it, I'm not sure ...</td>\n",
       "      <td>1.0</td>\n",
       "      <td>-1</td>\n",
       "      <td>-1</td>\n",
       "    </tr>\n",
       "    <tr>\n",
       "      <th>217</th>\n",
       "      <td>#ConversaComBial, até que enfim um excelente p...</td>\n",
       "      <td>#ConversaComBial, until it ends with an excell...</td>\n",
       "      <td>1.0</td>\n",
       "      <td>-1</td>\n",
       "      <td>-1</td>\n",
       "    </tr>\n",
       "  </tbody>\n",
       "</table>\n",
       "<p>100 rows × 5 columns</p>\n",
       "</div>"
      ],
      "text/plain": [
       "                                       tweets_original  \\\n",
       "0    Que coisa linda! O Programa #encontro estava m...   \n",
       "1    Por mais #Encontro com as Irmãs Galvão, adorei...   \n",
       "2    Mr. CATRA  lançando sua nova música PPK CHORA ...   \n",
       "5          Cibele arrasou, humilhou!! #VideoShowAoVivo   \n",
       "9    A Cearamirinense mais famosa do Brasil no #Ede...   \n",
       "..                                                 ...   \n",
       "209  mal começou o programa e eu já tô chorando #Al...   \n",
       "210        Braulio sempre com suas poesias 😍 #Encontro   \n",
       "212  #ConversaComBial\\r\\nAnsiosa pra assistir a con...   \n",
       "216  Rafael ainda nem nasceu e já escuta  #anjo #40...   \n",
       "217  #ConversaComBial, até que enfim um excelente p...   \n",
       "\n",
       "                                tweets_translater_face  polaridade  \\\n",
       "0    What a beautiful thing! The #touch program was...         1.0   \n",
       "1    For more I met with the Galvan Sisters, I love...         1.0   \n",
       "2    Mr. CATRA releases his new song PPK CHORA on k...         1.0   \n",
       "5    The cave has broken, humiliated!! #VideoShowAo...         1.0   \n",
       "9    The most famous Cearamirinense in Brazil at #E...         1.0   \n",
       "..                                                 ...         ...   \n",
       "209  It’s hard to start the program and I’m already...         1.0   \n",
       "210                      Braulio always with his poems         1.0   \n",
       "212  #ConversaComBial Anxiosa to watch today's talk...         1.0   \n",
       "216  I'm not sure I'm going to do it, I'm not sure ...         1.0   \n",
       "217  #ConversaComBial, until it ends with an excell...         1.0   \n",
       "\n",
       "     polaridadeClassificationPortugues  polaridadeClassificationIngles  \n",
       "0                                   -1                              -1  \n",
       "1                                   -1                              -1  \n",
       "2                                   -1                              -1  \n",
       "5                                   -1                              -1  \n",
       "9                                   -1                              -1  \n",
       "..                                 ...                             ...  \n",
       "209                                 -1                              -1  \n",
       "210                                 -1                              -1  \n",
       "212                                 -1                              -1  \n",
       "216                                 -1                              -1  \n",
       "217                                 -1                              -1  \n",
       "\n",
       "[100 rows x 5 columns]"
      ]
     },
     "execution_count": 30,
     "metadata": {},
     "output_type": "execute_result"
    }
   ],
   "source": [
    "positive"
   ]
  },
  {
   "cell_type": "code",
   "execution_count": 31,
   "metadata": {},
   "outputs": [],
   "source": [
    "negative['polaridadeClassificationPortugues'] = negative['tweets_original'].apply(classification_frasesM)\n",
    "negative['polaridadeClassificationIngles'] = negative['tweets_translater_face'].apply(classification_frasesM)"
   ]
  },
  {
   "cell_type": "code",
   "execution_count": 32,
   "metadata": {},
   "outputs": [],
   "source": [
    "negative['polaridadeClassificationPortugues'] = negative['polaridadeClassificationPortugues'].replace(2, 1).replace(0, -1).replace(1, 0)\n",
    "negative['polaridadeClassificationIngles'] = negative['polaridadeClassificationIngles'].replace(2, 1).replace(0, -1).replace(1, 0)"
   ]
  },
  {
   "cell_type": "code",
   "execution_count": 33,
   "metadata": {},
   "outputs": [
    {
     "data": {
      "text/html": [
       "<div>\n",
       "<style scoped>\n",
       "    .dataframe tbody tr th:only-of-type {\n",
       "        vertical-align: middle;\n",
       "    }\n",
       "\n",
       "    .dataframe tbody tr th {\n",
       "        vertical-align: top;\n",
       "    }\n",
       "\n",
       "    .dataframe thead th {\n",
       "        text-align: right;\n",
       "    }\n",
       "</style>\n",
       "<table border=\"1\" class=\"dataframe\">\n",
       "  <thead>\n",
       "    <tr style=\"text-align: right;\">\n",
       "      <th></th>\n",
       "      <th>tweets_original</th>\n",
       "      <th>tweets_translater_face</th>\n",
       "      <th>polaridade</th>\n",
       "      <th>polaridadeClassificationPortugues</th>\n",
       "      <th>polaridadeClassificationIngles</th>\n",
       "    </tr>\n",
       "  </thead>\n",
       "  <tbody>\n",
       "    <tr>\n",
       "      <th>4</th>\n",
       "      <td>Tô passada com esse cara.... quanta merda pode...</td>\n",
       "      <td>How much shit can come out of someone’s mouth ...</td>\n",
       "      <td>-1.0</td>\n",
       "      <td>-1</td>\n",
       "      <td>-1</td>\n",
       "    </tr>\n",
       "    <tr>\n",
       "      <th>8</th>\n",
       "      <td>Esse japa não entendi porra nenhuma de orquíde...</td>\n",
       "      <td>This japa I didn't understand any of orchids. ...</td>\n",
       "      <td>-1.0</td>\n",
       "      <td>-1</td>\n",
       "      <td>-1</td>\n",
       "    </tr>\n",
       "    <tr>\n",
       "      <th>19</th>\n",
       "      <td>Aí vc fica até 01h00 assistindo #MasterChefBR ...</td>\n",
       "      <td>Here you stay until 1h00 watching #MasterChefB...</td>\n",
       "      <td>-1.0</td>\n",
       "      <td>-1</td>\n",
       "      <td>-1</td>\n",
       "    </tr>\n",
       "    <tr>\n",
       "      <th>21</th>\n",
       "      <td>Imagina que insuportável ter de dar de comer p...</td>\n",
       "      <td>Imagine how unbearable it is to have to give f...</td>\n",
       "      <td>-1.0</td>\n",
       "      <td>-1</td>\n",
       "      <td>-1</td>\n",
       "    </tr>\n",
       "    <tr>\n",
       "      <th>25</th>\n",
       "      <td>o prato do Vitor B ficou ruim MEU DEUS TO PASS...</td>\n",
       "      <td>The Vitor B's dish was bad my God to pass bad ...</td>\n",
       "      <td>-1.0</td>\n",
       "      <td>-1</td>\n",
       "      <td>-1</td>\n",
       "    </tr>\n",
       "    <tr>\n",
       "      <th>...</th>\n",
       "      <td>...</td>\n",
       "      <td>...</td>\n",
       "      <td>...</td>\n",
       "      <td>...</td>\n",
       "      <td>...</td>\n",
       "    </tr>\n",
       "    <tr>\n",
       "      <th>298</th>\n",
       "      <td>ahhhh... uma semana pra ter #MasterChefBR de n...</td>\n",
       "      <td>Ahhhh... a week to have #MasterChefBR again... :(</td>\n",
       "      <td>-1.0</td>\n",
       "      <td>-1</td>\n",
       "      <td>-1</td>\n",
       "    </tr>\n",
       "    <tr>\n",
       "      <th>304</th>\n",
       "      <td>A Paola kkkkkkkkkk\\r\\n#MasterChefBR</td>\n",
       "      <td>The Paola kkkkkkkk #MasterChefBR</td>\n",
       "      <td>-1.0</td>\n",
       "      <td>-1</td>\n",
       "      <td>-1</td>\n",
       "    </tr>\n",
       "    <tr>\n",
       "      <th>305</th>\n",
       "      <td>Não tá dando pra assistir MasterChef com esse ...</td>\n",
       "      <td>You don’t want to see MasterChef with that tim...</td>\n",
       "      <td>-1.0</td>\n",
       "      <td>-1</td>\n",
       "      <td>-1</td>\n",
       "    </tr>\n",
       "    <tr>\n",
       "      <th>309</th>\n",
       "      <td>O crush da vida saiu, estou bem triste #Master...</td>\n",
       "      <td>The crush of life has gone out, I'm very sad #...</td>\n",
       "      <td>-1.0</td>\n",
       "      <td>-1</td>\n",
       "      <td>-1</td>\n",
       "    </tr>\n",
       "    <tr>\n",
       "      <th>314</th>\n",
       "      <td>Maiara é a Maritaca, Maraisa é bem caladinha k...</td>\n",
       "      <td>Mayara is the Maritaca, Maraisa is well caladi...</td>\n",
       "      <td>-1.0</td>\n",
       "      <td>-1</td>\n",
       "      <td>-1</td>\n",
       "    </tr>\n",
       "  </tbody>\n",
       "</table>\n",
       "<p>100 rows × 5 columns</p>\n",
       "</div>"
      ],
      "text/plain": [
       "                                       tweets_original  \\\n",
       "4    Tô passada com esse cara.... quanta merda pode...   \n",
       "8    Esse japa não entendi porra nenhuma de orquíde...   \n",
       "19   Aí vc fica até 01h00 assistindo #MasterChefBR ...   \n",
       "21   Imagina que insuportável ter de dar de comer p...   \n",
       "25   o prato do Vitor B ficou ruim MEU DEUS TO PASS...   \n",
       "..                                                 ...   \n",
       "298  ahhhh... uma semana pra ter #MasterChefBR de n...   \n",
       "304                A Paola kkkkkkkkkk\\r\\n#MasterChefBR   \n",
       "305  Não tá dando pra assistir MasterChef com esse ...   \n",
       "309  O crush da vida saiu, estou bem triste #Master...   \n",
       "314  Maiara é a Maritaca, Maraisa é bem caladinha k...   \n",
       "\n",
       "                                tweets_translater_face  polaridade  \\\n",
       "4    How much shit can come out of someone’s mouth ...        -1.0   \n",
       "8    This japa I didn't understand any of orchids. ...        -1.0   \n",
       "19   Here you stay until 1h00 watching #MasterChefB...        -1.0   \n",
       "21   Imagine how unbearable it is to have to give f...        -1.0   \n",
       "25   The Vitor B's dish was bad my God to pass bad ...        -1.0   \n",
       "..                                                 ...         ...   \n",
       "298  Ahhhh... a week to have #MasterChefBR again... :(        -1.0   \n",
       "304                   The Paola kkkkkkkk #MasterChefBR        -1.0   \n",
       "305  You don’t want to see MasterChef with that tim...        -1.0   \n",
       "309  The crush of life has gone out, I'm very sad #...        -1.0   \n",
       "314  Mayara is the Maritaca, Maraisa is well caladi...        -1.0   \n",
       "\n",
       "     polaridadeClassificationPortugues  polaridadeClassificationIngles  \n",
       "4                                   -1                              -1  \n",
       "8                                   -1                              -1  \n",
       "19                                  -1                              -1  \n",
       "21                                  -1                              -1  \n",
       "25                                  -1                              -1  \n",
       "..                                 ...                             ...  \n",
       "298                                 -1                              -1  \n",
       "304                                 -1                              -1  \n",
       "305                                 -1                              -1  \n",
       "309                                 -1                              -1  \n",
       "314                                 -1                              -1  \n",
       "\n",
       "[100 rows x 5 columns]"
      ]
     },
     "execution_count": 33,
     "metadata": {},
     "output_type": "execute_result"
    }
   ],
   "source": [
    "negative"
   ]
  },
  {
   "cell_type": "code",
   "execution_count": 35,
   "metadata": {},
   "outputs": [],
   "source": [
    "neutral['polaridadeClassificationPortugues'] = neutral['tweets_original'].apply(classification_frasesM)"
   ]
  },
  {
   "cell_type": "code",
   "execution_count": 40,
   "metadata": {},
   "outputs": [],
   "source": [
    "neutral.dropna(inplace=True)"
   ]
  },
  {
   "cell_type": "code",
   "execution_count": 41,
   "metadata": {},
   "outputs": [
    {
     "name": "stdout",
     "output_type": "stream",
     "text": [
      "Who saw that fighter model tattooed? #MasterChefBR\n",
      "In Minas sacolé is chup chup! #videohowaovivo\n",
      "My MasterChef dish of enlated sardine would be playing it on the dish, cook rice and still put potato palma next to #MasterChefBR\n",
      "Fatima Bernardes on the accent hahaha professional coherence #VideoShowAoVivo\n",
      "Hello, I would like Fiuk to participate in some picture on #MaisVoce.\n",
      "Tchau Victor B. It’s obvious that VC will go out. #MasterChefBR\n",
      "I would like to have a #Encounter hj\n",
      "The guy of the System of a Down now plays violin?\n",
      "It’s just going to get... #VideoShowAoVivo\n",
      "#MasterChefBR I think hj doesn't have the blue team's curse!!\n",
      "She was sad, but Silvio managed to marry Patricia rs #DomingoLegal\n",
      "Date is a upgrade to Crush #MasterChefBR\n",
      "This is the only way to get rid of the weight of the body.\n",
      "People from the novel Love of the Angel #DomingoLegal\n",
      "#MasterChefBr Escape : one likes catch me: I catch, always\n",
      "It was the Beautiful Gil in the Tchan clip? #AltasHoras hahaha\n",
      "If the chain is so bad pq the gallery lives running behind a PASSE #ConversaComBial\n",
      "Oh, Vitor B, I have been knowing that you eat dogan. Because you are from POA I can present you what is here in the corner of casQQQ #MasterChefBR\n",
      "The son of Juliana was the Zac of Rock Story\n",
      "I need to quickly find out which paid channel represses #MasterChefBR to see yesterday's program\n",
      "#ConversacomBial with the best, Father Fabio or see who came out on #MasterChef\n",
      "This is the first time I’ve been able to do it, and I’ve been able to do it, and I’ve been able to do it.\n",
      "Globo SP (15/05) #SP2 27.1 #JN 30.9 #TelaQuente 15.8 #ConversaComBial 7.4\n",
      "Mr. Catra () says he will be a father for the 33th year. <unk> <unk> <unk> <unk> <unk> <unk> <unk> <unk> <unk> <unk> <unk> <unk> <unk>\n",
      "Where is Theodore? - Theodore\n",
      "\"I don't stole me to infertile questions! \" For good understanding! 😂😂😂 #conversacombial\n",
      "Just waiting to see what will be Mirian's threshold today #MasterChefBR\n",
      "It’s a good thing to do, but it’s a good thing to do, it’s a good thing to do, it’s a good thing to do.\n",
      "Only go #FicaYuko #ficavitorB #MasterChefBr\n",
      "This is the first time I’m going to do this, and I’m going to do this.\n",
      "Would it be a good thing for me? #MasterChefBR I’ll try to do it at home.\n",
      "It’s a great deal #MasterChefBR\n",
      "I am pau rounded kkkj #VideoShowAoVivo\n",
      "#EDeCasa it is lower, as soon as the Gravity Center is close to the ground so it becomes harder to fall\n",
      "If it were me I would make macarron with enlated sardine kkkkkk #MasterChefBr\n",
      "Everyone keeps  #AltasHoras\n",
      "When our resources come to an end, God’s resources are all available.#SextaDetremuraSDV #MaisVoce #NoisEhFeioMore\n",
      "Orkide recalls the movie of the Anaconda and the Blood Orchid, type.\n",
      "#ConversaComBial and Bebo Dobrado Listen to a Fashion\n",
      "When the woman gets pregnant stay with the child up to 6 months after the child will live with some relative or for adoption #ConversaComBial\n",
      "Catra will be father again, no news kfjfondpzmdldmdl #TheNoite\n",
      "You have a girl like the Victory of Anavitoria at High Hours hsjshs #High Hours\n",
      "You can enter, MARISA, and MARAIARA #ConversaComBial\n",
      "I am so kkk n can speak nd q feel 😂 #Meet\n",
      "Consolidated - GLOBO (15/05): #AForçaDoQuerer 31.9 #OsDiasEramAssim 22.4 #TelaQuente 15.8 #JornalDaGlobo 9.2 #ConversaComBial 7.4\n",
      "Today the two teams are in the struggle now just know which will be nocauteed. #MasterChefBR\n",
      "Tchan can now be replaced by Bella Gil!\n",
      "Kd the group of #MasterChefBR? you miss???\n",
      "Good thing, she ate little in the first time #MasterChefBR\n",
      "This is the first time I’ve been able to do it, and I’ve been able to do it, and I’ve been able to do it.\n",
      "I wanted to have that courage to paint hair colored #MaisVoce\n",
      "Home with the \"mother\" then kkkkkkk #touch\n",
      "#masterchefbr today will have only protein one people\n",
      "Go to Debora and Yuko #MasterChefBR\n",
      "The #ProgramDoRatinho is over, stay now with the movie #GamesLetais <unk>🔥 on #CineEspetacular, then have #TheNoite on.\n",
      "Namaria burned his finger alive? it was exactly what I saw?\n",
      "Third (16), the SBT’s children and Talk Show marked: #MundoDisney 4.2 #BomDiaECia 5.9 #ClubeDoChaves 6.3 #TheNoite with 3.9\n",
      "@pcastagnoli red or blue? #MasterChefBR\n",
      "Real Time - São Paulo at 11:54: Globo 9.8, SBT 6.6, Band 3.3, Record 3.0 #Encontro #HojeEmDia\n",
      "Pepeca Cry Catra's New Music #TheNoite\n",
      "#MasterChefBR Today will be fighting.\n",
      "It's #TheNoite with @DaniloGentili\n",
      "The penalties must be exemplary..@Andrea_Ramal #Encontro\n",
      "Who has the exam tomorrow morning and is going to see masterchef instead of studying?\n",
      "Pq the guys cook whole potato and with the cover open if the water does not boil and they have little time??? #MasterChefBR\n",
      "I'm going to take a bath but I'm going to wait to go @BocaRosaBlog on #edecasa\n",
      "Lula's Lawyer In Justice Nando Reis The National Two Ghosts #Meet Kiwi Zimbabwe\n",
      "Nothing more normal than Ana Luisa, Zootechnical student wins the test of the #MasterChefBR visceras\n",
      "@FelipeCastanho that misses eating manicoba that has given you a look at #MasterChefBR!\n",
      "I’ve never seen so many refined ears gathered together. #MasterChefBR\n",
      "I’m going to cry #MasterChefBR\n",
      "I don't know why but this chef is the face of Zac Efron #MaisVoce\n",
      "Consolidated - GLOBO (13/05): #SP2 23.1 #RockStory 23.7 #JornalNational 25.1 #AForçaDoQuerer 27.3 #Zorra 21.0 #AltasHoras 14.4\n",
      "I like #timeazul more, but the #timevermelho menu was more attractive for me #MasterChefBR\n",
      "How does Carlos Alberto de Nobrega get 81 years old?\n",
      "I don't know if I don't know if I don't know if I don't know if I don't know if I don't know if I don't know if I don't know if I do.\n",
      "iPhone of Zeca Pagodinho touched and I thought it was mine. I was trolled by Zeca! HAHAHA #ConversaComBial\n",
      "I am in love with Chef Paola #MasterChefBR\n",
      "Today, at #Meet I realized that I am not the only one who shorts some @justdancegame! (and that @RedeGlobo's list doesn't know how to dance...)\n",
      "#VideoShowAoLive with the water of Sophia no one involves.\n",
      "We lost a great actor, great successes and many victories.\n",
      "I'm ready and I'm going to cry\n",
      "#VideoShowAoVivo Sorry checked and right was 23 years abs\n",
      "Hours of Alagoas\n",
      "#Orastro seems to be great @DaniloGentili #thenoite\n",
      "Today he has #MasterchefBR and I'm already waiting for the elimination of Mirian\n",
      "@PaolaCarosella to @anapaulapadrao: \"I don't worry, but if you start talking, maybe I'll stay!\" 😂😂😂😂😂😂😂😂😂 #MasterChefBR\n",
      "I just want to hear the PUTARIAAA HAHAHA begins #TheNoite\n",
      "It’s a good thing to do, but it’s a good thing to do, and it’s a good thing to do.\n",
      "I’m going to bomb TT, #MasterChefBR\n",
      "Who is my God now??? #DomingoLegal\n",
      "The @DaniloGentili with the shirt of @CUT_Brazil kkkkkkkkkkkkkkkkk #TheNoite kkkkkkkkkkkkkkkkkk @diguinhocoruja 😂😂😂😂😂😂😂😂😂😂😂😂😂\n",
      "#VideoShowAoVivo is Fatima Bernardes.\n",
      "It is ZACARIAS, #VideoShowAoVivo\n",
      "#MasterChefBR I hope that next week Miriam will make such a big shit and be eliminated.\n",
      "Be careful when eating samambae outbreak because the same is already scientifically proven that the same is cancerogenic.\n",
      "I remember q hj has #MasterChefBR and it’s already hungry 🙂\n",
      "Sardinia is very good over the home pizza #MasterChefBR\n",
      "I am a pessimistic, optimistic and realistic person\n"
     ]
    }
   ],
   "source": [
    "neutral['polaridadeClassificationIngles'] = neutral['tweets_translater_face'].apply(classification_frasesM)"
   ]
  },
  {
   "cell_type": "code",
   "execution_count": 42,
   "metadata": {},
   "outputs": [],
   "source": [
    "neutral['polaridadeClassificationPortugues'] = neutral['polaridadeClassificationPortugues'].replace(2, 1).replace(0, -1).replace(1, 0)\n",
    "neutral['polaridadeClassificationIngles'] = neutral['polaridadeClassificationIngles'].replace(2, 1).replace(0, -1).replace(1, 0)"
   ]
  },
  {
   "cell_type": "code",
   "execution_count": 43,
   "metadata": {},
   "outputs": [
    {
     "data": {
      "text/html": [
       "<div>\n",
       "<style scoped>\n",
       "    .dataframe tbody tr th:only-of-type {\n",
       "        vertical-align: middle;\n",
       "    }\n",
       "\n",
       "    .dataframe tbody tr th {\n",
       "        vertical-align: top;\n",
       "    }\n",
       "\n",
       "    .dataframe thead th {\n",
       "        text-align: right;\n",
       "    }\n",
       "</style>\n",
       "<table border=\"1\" class=\"dataframe\">\n",
       "  <thead>\n",
       "    <tr style=\"text-align: right;\">\n",
       "      <th></th>\n",
       "      <th>tweets_original</th>\n",
       "      <th>tweets_translater_face</th>\n",
       "      <th>polaridade</th>\n",
       "      <th>polaridadeClassificationPortugues</th>\n",
       "      <th>polaridadeClassificationIngles</th>\n",
       "    </tr>\n",
       "  </thead>\n",
       "  <tbody>\n",
       "    <tr>\n",
       "      <th>3</th>\n",
       "      <td>quem viu aquela lutadora modela barbuda tatuad...</td>\n",
       "      <td>Who saw that fighter model tattooed? #MasterCh...</td>\n",
       "      <td>0.0</td>\n",
       "      <td>-1</td>\n",
       "      <td>-1</td>\n",
       "    </tr>\n",
       "    <tr>\n",
       "      <th>6</th>\n",
       "      <td>Em Minas sacolé é chup chup!  #videoshowaovivo</td>\n",
       "      <td>In Minas sacolé is chup chup! #videohowaovivo</td>\n",
       "      <td>0.0</td>\n",
       "      <td>-1</td>\n",
       "      <td>-1</td>\n",
       "    </tr>\n",
       "    <tr>\n",
       "      <th>7</th>\n",
       "      <td>Meu prato MasterChef de sardinha enlatada seri...</td>\n",
       "      <td>My MasterChef dish of enlated sardine would be...</td>\n",
       "      <td>0.0</td>\n",
       "      <td>-1</td>\n",
       "      <td>-1</td>\n",
       "    </tr>\n",
       "    <tr>\n",
       "      <th>13</th>\n",
       "      <td>Fatima Bernardes sobre o sotaque hahaha coerên...</td>\n",
       "      <td>Fatima Bernardes on the accent hahaha professi...</td>\n",
       "      <td>0.0</td>\n",
       "      <td>-1</td>\n",
       "      <td>-1</td>\n",
       "    </tr>\n",
       "    <tr>\n",
       "      <th>23</th>\n",
       "      <td>Olá  gostaria da participação do Fiuk em algum...</td>\n",
       "      <td>Hello, I would like Fiuk to participate in som...</td>\n",
       "      <td>0.0</td>\n",
       "      <td>-1</td>\n",
       "      <td>-1</td>\n",
       "    </tr>\n",
       "    <tr>\n",
       "      <th>...</th>\n",
       "      <td>...</td>\n",
       "      <td>...</td>\n",
       "      <td>...</td>\n",
       "      <td>...</td>\n",
       "      <td>...</td>\n",
       "    </tr>\n",
       "    <tr>\n",
       "      <th>669</th>\n",
       "      <td>#MasterChefBR espero que na próxima semana a M...</td>\n",
       "      <td>#MasterChefBR I hope that next week Miriam wil...</td>\n",
       "      <td>0.0</td>\n",
       "      <td>-1</td>\n",
       "      <td>-1</td>\n",
       "    </tr>\n",
       "    <tr>\n",
       "      <th>670</th>\n",
       "      <td>#Encontro Cuidado ao ingerir broto de samambai...</td>\n",
       "      <td>Be careful when eating samambae outbreak becau...</td>\n",
       "      <td>0.0</td>\n",
       "      <td>-1</td>\n",
       "      <td>-1</td>\n",
       "    </tr>\n",
       "    <tr>\n",
       "      <th>671</th>\n",
       "      <td>Lembrei q hj tem #MasterChefBR  e já me deu fome🙄</td>\n",
       "      <td>I remember q hj has #MasterChefBR and it’s alr...</td>\n",
       "      <td>0.0</td>\n",
       "      <td>-1</td>\n",
       "      <td>-1</td>\n",
       "    </tr>\n",
       "    <tr>\n",
       "      <th>676</th>\n",
       "      <td>Sardinha é muito boa em cima da pizza caseira ...</td>\n",
       "      <td>Sardinia is very good over the home pizza #Mas...</td>\n",
       "      <td>0.0</td>\n",
       "      <td>-1</td>\n",
       "      <td>-1</td>\n",
       "    </tr>\n",
       "    <tr>\n",
       "      <th>679</th>\n",
       "      <td>Eu sou uma pessoa pessimista, otimista e reali...</td>\n",
       "      <td>I am a pessimistic, optimistic and realistic p...</td>\n",
       "      <td>0.0</td>\n",
       "      <td>-1</td>\n",
       "      <td>-1</td>\n",
       "    </tr>\n",
       "  </tbody>\n",
       "</table>\n",
       "<p>99 rows × 5 columns</p>\n",
       "</div>"
      ],
      "text/plain": [
       "                                       tweets_original  \\\n",
       "3    quem viu aquela lutadora modela barbuda tatuad...   \n",
       "6       Em Minas sacolé é chup chup!  #videoshowaovivo   \n",
       "7    Meu prato MasterChef de sardinha enlatada seri...   \n",
       "13   Fatima Bernardes sobre o sotaque hahaha coerên...   \n",
       "23   Olá  gostaria da participação do Fiuk em algum...   \n",
       "..                                                 ...   \n",
       "669  #MasterChefBR espero que na próxima semana a M...   \n",
       "670  #Encontro Cuidado ao ingerir broto de samambai...   \n",
       "671  Lembrei q hj tem #MasterChefBR  e já me deu fome🙄   \n",
       "676  Sardinha é muito boa em cima da pizza caseira ...   \n",
       "679  Eu sou uma pessoa pessimista, otimista e reali...   \n",
       "\n",
       "                                tweets_translater_face  polaridade  \\\n",
       "3    Who saw that fighter model tattooed? #MasterCh...         0.0   \n",
       "6        In Minas sacolé is chup chup! #videohowaovivo         0.0   \n",
       "7    My MasterChef dish of enlated sardine would be...         0.0   \n",
       "13   Fatima Bernardes on the accent hahaha professi...         0.0   \n",
       "23   Hello, I would like Fiuk to participate in som...         0.0   \n",
       "..                                                 ...         ...   \n",
       "669  #MasterChefBR I hope that next week Miriam wil...         0.0   \n",
       "670  Be careful when eating samambae outbreak becau...         0.0   \n",
       "671  I remember q hj has #MasterChefBR and it’s alr...         0.0   \n",
       "676  Sardinia is very good over the home pizza #Mas...         0.0   \n",
       "679  I am a pessimistic, optimistic and realistic p...         0.0   \n",
       "\n",
       "     polaridadeClassificationPortugues  polaridadeClassificationIngles  \n",
       "3                                   -1                              -1  \n",
       "6                                   -1                              -1  \n",
       "7                                   -1                              -1  \n",
       "13                                  -1                              -1  \n",
       "23                                  -1                              -1  \n",
       "..                                 ...                             ...  \n",
       "669                                 -1                              -1  \n",
       "670                                 -1                              -1  \n",
       "671                                 -1                              -1  \n",
       "676                                 -1                              -1  \n",
       "679                                 -1                              -1  \n",
       "\n",
       "[99 rows x 5 columns]"
      ]
     },
     "execution_count": 43,
     "metadata": {},
     "output_type": "execute_result"
    }
   ],
   "source": [
    "neutral"
   ]
  },
  {
   "cell_type": "code",
   "execution_count": null,
   "metadata": {},
   "outputs": [],
   "source": []
  }
 ],
 "metadata": {
  "kernelspec": {
   "display_name": "Python 3",
   "language": "python",
   "name": "python3"
  },
  "language_info": {
   "codemirror_mode": {
    "name": "ipython",
    "version": 3
   },
   "file_extension": ".py",
   "mimetype": "text/x-python",
   "name": "python",
   "nbconvert_exporter": "python",
   "pygments_lexer": "ipython3",
   "version": "3.8.10"
  },
  "orig_nbformat": 4
 },
 "nbformat": 4,
 "nbformat_minor": 2
}
