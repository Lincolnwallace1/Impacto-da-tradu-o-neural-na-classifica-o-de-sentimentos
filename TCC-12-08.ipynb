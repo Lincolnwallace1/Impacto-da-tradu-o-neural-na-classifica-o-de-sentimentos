{
 "cells": [
  {
   "attachments": {},
   "cell_type": "markdown",
   "metadata": {},
   "source": [
    "Codigo do tcc"
   ]
  },
  {
   "cell_type": "code",
   "execution_count": 1,
   "metadata": {},
   "outputs": [
    {
     "name": "stdout",
     "output_type": "stream",
     "text": [
      "Requirement already satisfied: transformers in /home/lincoln81/.local/lib/python3.8/site-packages (4.32.1)\n",
      "Requirement already satisfied: tokenizers!=0.11.3,<0.14,>=0.11.1 in /home/lincoln81/.local/lib/python3.8/site-packages (from transformers) (0.12.1)\n",
      "Requirement already satisfied: filelock in /home/lincoln81/.local/lib/python3.8/site-packages (from transformers) (3.12.2)\n",
      "Requirement already satisfied: pyyaml>=5.1 in /usr/lib/python3/dist-packages (from transformers) (5.3.1)\n",
      "Requirement already satisfied: regex!=2019.12.17 in /home/lincoln81/.local/lib/python3.8/site-packages (from transformers) (2023.8.8)\n",
      "Requirement already satisfied: tqdm>=4.27 in /home/lincoln81/.local/lib/python3.8/site-packages (from transformers) (4.66.1)\n",
      "Requirement already satisfied: requests in /usr/lib/python3/dist-packages (from transformers) (2.22.0)\n",
      "Requirement already satisfied: packaging>=20.0 in /home/lincoln81/.local/lib/python3.8/site-packages (from transformers) (23.1)\n",
      "Requirement already satisfied: numpy>=1.17 in /home/lincoln81/.local/lib/python3.8/site-packages (from transformers) (1.24.3)\n",
      "Requirement already satisfied: huggingface-hub<1.0,>=0.15.1 in /home/lincoln81/.local/lib/python3.8/site-packages (from transformers) (0.16.4)\n",
      "Requirement already satisfied: safetensors>=0.3.1 in /home/lincoln81/.local/lib/python3.8/site-packages (from transformers) (0.3.2)\n",
      "Requirement already satisfied: typing-extensions>=3.7.4.3 in /home/lincoln81/.local/lib/python3.8/site-packages (from huggingface-hub<1.0,>=0.15.1->transformers) (4.5.0)\n",
      "Requirement already satisfied: fsspec in /home/lincoln81/.local/lib/python3.8/site-packages (from huggingface-hub<1.0,>=0.15.1->transformers) (2023.6.0)\n",
      "Requirement already satisfied: dl-translate in /home/lincoln81/.local/lib/python3.8/site-packages (0.3.0)\n",
      "Requirement already satisfied: sentencepiece in /home/lincoln81/.local/lib/python3.8/site-packages (from dl-translate) (0.1.99)\n",
      "Requirement already satisfied: tqdm in /home/lincoln81/.local/lib/python3.8/site-packages (from dl-translate) (4.66.1)\n",
      "Requirement already satisfied: torch>=2.0.0 in /home/lincoln81/.local/lib/python3.8/site-packages (from dl-translate) (2.0.1)\n",
      "Requirement already satisfied: protobuf in /home/lincoln81/.local/lib/python3.8/site-packages (from dl-translate) (4.24.0)\n",
      "Requirement already satisfied: transformers>=4.30.2 in /home/lincoln81/.local/lib/python3.8/site-packages (from dl-translate) (4.32.1)\n",
      "Requirement already satisfied: sympy in /home/lincoln81/.local/lib/python3.8/site-packages (from torch>=2.0.0->dl-translate) (1.12)\n",
      "Requirement already satisfied: nvidia-curand-cu11==10.2.10.91; platform_system == \"Linux\" and platform_machine == \"x86_64\" in /home/lincoln81/.local/lib/python3.8/site-packages (from torch>=2.0.0->dl-translate) (10.2.10.91)\n",
      "Requirement already satisfied: nvidia-cuda-runtime-cu11==11.7.99; platform_system == \"Linux\" and platform_machine == \"x86_64\" in /home/lincoln81/.local/lib/python3.8/site-packages (from torch>=2.0.0->dl-translate) (11.7.99)\n",
      "Requirement already satisfied: nvidia-cublas-cu11==11.10.3.66; platform_system == \"Linux\" and platform_machine == \"x86_64\" in /home/lincoln81/.local/lib/python3.8/site-packages (from torch>=2.0.0->dl-translate) (11.10.3.66)\n",
      "Requirement already satisfied: typing-extensions in /home/lincoln81/.local/lib/python3.8/site-packages (from torch>=2.0.0->dl-translate) (4.5.0)\n",
      "Requirement already satisfied: nvidia-cusparse-cu11==11.7.4.91; platform_system == \"Linux\" and platform_machine == \"x86_64\" in /home/lincoln81/.local/lib/python3.8/site-packages (from torch>=2.0.0->dl-translate) (11.7.4.91)\n",
      "Requirement already satisfied: nvidia-nvtx-cu11==11.7.91; platform_system == \"Linux\" and platform_machine == \"x86_64\" in /home/lincoln81/.local/lib/python3.8/site-packages (from torch>=2.0.0->dl-translate) (11.7.91)\n",
      "Requirement already satisfied: nvidia-cusolver-cu11==11.4.0.1; platform_system == \"Linux\" and platform_machine == \"x86_64\" in /home/lincoln81/.local/lib/python3.8/site-packages (from torch>=2.0.0->dl-translate) (11.4.0.1)\n",
      "Requirement already satisfied: nvidia-cudnn-cu11==8.5.0.96; platform_system == \"Linux\" and platform_machine == \"x86_64\" in /home/lincoln81/.local/lib/python3.8/site-packages (from torch>=2.0.0->dl-translate) (8.5.0.96)\n",
      "Requirement already satisfied: nvidia-cuda-nvrtc-cu11==11.7.99; platform_system == \"Linux\" and platform_machine == \"x86_64\" in /home/lincoln81/.local/lib/python3.8/site-packages (from torch>=2.0.0->dl-translate) (11.7.99)\n",
      "Requirement already satisfied: networkx in /home/lincoln81/.local/lib/python3.8/site-packages (from torch>=2.0.0->dl-translate) (3.1)\n",
      "Requirement already satisfied: nvidia-cufft-cu11==10.9.0.58; platform_system == \"Linux\" and platform_machine == \"x86_64\" in /home/lincoln81/.local/lib/python3.8/site-packages (from torch>=2.0.0->dl-translate) (10.9.0.58)\n",
      "Requirement already satisfied: nvidia-nccl-cu11==2.14.3; platform_system == \"Linux\" and platform_machine == \"x86_64\" in /home/lincoln81/.local/lib/python3.8/site-packages (from torch>=2.0.0->dl-translate) (2.14.3)\n",
      "Requirement already satisfied: nvidia-cuda-cupti-cu11==11.7.101; platform_system == \"Linux\" and platform_machine == \"x86_64\" in /home/lincoln81/.local/lib/python3.8/site-packages (from torch>=2.0.0->dl-translate) (11.7.101)\n",
      "Requirement already satisfied: triton==2.0.0; platform_system == \"Linux\" and platform_machine == \"x86_64\" in /home/lincoln81/.local/lib/python3.8/site-packages (from torch>=2.0.0->dl-translate) (2.0.0)\n",
      "Requirement already satisfied: filelock in /home/lincoln81/.local/lib/python3.8/site-packages (from torch>=2.0.0->dl-translate) (3.12.2)\n",
      "Requirement already satisfied: jinja2 in /usr/lib/python3/dist-packages (from torch>=2.0.0->dl-translate) (2.10.1)\n",
      "Requirement already satisfied: requests in /usr/lib/python3/dist-packages (from transformers>=4.30.2->dl-translate) (2.22.0)\n",
      "Requirement already satisfied: tokenizers!=0.11.3,<0.14,>=0.11.1 in /home/lincoln81/.local/lib/python3.8/site-packages (from transformers>=4.30.2->dl-translate) (0.12.1)\n",
      "Requirement already satisfied: packaging>=20.0 in /home/lincoln81/.local/lib/python3.8/site-packages (from transformers>=4.30.2->dl-translate) (23.1)\n",
      "Requirement already satisfied: pyyaml>=5.1 in /usr/lib/python3/dist-packages (from transformers>=4.30.2->dl-translate) (5.3.1)\n",
      "Requirement already satisfied: safetensors>=0.3.1 in /home/lincoln81/.local/lib/python3.8/site-packages (from transformers>=4.30.2->dl-translate) (0.3.2)\n",
      "Requirement already satisfied: numpy>=1.17 in /home/lincoln81/.local/lib/python3.8/site-packages (from transformers>=4.30.2->dl-translate) (1.24.3)\n",
      "Requirement already satisfied: huggingface-hub<1.0,>=0.15.1 in /home/lincoln81/.local/lib/python3.8/site-packages (from transformers>=4.30.2->dl-translate) (0.16.4)\n",
      "Requirement already satisfied: regex!=2019.12.17 in /home/lincoln81/.local/lib/python3.8/site-packages (from transformers>=4.30.2->dl-translate) (2023.8.8)\n",
      "Requirement already satisfied: mpmath>=0.19 in /home/lincoln81/.local/lib/python3.8/site-packages (from sympy->torch>=2.0.0->dl-translate) (1.3.0)\n",
      "Requirement already satisfied: setuptools in /usr/lib/python3/dist-packages (from nvidia-curand-cu11==10.2.10.91; platform_system == \"Linux\" and platform_machine == \"x86_64\"->torch>=2.0.0->dl-translate) (45.2.0)\n",
      "Requirement already satisfied: wheel in /usr/lib/python3/dist-packages (from nvidia-curand-cu11==10.2.10.91; platform_system == \"Linux\" and platform_machine == \"x86_64\"->torch>=2.0.0->dl-translate) (0.34.2)\n",
      "Requirement already satisfied: cmake in /home/lincoln81/.local/lib/python3.8/site-packages (from triton==2.0.0; platform_system == \"Linux\" and platform_machine == \"x86_64\"->torch>=2.0.0->dl-translate) (3.27.1)\n",
      "Requirement already satisfied: lit in /home/lincoln81/.local/lib/python3.8/site-packages (from triton==2.0.0; platform_system == \"Linux\" and platform_machine == \"x86_64\"->torch>=2.0.0->dl-translate) (16.0.6)\n",
      "Requirement already satisfied: fsspec in /home/lincoln81/.local/lib/python3.8/site-packages (from huggingface-hub<1.0,>=0.15.1->transformers>=4.30.2->dl-translate) (2023.6.0)\n",
      "Requirement already satisfied: emoji in /home/lincoln81/.local/lib/python3.8/site-packages (2.7.0)\n",
      "Requirement already satisfied: tensorflow in /home/lincoln81/.local/lib/python3.8/site-packages (2.13.0)\n",
      "Requirement already satisfied: astunparse>=1.6.0 in /home/lincoln81/.local/lib/python3.8/site-packages (from tensorflow) (1.6.3)\n",
      "Requirement already satisfied: wrapt>=1.11.0 in /home/lincoln81/.local/lib/python3.8/site-packages (from tensorflow) (1.15.0)\n",
      "Requirement already satisfied: google-pasta>=0.1.1 in /home/lincoln81/.local/lib/python3.8/site-packages (from tensorflow) (0.2.0)\n",
      "Requirement already satisfied: flatbuffers>=23.1.21 in /home/lincoln81/.local/lib/python3.8/site-packages (from tensorflow) (23.5.26)\n",
      "Requirement already satisfied: setuptools in /usr/lib/python3/dist-packages (from tensorflow) (45.2.0)\n",
      "Requirement already satisfied: termcolor>=1.1.0 in /home/lincoln81/.local/lib/python3.8/site-packages (from tensorflow) (2.3.0)\n",
      "Requirement already satisfied: six>=1.12.0 in /usr/lib/python3/dist-packages (from tensorflow) (1.14.0)\n",
      "Requirement already satisfied: keras<2.14,>=2.13.1 in /home/lincoln81/.local/lib/python3.8/site-packages (from tensorflow) (2.13.1)\n",
      "Requirement already satisfied: grpcio<2.0,>=1.24.3 in /home/lincoln81/.local/lib/python3.8/site-packages (from tensorflow) (1.57.0)\n",
      "Requirement already satisfied: tensorflow-estimator<2.14,>=2.13.0 in /home/lincoln81/.local/lib/python3.8/site-packages (from tensorflow) (2.13.0)\n",
      "Requirement already satisfied: opt-einsum>=2.3.2 in /home/lincoln81/.local/lib/python3.8/site-packages (from tensorflow) (3.3.0)\n",
      "Requirement already satisfied: tensorflow-io-gcs-filesystem>=0.23.1; platform_machine != \"arm64\" or platform_system != \"Darwin\" in /home/lincoln81/.local/lib/python3.8/site-packages (from tensorflow) (0.33.0)\n",
      "Requirement already satisfied: libclang>=13.0.0 in /home/lincoln81/.local/lib/python3.8/site-packages (from tensorflow) (16.0.6)\n",
      "Requirement already satisfied: absl-py>=1.0.0 in /home/lincoln81/.local/lib/python3.8/site-packages (from tensorflow) (1.4.0)\n",
      "Requirement already satisfied: gast<=0.4.0,>=0.2.1 in /home/lincoln81/.local/lib/python3.8/site-packages (from tensorflow) (0.4.0)\n",
      "Requirement already satisfied: packaging in /home/lincoln81/.local/lib/python3.8/site-packages (from tensorflow) (23.1)\n",
      "Requirement already satisfied: protobuf!=4.21.0,!=4.21.1,!=4.21.2,!=4.21.3,!=4.21.4,!=4.21.5,<5.0.0dev,>=3.20.3 in /home/lincoln81/.local/lib/python3.8/site-packages (from tensorflow) (4.24.0)\n",
      "Requirement already satisfied: typing-extensions<4.6.0,>=3.6.6 in /home/lincoln81/.local/lib/python3.8/site-packages (from tensorflow) (4.5.0)\n",
      "Requirement already satisfied: tensorboard<2.14,>=2.13 in /home/lincoln81/.local/lib/python3.8/site-packages (from tensorflow) (2.13.0)\n",
      "Requirement already satisfied: numpy<=1.24.3,>=1.22 in /home/lincoln81/.local/lib/python3.8/site-packages (from tensorflow) (1.24.3)\n",
      "Requirement already satisfied: h5py>=2.9.0 in /home/lincoln81/.local/lib/python3.8/site-packages (from tensorflow) (3.9.0)\n",
      "Requirement already satisfied: wheel<1.0,>=0.23.0 in /usr/lib/python3/dist-packages (from astunparse>=1.6.0->tensorflow) (0.34.2)\n",
      "Requirement already satisfied: werkzeug>=1.0.1 in /home/lincoln81/.local/lib/python3.8/site-packages (from tensorboard<2.14,>=2.13->tensorflow) (2.3.6)\n",
      "Requirement already satisfied: google-auth-oauthlib<1.1,>=0.5 in /home/lincoln81/.local/lib/python3.8/site-packages (from tensorboard<2.14,>=2.13->tensorflow) (1.0.0)\n",
      "Requirement already satisfied: google-auth<3,>=1.6.3 in /home/lincoln81/.local/lib/python3.8/site-packages (from tensorboard<2.14,>=2.13->tensorflow) (2.22.0)\n",
      "Requirement already satisfied: tensorboard-data-server<0.8.0,>=0.7.0 in /home/lincoln81/.local/lib/python3.8/site-packages (from tensorboard<2.14,>=2.13->tensorflow) (0.7.1)\n",
      "Requirement already satisfied: requests<3,>=2.21.0 in /usr/lib/python3/dist-packages (from tensorboard<2.14,>=2.13->tensorflow) (2.22.0)\n",
      "Requirement already satisfied: markdown>=2.6.8 in /usr/lib/python3/dist-packages (from tensorboard<2.14,>=2.13->tensorflow) (3.1.1)\n",
      "Requirement already satisfied: MarkupSafe>=2.1.1 in /home/lincoln81/.local/lib/python3.8/site-packages (from werkzeug>=1.0.1->tensorboard<2.14,>=2.13->tensorflow) (2.1.3)\n",
      "Requirement already satisfied: requests-oauthlib>=0.7.0 in /home/lincoln81/.local/lib/python3.8/site-packages (from google-auth-oauthlib<1.1,>=0.5->tensorboard<2.14,>=2.13->tensorflow) (1.3.1)\n",
      "Requirement already satisfied: cachetools<6.0,>=2.0.0 in /home/lincoln81/.local/lib/python3.8/site-packages (from google-auth<3,>=1.6.3->tensorboard<2.14,>=2.13->tensorflow) (5.3.1)\n",
      "Requirement already satisfied: urllib3<2.0 in /usr/lib/python3/dist-packages (from google-auth<3,>=1.6.3->tensorboard<2.14,>=2.13->tensorflow) (1.25.8)\n",
      "Requirement already satisfied: pyasn1-modules>=0.2.1 in /usr/lib/python3/dist-packages (from google-auth<3,>=1.6.3->tensorboard<2.14,>=2.13->tensorflow) (0.2.1)\n",
      "Requirement already satisfied: rsa<5,>=3.1.4 in /home/lincoln81/.local/lib/python3.8/site-packages (from google-auth<3,>=1.6.3->tensorboard<2.14,>=2.13->tensorflow) (4.9)\n",
      "Requirement already satisfied: oauthlib>=3.0.0 in /usr/lib/python3/dist-packages (from requests-oauthlib>=0.7.0->google-auth-oauthlib<1.1,>=0.5->tensorboard<2.14,>=2.13->tensorflow) (3.1.0)\n",
      "Requirement already satisfied: pyasn1>=0.1.3 in /usr/lib/python3/dist-packages (from rsa<5,>=3.1.4->google-auth<3,>=1.6.3->tensorboard<2.14,>=2.13->tensorflow) (0.4.2)\n",
      "Requirement already satisfied: numpy in /home/lincoln81/.local/lib/python3.8/site-packages (1.24.3)\n",
      "Requirement already satisfied: tensorflow_hub in /home/lincoln81/.local/lib/python3.8/site-packages (0.14.0)\n",
      "Requirement already satisfied: protobuf>=3.19.6 in /home/lincoln81/.local/lib/python3.8/site-packages (from tensorflow_hub) (4.24.0)\n",
      "Requirement already satisfied: numpy>=1.12.0 in /home/lincoln81/.local/lib/python3.8/site-packages (from tensorflow_hub) (1.24.3)\n"
     ]
    }
   ],
   "source": [
    "!pip3 install transformers\n",
    "!pip3 install dl-translate\n",
    "!pip3 install emoji\n",
    "!pip3 install tensorflow\n",
    "!pip3 install numpy\n",
    "!pip3 install tensorflow_hub"
   ]
  },
  {
   "cell_type": "code",
   "execution_count": 30,
   "metadata": {},
   "outputs": [],
   "source": [
    "import tensorflow as tf\n",
    "import numpy as np\n",
    "import pandas as pd\n",
    "import dl_translate as dlt\n",
    "from sklearn.metrics import precision_score, recall_score, f1_score"
   ]
  },
  {
   "cell_type": "code",
   "execution_count": 3,
   "metadata": {},
   "outputs": [],
   "source": [
    "mt = dlt.TranslationModel()"
   ]
  },
  {
   "cell_type": "code",
   "execution_count": 4,
   "metadata": {},
   "outputs": [],
   "source": [
    "def translater_frases(frase):\n",
    "  text_hi = frase\n",
    "  translater = mt.translate(text_hi, source=dlt.lang.PORTUGUESE, target=dlt.lang.ENGLISH)\n",
    "  return translater\n",
    "\n",
    "def classification_frasesR(frase):\n",
    "  input = tokenizerR.encode(frase, return_tensors=\"tf\")\n",
    "  output = modelR.predict(input)[0]\n",
    "  prediction = tf.nn.softmax(output, axis=1).numpy()\n",
    "  sentiment = np.argmax(prediction) \n",
    "\n",
    "  return sentiment\n",
    "\n",
    "def classification_frasesM(frase):\n",
    "  inputs = tokenizerM(frase, return_tensors=\"tf\")\n",
    "  outputs = modelM(inputs)\n",
    "  logits = outputs.logits\n",
    "  sentiment = tf.argmax(logits, axis=1).numpy()[0]\n",
    "\n",
    "  return sentiment\n",
    "\n",
    "def classification_frasesC(frase):\n",
    "  sentiment = sentiment_task(frase)\n",
    "\n",
    "  sentiment = sentiment[0]['label']\n",
    "\n",
    "  sentiment = sentiment.replace('positive', '1').replace('negative', '-1').replace('neutral', '0')\n",
    "\n",
    "  return sentiment\n"
   ]
  },
  {
   "cell_type": "markdown",
   "metadata": {},
   "source": [
    "## Modelo de classificação de Tweets, treinado com 23 milhões de exemplos em inglês, sobre covid."
   ]
  },
  {
   "cell_type": "code",
   "execution_count": 5,
   "metadata": {},
   "outputs": [
    {
     "name": "stderr",
     "output_type": "stream",
     "text": [
      "2023-09-05 09:37:00.029032: I tensorflow/compiler/xla/stream_executor/cuda/cuda_gpu_executor.cc:981] could not open file to read NUMA node: /sys/bus/pci/devices/0000:01:00.0/numa_node\n",
      "Your kernel may have been built without NUMA support.\n",
      "2023-09-05 09:37:00.029338: W tensorflow/core/common_runtime/gpu/gpu_device.cc:1960] Cannot dlopen some GPU libraries. Please make sure the missing libraries mentioned above are installed properly if you would like to use GPU. Follow the guide at https://www.tensorflow.org/install/gpu for how to download and setup the required libraries for your platform.\n",
      "Skipping registering GPU devices...\n",
      "All model checkpoint layers were used when initializing TFRobertaForSequenceClassification.\n",
      "\n",
      "All the layers of TFRobertaForSequenceClassification were initialized from the model checkpoint at rabindralamsal/BERTsent.\n",
      "If your task is similar to the task the model of the checkpoint was trained on, you can already use TFRobertaForSequenceClassification for predictions without further training.\n"
     ]
    }
   ],
   "source": [
    "from transformers import AutoTokenizer, TFAutoModelForSequenceClassification\n",
    "  \n",
    "tokenizerR = AutoTokenizer.from_pretrained(\"rabindralamsal/BERTsent\")\n",
    "\n",
    "modelR = TFAutoModelForSequenceClassification.from_pretrained(\"rabindralamsal/BERTsent\")\n"
   ]
  },
  {
   "cell_type": "code",
   "execution_count": 6,
   "metadata": {},
   "outputs": [
    {
     "name": "stdout",
     "output_type": "stream",
     "text": [
      "1/1 [==============================] - 5s 5s/step\n",
      "[[0.97267216 0.02368475 0.00364307]]\n",
      "0\n"
     ]
    }
   ],
   "source": [
    "example_tweet = \"The NEET exams show our Govt in a poor light: unresponsiveness to genuine concerns; admit cards not delivered to aspirants in time; failure to provide centres in towns they reside, thus requiring unnecessary & risky travels. What a disgrace to treat our #Covid warriors like this!\"\n",
    "    \n",
    "input = tokenizerR.encode(example_tweet, return_tensors=\"tf\")\n",
    "output = modelR.predict(input)[0]\n",
    "prediction = tf.nn.softmax(output, axis=1).numpy()\n",
    "\n",
    "sentiment = np.argmax(prediction)\n",
    "    \n",
    "print(prediction)\n",
    "print(sentiment)"
   ]
  },
  {
   "cell_type": "markdown",
   "metadata": {},
   "source": [
    "## Este é um modelo multilíngue baseado em XLM-roBERTa treinado em aproximadamente 198 milhões de tweets e ajustado para análise de sentimento. O ajuste fino do sentimento foi feito em 8 idiomas (Ar, En, Fr, De, Hi, It, Sp, Pt)."
   ]
  },
  {
   "cell_type": "code",
   "execution_count": 7,
   "metadata": {},
   "outputs": [
    {
     "data": {
      "text/plain": [
       "[{'label': 'negative', 'score': 0.9488404989242554}]"
      ]
     },
     "execution_count": 7,
     "metadata": {},
     "output_type": "execute_result"
    }
   ],
   "source": [
    "from transformers import pipeline\n",
    "model_path = \"cardiffnlp/twitter-xlm-roberta-base-sentiment\"\n",
    "sentiment_task = pipeline(\"sentiment-analysis\", model=model_path, tokenizer=model_path)\n",
    "sentiment_task(\"que dia pessimo\")\n"
   ]
  },
  {
   "cell_type": "code",
   "execution_count": 9,
   "metadata": {},
   "outputs": [],
   "source": [
    "dataset = pd.read_csv(\"./TweetSentBR.csv\")"
   ]
  },
  {
   "cell_type": "code",
   "execution_count": 10,
   "metadata": {},
   "outputs": [],
   "source": [
    "dataset.drop(columns = ['id', 'id_twitter'],inplace=True)"
   ]
  },
  {
   "cell_type": "code",
   "execution_count": 11,
   "metadata": {},
   "outputs": [
    {
     "data": {
      "text/html": [
       "<div>\n",
       "<style scoped>\n",
       "    .dataframe tbody tr th:only-of-type {\n",
       "        vertical-align: middle;\n",
       "    }\n",
       "\n",
       "    .dataframe tbody tr th {\n",
       "        vertical-align: top;\n",
       "    }\n",
       "\n",
       "    .dataframe thead th {\n",
       "        text-align: right;\n",
       "    }\n",
       "</style>\n",
       "<table border=\"1\" class=\"dataframe\">\n",
       "  <thead>\n",
       "    <tr style=\"text-align: right;\">\n",
       "      <th></th>\n",
       "      <th>text</th>\n",
       "      <th>sentiment</th>\n",
       "    </tr>\n",
       "  </thead>\n",
       "  <tbody>\n",
       "    <tr>\n",
       "      <th>0</th>\n",
       "      <td>Que coisa linda! O Programa #encontro estava m...</td>\n",
       "      <td>1</td>\n",
       "    </tr>\n",
       "    <tr>\n",
       "      <th>1</th>\n",
       "      <td>Por mais #Encontro com as Irmãs Galvão, adorei...</td>\n",
       "      <td>1</td>\n",
       "    </tr>\n",
       "    <tr>\n",
       "      <th>2</th>\n",
       "      <td>Mr. CATRA @OficialMrCatra lançando sua nova mú...</td>\n",
       "      <td>1</td>\n",
       "    </tr>\n",
       "    <tr>\n",
       "      <th>3</th>\n",
       "      <td>quem viu aquela lutadora modela barbuda tatuad...</td>\n",
       "      <td>0</td>\n",
       "    </tr>\n",
       "    <tr>\n",
       "      <th>4</th>\n",
       "      <td>Tô passada com esse cara.... quanta merda pode...</td>\n",
       "      <td>-1</td>\n",
       "    </tr>\n",
       "    <tr>\n",
       "      <th>...</th>\n",
       "      <td>...</td>\n",
       "      <td>...</td>\n",
       "    </tr>\n",
       "    <tr>\n",
       "      <th>11560</th>\n",
       "      <td>eu ja to aqui pronto pro #MasterChefBR mas ain...</td>\n",
       "      <td>-1</td>\n",
       "    </tr>\n",
       "    <tr>\n",
       "      <th>11561</th>\n",
       "      <td>MALUCO! Uma coisa que eu não tenho coragem é e...</td>\n",
       "      <td>-1</td>\n",
       "    </tr>\n",
       "    <tr>\n",
       "      <th>11562</th>\n",
       "      <td>#MaisVoce @ANAMARIABRAGA  está linda @RedeGlobo</td>\n",
       "      <td>1</td>\n",
       "    </tr>\n",
       "    <tr>\n",
       "      <th>11563</th>\n",
       "      <td>Que orgulho de ti, @sportrecife! #Encontro</td>\n",
       "      <td>1</td>\n",
       "    </tr>\n",
       "    <tr>\n",
       "      <th>11564</th>\n",
       "      <td>Gente olha o bíceps desse padre #ConversaComBial</td>\n",
       "      <td>1</td>\n",
       "    </tr>\n",
       "  </tbody>\n",
       "</table>\n",
       "<p>11565 rows × 2 columns</p>\n",
       "</div>"
      ],
      "text/plain": [
       "                                                    text sentiment\n",
       "0      Que coisa linda! O Programa #encontro estava m...         1\n",
       "1      Por mais #Encontro com as Irmãs Galvão, adorei...         1\n",
       "2      Mr. CATRA @OficialMrCatra lançando sua nova mú...         1\n",
       "3      quem viu aquela lutadora modela barbuda tatuad...         0\n",
       "4      Tô passada com esse cara.... quanta merda pode...        -1\n",
       "...                                                  ...       ...\n",
       "11560  eu ja to aqui pronto pro #MasterChefBR mas ain...        -1\n",
       "11561  MALUCO! Uma coisa que eu não tenho coragem é e...        -1\n",
       "11562    #MaisVoce @ANAMARIABRAGA  está linda @RedeGlobo         1\n",
       "11563         Que orgulho de ti, @sportrecife! #Encontro         1\n",
       "11564   Gente olha o bíceps desse padre #ConversaComBial         1\n",
       "\n",
       "[11565 rows x 2 columns]"
      ]
     },
     "execution_count": 11,
     "metadata": {},
     "output_type": "execute_result"
    }
   ],
   "source": [
    "dataset"
   ]
  },
  {
   "cell_type": "code",
   "execution_count": 10,
   "metadata": {},
   "outputs": [],
   "source": [
    "positive = dataset[dataset['sentiment'] == '1'].head(10)"
   ]
  },
  {
   "cell_type": "code",
   "execution_count": 11,
   "metadata": {},
   "outputs": [],
   "source": [
    "positive['textEnglish'] = positive['text'].apply(translater_frases)"
   ]
  },
  {
   "cell_type": "code",
   "execution_count": 12,
   "metadata": {},
   "outputs": [
    {
     "name": "stdout",
     "output_type": "stream",
     "text": [
      "1/1 [==============================] - 2s 2s/step\n",
      "1/1 [==============================] - 0s 61ms/step\n",
      "1/1 [==============================] - 0s 81ms/step\n",
      "1/1 [==============================] - 0s 58ms/step\n",
      "1/1 [==============================] - 0s 64ms/step\n",
      "1/1 [==============================] - 0s 64ms/step\n",
      "1/1 [==============================] - 0s 60ms/step\n",
      "1/1 [==============================] - 0s 60ms/step\n",
      "1/1 [==============================] - 0s 60ms/step\n",
      "1/1 [==============================] - 0s 58ms/step\n"
     ]
    }
   ],
   "source": [
    "positive['sentimentEnglish'] = positive['textEnglish'].apply(classification_frasesR)"
   ]
  },
  {
   "cell_type": "code",
   "execution_count": 13,
   "metadata": {},
   "outputs": [],
   "source": [
    "positive['sentimentEnglish'] = positive['sentimentEnglish'].replace(2, '1').replace(0, '-1').replace(1, '0')"
   ]
  },
  {
   "cell_type": "code",
   "execution_count": 14,
   "metadata": {},
   "outputs": [],
   "source": [
    "nomepositivo= 'positive.xlsx'\n",
    "positive.to_excel(nomepositivo, index=False)"
   ]
  },
  {
   "cell_type": "code",
   "execution_count": 15,
   "metadata": {},
   "outputs": [],
   "source": [
    "negative = dataset[dataset['sentiment'] == '-1'].head(10)"
   ]
  },
  {
   "cell_type": "code",
   "execution_count": 16,
   "metadata": {},
   "outputs": [],
   "source": [
    "negative['textEnglish'] = negative['text'].apply(translater_frases)"
   ]
  },
  {
   "cell_type": "code",
   "execution_count": 17,
   "metadata": {},
   "outputs": [
    {
     "name": "stdout",
     "output_type": "stream",
     "text": [
      "1/1 [==============================] - 0s 73ms/step\n",
      "1/1 [==============================] - 0s 106ms/step\n",
      "1/1 [==============================] - 0s 99ms/step\n",
      "1/1 [==============================] - 0s 86ms/step\n",
      "1/1 [==============================] - 0s 74ms/step\n",
      "1/1 [==============================] - 0s 70ms/step\n",
      "1/1 [==============================] - 0s 98ms/step\n",
      "1/1 [==============================] - 0s 95ms/step\n",
      "1/1 [==============================] - 0s 108ms/step\n",
      "1/1 [==============================] - 0s 111ms/step\n"
     ]
    }
   ],
   "source": [
    "negative['sentimentEnglish'] = negative['textEnglish'].apply(classification_frasesR)"
   ]
  },
  {
   "cell_type": "code",
   "execution_count": 18,
   "metadata": {},
   "outputs": [],
   "source": [
    "negative['sentimentEnglish'] = negative['sentimentEnglish'].replace(2, '1').replace(0, '-1').replace(1, '0')"
   ]
  },
  {
   "cell_type": "code",
   "execution_count": 19,
   "metadata": {},
   "outputs": [],
   "source": [
    "\n",
    "negative.to_excel('negative.xlsx', index=False)"
   ]
  },
  {
   "cell_type": "code",
   "execution_count": 12,
   "metadata": {},
   "outputs": [],
   "source": [
    "dataset = pd.read_csv(\"./datasetcompolaridade.csv\")"
   ]
  },
  {
   "cell_type": "code",
   "execution_count": 13,
   "metadata": {},
   "outputs": [],
   "source": [
    "dataset.drop(columns = ['Unnamed: 0', 'tweets_translater_unicamp'],inplace=True)"
   ]
  },
  {
   "cell_type": "code",
   "execution_count": 14,
   "metadata": {},
   "outputs": [],
   "source": [
    "positive = dataset[dataset['polaridade'] == 1].head(100)"
   ]
  },
  {
   "cell_type": "code",
   "execution_count": 15,
   "metadata": {},
   "outputs": [],
   "source": [
    "negative = dataset[dataset['polaridade'] == -1].head(100)"
   ]
  },
  {
   "cell_type": "code",
   "execution_count": 16,
   "metadata": {},
   "outputs": [],
   "source": [
    "neutral = dataset[dataset['polaridade'] == 0].head(100)"
   ]
  },
  {
   "cell_type": "code",
   "execution_count": 17,
   "metadata": {},
   "outputs": [],
   "source": [
    "positive['polaridadeClassificationPortugues'] = positive['tweets_original'].apply(classification_frasesC)"
   ]
  },
  {
   "cell_type": "code",
   "execution_count": 18,
   "metadata": {},
   "outputs": [],
   "source": [
    "positive['polaridadeClassificationIngles'] = positive['tweets_translater_face'].apply(classification_frasesC)"
   ]
  },
  {
   "cell_type": "code",
   "execution_count": 19,
   "metadata": {},
   "outputs": [],
   "source": [
    "positive['polaridadeClassificationPortugues'] = positive['polaridadeClassificationPortugues'].replace(2, 1).replace(0, -1).replace(1, 0)"
   ]
  },
  {
   "cell_type": "code",
   "execution_count": 20,
   "metadata": {},
   "outputs": [],
   "source": [
    "positive['polaridadeClassificationIngles'] = positive['polaridadeClassificationIngles'].replace(2, 1).replace(0, -1).replace(1, 0)"
   ]
  },
  {
   "cell_type": "code",
   "execution_count": 21,
   "metadata": {},
   "outputs": [
    {
     "data": {
      "text/html": [
       "<div>\n",
       "<style scoped>\n",
       "    .dataframe tbody tr th:only-of-type {\n",
       "        vertical-align: middle;\n",
       "    }\n",
       "\n",
       "    .dataframe tbody tr th {\n",
       "        vertical-align: top;\n",
       "    }\n",
       "\n",
       "    .dataframe thead th {\n",
       "        text-align: right;\n",
       "    }\n",
       "</style>\n",
       "<table border=\"1\" class=\"dataframe\">\n",
       "  <thead>\n",
       "    <tr style=\"text-align: right;\">\n",
       "      <th></th>\n",
       "      <th>tweets_original</th>\n",
       "      <th>tweets_translater_face</th>\n",
       "      <th>polaridade</th>\n",
       "      <th>polaridadeClassificationPortugues</th>\n",
       "      <th>polaridadeClassificationIngles</th>\n",
       "    </tr>\n",
       "  </thead>\n",
       "  <tbody>\n",
       "    <tr>\n",
       "      <th>0</th>\n",
       "      <td>Que coisa linda! O Programa #encontro estava m...</td>\n",
       "      <td>What a beautiful thing! The #touch program was...</td>\n",
       "      <td>1.0</td>\n",
       "      <td>1</td>\n",
       "      <td>1</td>\n",
       "    </tr>\n",
       "    <tr>\n",
       "      <th>1</th>\n",
       "      <td>Por mais #Encontro com as Irmãs Galvão, adorei...</td>\n",
       "      <td>For more I met with the Galvan Sisters, I love...</td>\n",
       "      <td>1.0</td>\n",
       "      <td>1</td>\n",
       "      <td>1</td>\n",
       "    </tr>\n",
       "    <tr>\n",
       "      <th>2</th>\n",
       "      <td>Mr. CATRA  lançando sua nova música PPK CHORA ...</td>\n",
       "      <td>Mr. CATRA releases his new song PPK CHORA on k...</td>\n",
       "      <td>1.0</td>\n",
       "      <td>0</td>\n",
       "      <td>0</td>\n",
       "    </tr>\n",
       "    <tr>\n",
       "      <th>5</th>\n",
       "      <td>Cibele arrasou, humilhou!! #VideoShowAoVivo</td>\n",
       "      <td>The cave has broken, humiliated!! #VideoShowAo...</td>\n",
       "      <td>1.0</td>\n",
       "      <td>1</td>\n",
       "      <td>-1</td>\n",
       "    </tr>\n",
       "    <tr>\n",
       "      <th>9</th>\n",
       "      <td>A Cearamirinense mais famosa do Brasil no #Ede...</td>\n",
       "      <td>The most famous Cearamirinense in Brazil at #E...</td>\n",
       "      <td>1.0</td>\n",
       "      <td>1</td>\n",
       "      <td>1</td>\n",
       "    </tr>\n",
       "    <tr>\n",
       "      <th>...</th>\n",
       "      <td>...</td>\n",
       "      <td>...</td>\n",
       "      <td>...</td>\n",
       "      <td>...</td>\n",
       "      <td>...</td>\n",
       "    </tr>\n",
       "    <tr>\n",
       "      <th>209</th>\n",
       "      <td>mal começou o programa e eu já tô chorando #Al...</td>\n",
       "      <td>It’s hard to start the program and I’m already...</td>\n",
       "      <td>1.0</td>\n",
       "      <td>-1</td>\n",
       "      <td>-1</td>\n",
       "    </tr>\n",
       "    <tr>\n",
       "      <th>210</th>\n",
       "      <td>Braulio sempre com suas poesias 😍 #Encontro</td>\n",
       "      <td>Braulio always with his poems</td>\n",
       "      <td>1.0</td>\n",
       "      <td>1</td>\n",
       "      <td>1</td>\n",
       "    </tr>\n",
       "    <tr>\n",
       "      <th>212</th>\n",
       "      <td>#ConversaComBial\\r\\nAnsiosa pra assistir a con...</td>\n",
       "      <td>#ConversaComBial Anxiosa to watch today's talk...</td>\n",
       "      <td>1.0</td>\n",
       "      <td>1</td>\n",
       "      <td>1</td>\n",
       "    </tr>\n",
       "    <tr>\n",
       "      <th>216</th>\n",
       "      <td>Rafael ainda nem nasceu e já escuta  #anjo #40...</td>\n",
       "      <td>I'm not sure I'm going to do it, I'm not sure ...</td>\n",
       "      <td>1.0</td>\n",
       "      <td>0</td>\n",
       "      <td>0</td>\n",
       "    </tr>\n",
       "    <tr>\n",
       "      <th>217</th>\n",
       "      <td>#ConversaComBial, até que enfim um excelente p...</td>\n",
       "      <td>#ConversaComBial, until it ends with an excell...</td>\n",
       "      <td>1.0</td>\n",
       "      <td>1</td>\n",
       "      <td>1</td>\n",
       "    </tr>\n",
       "  </tbody>\n",
       "</table>\n",
       "<p>100 rows × 5 columns</p>\n",
       "</div>"
      ],
      "text/plain": [
       "                                       tweets_original  \\\n",
       "0    Que coisa linda! O Programa #encontro estava m...   \n",
       "1    Por mais #Encontro com as Irmãs Galvão, adorei...   \n",
       "2    Mr. CATRA  lançando sua nova música PPK CHORA ...   \n",
       "5          Cibele arrasou, humilhou!! #VideoShowAoVivo   \n",
       "9    A Cearamirinense mais famosa do Brasil no #Ede...   \n",
       "..                                                 ...   \n",
       "209  mal começou o programa e eu já tô chorando #Al...   \n",
       "210        Braulio sempre com suas poesias 😍 #Encontro   \n",
       "212  #ConversaComBial\\r\\nAnsiosa pra assistir a con...   \n",
       "216  Rafael ainda nem nasceu e já escuta  #anjo #40...   \n",
       "217  #ConversaComBial, até que enfim um excelente p...   \n",
       "\n",
       "                                tweets_translater_face  polaridade  \\\n",
       "0    What a beautiful thing! The #touch program was...         1.0   \n",
       "1    For more I met with the Galvan Sisters, I love...         1.0   \n",
       "2    Mr. CATRA releases his new song PPK CHORA on k...         1.0   \n",
       "5    The cave has broken, humiliated!! #VideoShowAo...         1.0   \n",
       "9    The most famous Cearamirinense in Brazil at #E...         1.0   \n",
       "..                                                 ...         ...   \n",
       "209  It’s hard to start the program and I’m already...         1.0   \n",
       "210                      Braulio always with his poems         1.0   \n",
       "212  #ConversaComBial Anxiosa to watch today's talk...         1.0   \n",
       "216  I'm not sure I'm going to do it, I'm not sure ...         1.0   \n",
       "217  #ConversaComBial, until it ends with an excell...         1.0   \n",
       "\n",
       "    polaridadeClassificationPortugues polaridadeClassificationIngles  \n",
       "0                                   1                              1  \n",
       "1                                   1                              1  \n",
       "2                                   0                              0  \n",
       "5                                   1                             -1  \n",
       "9                                   1                              1  \n",
       "..                                ...                            ...  \n",
       "209                                -1                             -1  \n",
       "210                                 1                              1  \n",
       "212                                 1                              1  \n",
       "216                                 0                              0  \n",
       "217                                 1                              1  \n",
       "\n",
       "[100 rows x 5 columns]"
      ]
     },
     "execution_count": 21,
     "metadata": {},
     "output_type": "execute_result"
    }
   ],
   "source": [
    "positive"
   ]
  },
  {
   "cell_type": "code",
   "execution_count": 109,
   "metadata": {},
   "outputs": [
    {
     "name": "stderr",
     "output_type": "stream",
     "text": [
      "/home/lincoln81/.local/lib/python3.8/site-packages/sklearn/metrics/_classification.py:1469: UndefinedMetricWarning: Recall is ill-defined and being set to 0.0 in labels with no true samples. Use `zero_division` parameter to control this behavior.\n",
      "  _warn_prf(average, modifier, msg_start, len(result))\n"
     ]
    }
   ],
   "source": [
    "positive['polaridadeClassificationPortugues'] = positive['polaridadeClassificationPortugues'].astype(float)\n",
    "precisionPositivePortugues = precision_score(positive['polaridade'], positive['polaridadeClassificationPortugues'], average='macro')\n",
    "recallPositivePortugues = recall_score(positive['polaridade'], positive['polaridadeClassificationPortugues'], average='macro')\n",
    "f1PositivePortugues = f1_score(positive['polaridade'], positive['polaridadeClassificationPortugues'], average='macro')"
   ]
  },
  {
   "cell_type": "code",
   "execution_count": 110,
   "metadata": {},
   "outputs": [
    {
     "data": {
      "text/plain": [
       "0.2900188323917137"
      ]
     },
     "execution_count": 110,
     "metadata": {},
     "output_type": "execute_result"
    }
   ],
   "source": [
    "f1PositivePortugues"
   ]
  },
  {
   "cell_type": "code",
   "execution_count": 96,
   "metadata": {},
   "outputs": [
    {
     "name": "stderr",
     "output_type": "stream",
     "text": [
      "/home/lincoln81/.local/lib/python3.8/site-packages/sklearn/metrics/_classification.py:1469: UndefinedMetricWarning: Recall is ill-defined and being set to 0.0 in labels with no true samples. Use `zero_division` parameter to control this behavior.\n",
      "  _warn_prf(average, modifier, msg_start, len(result))\n"
     ]
    }
   ],
   "source": [
    "positive['polaridadeClassificationIngles'] = positive['polaridadeClassificationIngles'].astype(float)\n",
    "precisionPositiveIngles = precision_score(positive['polaridade'], positive['polaridadeClassificationIngles'], average='macro')\n",
    "recallPositiveIngles = recall_score(positive['polaridade'], positive['polaridadeClassificationIngles'], average='macro')\n",
    "f1PositiveIngles = f1_score(positive['polaridade'], positive['polaridadeClassificationIngles'], average='macro')"
   ]
  },
  {
   "cell_type": "code",
   "execution_count": 97,
   "metadata": {},
   "outputs": [
    {
     "data": {
      "text/plain": [
       "0.26016260162601623"
      ]
     },
     "execution_count": 97,
     "metadata": {},
     "output_type": "execute_result"
    }
   ],
   "source": [
    "f1PositiveIngles"
   ]
  },
  {
   "cell_type": "code",
   "execution_count": 22,
   "metadata": {},
   "outputs": [],
   "source": [
    "negative['polaridadeClassificationPortugues'] = negative['tweets_original'].apply(classification_frasesC)\n",
    "negative['polaridadeClassificationIngles'] = negative['tweets_translater_face'].apply(classification_frasesC)"
   ]
  },
  {
   "cell_type": "code",
   "execution_count": 23,
   "metadata": {},
   "outputs": [],
   "source": [
    "negative['polaridadeClassificationPortugues'] = negative['polaridadeClassificationPortugues'].replace(2, 1).replace(0, -1).replace(1, 0)\n",
    "negative['polaridadeClassificationIngles'] = negative['polaridadeClassificationIngles'].replace(2, 1).replace(0, -1).replace(1, 0)"
   ]
  },
  {
   "cell_type": "code",
   "execution_count": 24,
   "metadata": {},
   "outputs": [
    {
     "data": {
      "text/html": [
       "<div>\n",
       "<style scoped>\n",
       "    .dataframe tbody tr th:only-of-type {\n",
       "        vertical-align: middle;\n",
       "    }\n",
       "\n",
       "    .dataframe tbody tr th {\n",
       "        vertical-align: top;\n",
       "    }\n",
       "\n",
       "    .dataframe thead th {\n",
       "        text-align: right;\n",
       "    }\n",
       "</style>\n",
       "<table border=\"1\" class=\"dataframe\">\n",
       "  <thead>\n",
       "    <tr style=\"text-align: right;\">\n",
       "      <th></th>\n",
       "      <th>tweets_original</th>\n",
       "      <th>tweets_translater_face</th>\n",
       "      <th>polaridade</th>\n",
       "      <th>polaridadeClassificationPortugues</th>\n",
       "      <th>polaridadeClassificationIngles</th>\n",
       "    </tr>\n",
       "  </thead>\n",
       "  <tbody>\n",
       "    <tr>\n",
       "      <th>4</th>\n",
       "      <td>Tô passada com esse cara.... quanta merda pode...</td>\n",
       "      <td>How much shit can come out of someone’s mouth ...</td>\n",
       "      <td>-1.0</td>\n",
       "      <td>-1</td>\n",
       "      <td>-1</td>\n",
       "    </tr>\n",
       "    <tr>\n",
       "      <th>8</th>\n",
       "      <td>Esse japa não entendi porra nenhuma de orquíde...</td>\n",
       "      <td>This japa I didn't understand any of orchids. ...</td>\n",
       "      <td>-1.0</td>\n",
       "      <td>-1</td>\n",
       "      <td>-1</td>\n",
       "    </tr>\n",
       "    <tr>\n",
       "      <th>19</th>\n",
       "      <td>Aí vc fica até 01h00 assistindo #MasterChefBR ...</td>\n",
       "      <td>Here you stay until 1h00 watching #MasterChefB...</td>\n",
       "      <td>-1.0</td>\n",
       "      <td>-1</td>\n",
       "      <td>-1</td>\n",
       "    </tr>\n",
       "    <tr>\n",
       "      <th>21</th>\n",
       "      <td>Imagina que insuportável ter de dar de comer p...</td>\n",
       "      <td>Imagine how unbearable it is to have to give f...</td>\n",
       "      <td>-1.0</td>\n",
       "      <td>-1</td>\n",
       "      <td>-1</td>\n",
       "    </tr>\n",
       "    <tr>\n",
       "      <th>25</th>\n",
       "      <td>o prato do Vitor B ficou ruim MEU DEUS TO PASS...</td>\n",
       "      <td>The Vitor B's dish was bad my God to pass bad ...</td>\n",
       "      <td>-1.0</td>\n",
       "      <td>-1</td>\n",
       "      <td>-1</td>\n",
       "    </tr>\n",
       "    <tr>\n",
       "      <th>...</th>\n",
       "      <td>...</td>\n",
       "      <td>...</td>\n",
       "      <td>...</td>\n",
       "      <td>...</td>\n",
       "      <td>...</td>\n",
       "    </tr>\n",
       "    <tr>\n",
       "      <th>298</th>\n",
       "      <td>ahhhh... uma semana pra ter #MasterChefBR de n...</td>\n",
       "      <td>Ahhhh... a week to have #MasterChefBR again... :(</td>\n",
       "      <td>-1.0</td>\n",
       "      <td>-1</td>\n",
       "      <td>-1</td>\n",
       "    </tr>\n",
       "    <tr>\n",
       "      <th>304</th>\n",
       "      <td>A Paola kkkkkkkkkk\\r\\n#MasterChefBR</td>\n",
       "      <td>The Paola kkkkkkkk #MasterChefBR</td>\n",
       "      <td>-1.0</td>\n",
       "      <td>0</td>\n",
       "      <td>0</td>\n",
       "    </tr>\n",
       "    <tr>\n",
       "      <th>305</th>\n",
       "      <td>Não tá dando pra assistir MasterChef com esse ...</td>\n",
       "      <td>You don’t want to see MasterChef with that tim...</td>\n",
       "      <td>-1.0</td>\n",
       "      <td>-1</td>\n",
       "      <td>-1</td>\n",
       "    </tr>\n",
       "    <tr>\n",
       "      <th>309</th>\n",
       "      <td>O crush da vida saiu, estou bem triste #Master...</td>\n",
       "      <td>The crush of life has gone out, I'm very sad #...</td>\n",
       "      <td>-1.0</td>\n",
       "      <td>-1</td>\n",
       "      <td>-1</td>\n",
       "    </tr>\n",
       "    <tr>\n",
       "      <th>314</th>\n",
       "      <td>Maiara é a Maritaca, Maraisa é bem caladinha k...</td>\n",
       "      <td>Mayara is the Maritaca, Maraisa is well caladi...</td>\n",
       "      <td>-1.0</td>\n",
       "      <td>0</td>\n",
       "      <td>0</td>\n",
       "    </tr>\n",
       "  </tbody>\n",
       "</table>\n",
       "<p>100 rows × 5 columns</p>\n",
       "</div>"
      ],
      "text/plain": [
       "                                       tweets_original  \\\n",
       "4    Tô passada com esse cara.... quanta merda pode...   \n",
       "8    Esse japa não entendi porra nenhuma de orquíde...   \n",
       "19   Aí vc fica até 01h00 assistindo #MasterChefBR ...   \n",
       "21   Imagina que insuportável ter de dar de comer p...   \n",
       "25   o prato do Vitor B ficou ruim MEU DEUS TO PASS...   \n",
       "..                                                 ...   \n",
       "298  ahhhh... uma semana pra ter #MasterChefBR de n...   \n",
       "304                A Paola kkkkkkkkkk\\r\\n#MasterChefBR   \n",
       "305  Não tá dando pra assistir MasterChef com esse ...   \n",
       "309  O crush da vida saiu, estou bem triste #Master...   \n",
       "314  Maiara é a Maritaca, Maraisa é bem caladinha k...   \n",
       "\n",
       "                                tweets_translater_face  polaridade  \\\n",
       "4    How much shit can come out of someone’s mouth ...        -1.0   \n",
       "8    This japa I didn't understand any of orchids. ...        -1.0   \n",
       "19   Here you stay until 1h00 watching #MasterChefB...        -1.0   \n",
       "21   Imagine how unbearable it is to have to give f...        -1.0   \n",
       "25   The Vitor B's dish was bad my God to pass bad ...        -1.0   \n",
       "..                                                 ...         ...   \n",
       "298  Ahhhh... a week to have #MasterChefBR again... :(        -1.0   \n",
       "304                   The Paola kkkkkkkk #MasterChefBR        -1.0   \n",
       "305  You don’t want to see MasterChef with that tim...        -1.0   \n",
       "309  The crush of life has gone out, I'm very sad #...        -1.0   \n",
       "314  Mayara is the Maritaca, Maraisa is well caladi...        -1.0   \n",
       "\n",
       "    polaridadeClassificationPortugues polaridadeClassificationIngles  \n",
       "4                                  -1                             -1  \n",
       "8                                  -1                             -1  \n",
       "19                                 -1                             -1  \n",
       "21                                 -1                             -1  \n",
       "25                                 -1                             -1  \n",
       "..                                ...                            ...  \n",
       "298                                -1                             -1  \n",
       "304                                 0                              0  \n",
       "305                                -1                             -1  \n",
       "309                                -1                             -1  \n",
       "314                                 0                              0  \n",
       "\n",
       "[100 rows x 5 columns]"
      ]
     },
     "execution_count": 24,
     "metadata": {},
     "output_type": "execute_result"
    }
   ],
   "source": [
    "negative"
   ]
  },
  {
   "cell_type": "code",
   "execution_count": 86,
   "metadata": {},
   "outputs": [],
   "source": [
    "negative['polaridadeClassificationPortugues'] = negative['polaridadeClassificationPortugues'].astype(float)\n",
    "precisionNegativePortugues = precision_score(negative['polaridade'], negative['polaridadeClassificationPortugues'], average='micro')\n",
    "recallNegativePortugues = recall_score(negative['polaridade'], negative['polaridadeClassificationPortugues'], average='micro')\n",
    "f1NegativePortugues = f1_score(negative['polaridade'], negative['polaridadeClassificationPortugues'], average='micro')\n"
   ]
  },
  {
   "cell_type": "code",
   "execution_count": 87,
   "metadata": {},
   "outputs": [
    {
     "data": {
      "text/plain": [
       "0.76"
      ]
     },
     "execution_count": 87,
     "metadata": {},
     "output_type": "execute_result"
    }
   ],
   "source": [
    "f1NegativePortugues"
   ]
  },
  {
   "cell_type": "code",
   "execution_count": 88,
   "metadata": {},
   "outputs": [],
   "source": [
    "negative['polaridadeClassificationIngles'] = negative['polaridadeClassificationIngles'].astype(float)\n",
    "precisionNegativeIngles = precision_score(negative['polaridade'], negative['polaridadeClassificationIngles'], average='micro')\n",
    "recallNegativeIngles = recall_score(negative['polaridade'], negative['polaridadeClassificationIngles'], average='micro')\n",
    "f1NegativeIngles = f1_score(negative['polaridade'], negative['polaridadeClassificationIngles'], average='micro')"
   ]
  },
  {
   "cell_type": "code",
   "execution_count": 89,
   "metadata": {},
   "outputs": [
    {
     "data": {
      "text/plain": [
       "0.62"
      ]
     },
     "execution_count": 89,
     "metadata": {},
     "output_type": "execute_result"
    }
   ],
   "source": [
    "f1NegativeIngles"
   ]
  },
  {
   "cell_type": "code",
   "execution_count": 25,
   "metadata": {},
   "outputs": [],
   "source": [
    "neutral['polaridadeClassificationPortugues'] = neutral['tweets_original'].apply(classification_frasesC)"
   ]
  },
  {
   "cell_type": "code",
   "execution_count": 26,
   "metadata": {},
   "outputs": [],
   "source": [
    "neutral.dropna(inplace=True)"
   ]
  },
  {
   "cell_type": "code",
   "execution_count": 27,
   "metadata": {},
   "outputs": [],
   "source": [
    "neutral['polaridadeClassificationIngles'] = neutral['tweets_translater_face'].apply(classification_frasesC)"
   ]
  },
  {
   "cell_type": "code",
   "execution_count": 28,
   "metadata": {},
   "outputs": [],
   "source": [
    "neutral['polaridadeClassificationPortugues'] = neutral['polaridadeClassificationPortugues'].replace(2, 1).replace(0, -1).replace(1, 0)\n",
    "neutral['polaridadeClassificationIngles'] = neutral['polaridadeClassificationIngles'].replace(2, 1).replace(0, -1).replace(1, 0)"
   ]
  },
  {
   "cell_type": "code",
   "execution_count": 29,
   "metadata": {},
   "outputs": [
    {
     "data": {
      "text/html": [
       "<div>\n",
       "<style scoped>\n",
       "    .dataframe tbody tr th:only-of-type {\n",
       "        vertical-align: middle;\n",
       "    }\n",
       "\n",
       "    .dataframe tbody tr th {\n",
       "        vertical-align: top;\n",
       "    }\n",
       "\n",
       "    .dataframe thead th {\n",
       "        text-align: right;\n",
       "    }\n",
       "</style>\n",
       "<table border=\"1\" class=\"dataframe\">\n",
       "  <thead>\n",
       "    <tr style=\"text-align: right;\">\n",
       "      <th></th>\n",
       "      <th>tweets_original</th>\n",
       "      <th>tweets_translater_face</th>\n",
       "      <th>polaridade</th>\n",
       "      <th>polaridadeClassificationPortugues</th>\n",
       "      <th>polaridadeClassificationIngles</th>\n",
       "    </tr>\n",
       "  </thead>\n",
       "  <tbody>\n",
       "    <tr>\n",
       "      <th>3</th>\n",
       "      <td>quem viu aquela lutadora modela barbuda tatuad...</td>\n",
       "      <td>Who saw that fighter model tattooed? #MasterCh...</td>\n",
       "      <td>0.0</td>\n",
       "      <td>-1</td>\n",
       "      <td>0</td>\n",
       "    </tr>\n",
       "    <tr>\n",
       "      <th>6</th>\n",
       "      <td>Em Minas sacolé é chup chup!  #videoshowaovivo</td>\n",
       "      <td>In Minas sacolé is chup chup! #videohowaovivo</td>\n",
       "      <td>0.0</td>\n",
       "      <td>0</td>\n",
       "      <td>0</td>\n",
       "    </tr>\n",
       "    <tr>\n",
       "      <th>7</th>\n",
       "      <td>Meu prato MasterChef de sardinha enlatada seri...</td>\n",
       "      <td>My MasterChef dish of enlated sardine would be...</td>\n",
       "      <td>0.0</td>\n",
       "      <td>0</td>\n",
       "      <td>0</td>\n",
       "    </tr>\n",
       "    <tr>\n",
       "      <th>13</th>\n",
       "      <td>Fatima Bernardes sobre o sotaque hahaha coerên...</td>\n",
       "      <td>Fatima Bernardes on the accent hahaha professi...</td>\n",
       "      <td>0.0</td>\n",
       "      <td>1</td>\n",
       "      <td>1</td>\n",
       "    </tr>\n",
       "    <tr>\n",
       "      <th>23</th>\n",
       "      <td>Olá  gostaria da participação do Fiuk em algum...</td>\n",
       "      <td>Hello, I would like Fiuk to participate in som...</td>\n",
       "      <td>0.0</td>\n",
       "      <td>0</td>\n",
       "      <td>0</td>\n",
       "    </tr>\n",
       "    <tr>\n",
       "      <th>...</th>\n",
       "      <td>...</td>\n",
       "      <td>...</td>\n",
       "      <td>...</td>\n",
       "      <td>...</td>\n",
       "      <td>...</td>\n",
       "    </tr>\n",
       "    <tr>\n",
       "      <th>669</th>\n",
       "      <td>#MasterChefBR espero que na próxima semana a M...</td>\n",
       "      <td>#MasterChefBR I hope that next week Miriam wil...</td>\n",
       "      <td>0.0</td>\n",
       "      <td>-1</td>\n",
       "      <td>-1</td>\n",
       "    </tr>\n",
       "    <tr>\n",
       "      <th>670</th>\n",
       "      <td>#Encontro Cuidado ao ingerir broto de samambai...</td>\n",
       "      <td>Be careful when eating samambae outbreak becau...</td>\n",
       "      <td>0.0</td>\n",
       "      <td>-1</td>\n",
       "      <td>-1</td>\n",
       "    </tr>\n",
       "    <tr>\n",
       "      <th>671</th>\n",
       "      <td>Lembrei q hj tem #MasterChefBR  e já me deu fome🙄</td>\n",
       "      <td>I remember q hj has #MasterChefBR and it’s alr...</td>\n",
       "      <td>0.0</td>\n",
       "      <td>-1</td>\n",
       "      <td>0</td>\n",
       "    </tr>\n",
       "    <tr>\n",
       "      <th>676</th>\n",
       "      <td>Sardinha é muito boa em cima da pizza caseira ...</td>\n",
       "      <td>Sardinia is very good over the home pizza #Mas...</td>\n",
       "      <td>0.0</td>\n",
       "      <td>1</td>\n",
       "      <td>1</td>\n",
       "    </tr>\n",
       "    <tr>\n",
       "      <th>679</th>\n",
       "      <td>Eu sou uma pessoa pessimista, otimista e reali...</td>\n",
       "      <td>I am a pessimistic, optimistic and realistic p...</td>\n",
       "      <td>0.0</td>\n",
       "      <td>0</td>\n",
       "      <td>0</td>\n",
       "    </tr>\n",
       "  </tbody>\n",
       "</table>\n",
       "<p>99 rows × 5 columns</p>\n",
       "</div>"
      ],
      "text/plain": [
       "                                       tweets_original  \\\n",
       "3    quem viu aquela lutadora modela barbuda tatuad...   \n",
       "6       Em Minas sacolé é chup chup!  #videoshowaovivo   \n",
       "7    Meu prato MasterChef de sardinha enlatada seri...   \n",
       "13   Fatima Bernardes sobre o sotaque hahaha coerên...   \n",
       "23   Olá  gostaria da participação do Fiuk em algum...   \n",
       "..                                                 ...   \n",
       "669  #MasterChefBR espero que na próxima semana a M...   \n",
       "670  #Encontro Cuidado ao ingerir broto de samambai...   \n",
       "671  Lembrei q hj tem #MasterChefBR  e já me deu fome🙄   \n",
       "676  Sardinha é muito boa em cima da pizza caseira ...   \n",
       "679  Eu sou uma pessoa pessimista, otimista e reali...   \n",
       "\n",
       "                                tweets_translater_face  polaridade  \\\n",
       "3    Who saw that fighter model tattooed? #MasterCh...         0.0   \n",
       "6        In Minas sacolé is chup chup! #videohowaovivo         0.0   \n",
       "7    My MasterChef dish of enlated sardine would be...         0.0   \n",
       "13   Fatima Bernardes on the accent hahaha professi...         0.0   \n",
       "23   Hello, I would like Fiuk to participate in som...         0.0   \n",
       "..                                                 ...         ...   \n",
       "669  #MasterChefBR I hope that next week Miriam wil...         0.0   \n",
       "670  Be careful when eating samambae outbreak becau...         0.0   \n",
       "671  I remember q hj has #MasterChefBR and it’s alr...         0.0   \n",
       "676  Sardinia is very good over the home pizza #Mas...         0.0   \n",
       "679  I am a pessimistic, optimistic and realistic p...         0.0   \n",
       "\n",
       "    polaridadeClassificationPortugues polaridadeClassificationIngles  \n",
       "3                                  -1                              0  \n",
       "6                                   0                              0  \n",
       "7                                   0                              0  \n",
       "13                                  1                              1  \n",
       "23                                  0                              0  \n",
       "..                                ...                            ...  \n",
       "669                                -1                             -1  \n",
       "670                                -1                             -1  \n",
       "671                                -1                              0  \n",
       "676                                 1                              1  \n",
       "679                                 0                              0  \n",
       "\n",
       "[99 rows x 5 columns]"
      ]
     },
     "execution_count": 29,
     "metadata": {},
     "output_type": "execute_result"
    }
   ],
   "source": [
    "neutral"
   ]
  },
  {
   "cell_type": "code",
   "execution_count": 90,
   "metadata": {},
   "outputs": [],
   "source": [
    "neutral['polaridadeClassificationPortugues'] = neutral['polaridadeClassificationPortugues'].astype(float)\n",
    "precisionNeutralPortugues = precision_score(neutral['polaridade'], neutral['polaridadeClassificationPortugues'], average='micro')\n",
    "recallNeutralPortugues = recall_score(neutral['polaridade'], neutral['polaridadeClassificationPortugues'], average='micro')\n",
    "f1NeutralPortugues = f1_score(neutral['polaridade'], neutral['polaridadeClassificationPortugues'], average='micro')"
   ]
  },
  {
   "cell_type": "code",
   "execution_count": 91,
   "metadata": {},
   "outputs": [
    {
     "data": {
      "text/plain": [
       "0.696969696969697"
      ]
     },
     "execution_count": 91,
     "metadata": {},
     "output_type": "execute_result"
    }
   ],
   "source": [
    "f1NeutralPortugues"
   ]
  },
  {
   "cell_type": "code",
   "execution_count": 92,
   "metadata": {},
   "outputs": [],
   "source": [
    "neutral['polaridadeClassificationIngles'] = neutral['polaridadeClassificationIngles'].astype(float)\n",
    "precisionNeutralIngles = precision_score(neutral['polaridade'], neutral['polaridadeClassificationIngles'], average='micro')\n",
    "recallNeutralIngles = recall_score(neutral['polaridade'], neutral['polaridadeClassificationIngles'], average='micro')\n",
    "f1NeutralIngles = f1_score(neutral['polaridade'], neutral['polaridadeClassificationIngles'], average='micro')\n"
   ]
  },
  {
   "cell_type": "code",
   "execution_count": 93,
   "metadata": {},
   "outputs": [
    {
     "data": {
      "text/plain": [
       "0.62"
      ]
     },
     "execution_count": 93,
     "metadata": {},
     "output_type": "execute_result"
    }
   ],
   "source": [
    "f1NegativeIngles"
   ]
  },
  {
   "cell_type": "code",
   "execution_count": 111,
   "metadata": {},
   "outputs": [],
   "source": [
    "b2w = pd.read_csv(\"./b2w.csv\")"
   ]
  },
  {
   "cell_type": "code",
   "execution_count": 115,
   "metadata": {},
   "outputs": [],
   "source": [
    "b2w.drop(columns = ['original_index', 'review_text_processed', 'review_text_tokenized', 'rating', 'kfold_polarity', 'kfold_rating'], inplace=True)"
   ]
  },
  {
   "cell_type": "code",
   "execution_count": 117,
   "metadata": {},
   "outputs": [],
   "source": [
    "b2w.dropna(inplace=True)"
   ]
  },
  {
   "cell_type": "code",
   "execution_count": 119,
   "metadata": {},
   "outputs": [],
   "source": [
    "b2wPositive = b2w[b2w['polarity'] == 1].head(100)"
   ]
  },
  {
   "cell_type": "code",
   "execution_count": 120,
   "metadata": {},
   "outputs": [
    {
     "data": {
      "text/html": [
       "<div>\n",
       "<style scoped>\n",
       "    .dataframe tbody tr th:only-of-type {\n",
       "        vertical-align: middle;\n",
       "    }\n",
       "\n",
       "    .dataframe tbody tr th {\n",
       "        vertical-align: top;\n",
       "    }\n",
       "\n",
       "    .dataframe thead th {\n",
       "        text-align: right;\n",
       "    }\n",
       "</style>\n",
       "<table border=\"1\" class=\"dataframe\">\n",
       "  <thead>\n",
       "    <tr style=\"text-align: right;\">\n",
       "      <th></th>\n",
       "      <th>review_text</th>\n",
       "      <th>polarity</th>\n",
       "    </tr>\n",
       "  </thead>\n",
       "  <tbody>\n",
       "    <tr>\n",
       "      <th>0</th>\n",
       "      <td>Bem macio e felpudo...recomendo.  Preço imbatí...</td>\n",
       "      <td>1.0</td>\n",
       "    </tr>\n",
       "    <tr>\n",
       "      <th>1</th>\n",
       "      <td>Produto excepcional!  recomendo!!! inovador e ...</td>\n",
       "      <td>1.0</td>\n",
       "    </tr>\n",
       "    <tr>\n",
       "      <th>3</th>\n",
       "      <td>Bom custo beneficio. Adequado para pessoas que...</td>\n",
       "      <td>1.0</td>\n",
       "    </tr>\n",
       "    <tr>\n",
       "      <th>5</th>\n",
       "      <td>ótmo produto atendeu as expectativas, a entreg...</td>\n",
       "      <td>1.0</td>\n",
       "    </tr>\n",
       "    <tr>\n",
       "      <th>6</th>\n",
       "      <td>GOSTEI MUITO DO PRODUTO! TEM ÓTIMA QUALIDADE, ...</td>\n",
       "      <td>1.0</td>\n",
       "    </tr>\n",
       "    <tr>\n",
       "      <th>...</th>\n",
       "      <td>...</td>\n",
       "      <td>...</td>\n",
       "    </tr>\n",
       "    <tr>\n",
       "      <th>152</th>\n",
       "      <td>O produto é bem acabada mais a imagem n é oque...</td>\n",
       "      <td>1.0</td>\n",
       "    </tr>\n",
       "    <tr>\n",
       "      <th>153</th>\n",
       "      <td>Produto de boa qualidade e que atendeu as .min...</td>\n",
       "      <td>1.0</td>\n",
       "    </tr>\n",
       "    <tr>\n",
       "      <th>156</th>\n",
       "      <td>Roteador ótimo com diversos recursos. Chegou n...</td>\n",
       "      <td>1.0</td>\n",
       "    </tr>\n",
       "    <tr>\n",
       "      <th>157</th>\n",
       "      <td>Satisfeita com a compra,  exatamente como desc...</td>\n",
       "      <td>1.0</td>\n",
       "    </tr>\n",
       "    <tr>\n",
       "      <th>161</th>\n",
       "      <td>Minha casa, minhas roupas viviam com pelo de g...</td>\n",
       "      <td>1.0</td>\n",
       "    </tr>\n",
       "  </tbody>\n",
       "</table>\n",
       "<p>100 rows × 2 columns</p>\n",
       "</div>"
      ],
      "text/plain": [
       "                                           review_text  polarity\n",
       "0    Bem macio e felpudo...recomendo.  Preço imbatí...       1.0\n",
       "1    Produto excepcional!  recomendo!!! inovador e ...       1.0\n",
       "3    Bom custo beneficio. Adequado para pessoas que...       1.0\n",
       "5    ótmo produto atendeu as expectativas, a entreg...       1.0\n",
       "6    GOSTEI MUITO DO PRODUTO! TEM ÓTIMA QUALIDADE, ...       1.0\n",
       "..                                                 ...       ...\n",
       "152  O produto é bem acabada mais a imagem n é oque...       1.0\n",
       "153  Produto de boa qualidade e que atendeu as .min...       1.0\n",
       "156  Roteador ótimo com diversos recursos. Chegou n...       1.0\n",
       "157  Satisfeita com a compra,  exatamente como desc...       1.0\n",
       "161  Minha casa, minhas roupas viviam com pelo de g...       1.0\n",
       "\n",
       "[100 rows x 2 columns]"
      ]
     },
     "execution_count": 120,
     "metadata": {},
     "output_type": "execute_result"
    }
   ],
   "source": [
    "b2wPositive"
   ]
  },
  {
   "cell_type": "code",
   "execution_count": 123,
   "metadata": {},
   "outputs": [],
   "source": [
    "b2wPositive['review_translater_face'] = b2wPositive['review_text'].apply(translater_frases)"
   ]
  },
  {
   "cell_type": "code",
   "execution_count": 129,
   "metadata": {},
   "outputs": [],
   "source": [
    "b2wPositive['polaridadeClassificationPortugues'] = b2wPositive['review_text'].apply(classification_frasesC)"
   ]
  },
  {
   "cell_type": "code",
   "execution_count": 131,
   "metadata": {},
   "outputs": [],
   "source": [
    "b2wPositive['polaridadeClassificationIngles'] = b2wPositive['review_translater_face'].apply(classification_frasesC)"
   ]
  },
  {
   "cell_type": "code",
   "execution_count": 132,
   "metadata": {},
   "outputs": [
    {
     "data": {
      "text/html": [
       "<div>\n",
       "<style scoped>\n",
       "    .dataframe tbody tr th:only-of-type {\n",
       "        vertical-align: middle;\n",
       "    }\n",
       "\n",
       "    .dataframe tbody tr th {\n",
       "        vertical-align: top;\n",
       "    }\n",
       "\n",
       "    .dataframe thead th {\n",
       "        text-align: right;\n",
       "    }\n",
       "</style>\n",
       "<table border=\"1\" class=\"dataframe\">\n",
       "  <thead>\n",
       "    <tr style=\"text-align: right;\">\n",
       "      <th></th>\n",
       "      <th>review_text</th>\n",
       "      <th>review_translater_face</th>\n",
       "      <th>polaridade</th>\n",
       "      <th>polaridadeClassificationPortugues</th>\n",
       "      <th>polaridadeClassificationIngles</th>\n",
       "    </tr>\n",
       "  </thead>\n",
       "  <tbody>\n",
       "    <tr>\n",
       "      <th>0</th>\n",
       "      <td>Bem macio e felpudo...recomendo.  Preço imbatí...</td>\n",
       "      <td>Good soft and smooth I recommend. unbeatable p...</td>\n",
       "      <td>1.0</td>\n",
       "      <td>1</td>\n",
       "      <td>1</td>\n",
       "    </tr>\n",
       "    <tr>\n",
       "      <th>1</th>\n",
       "      <td>Produto excepcional!  recomendo!!! inovador e ...</td>\n",
       "      <td>Excellent product! recommend!!! innovative and...</td>\n",
       "      <td>1.0</td>\n",
       "      <td>1</td>\n",
       "      <td>1</td>\n",
       "    </tr>\n",
       "    <tr>\n",
       "      <th>3</th>\n",
       "      <td>Bom custo beneficio. Adequado para pessoas que...</td>\n",
       "      <td>Good cost benefit. Suitable for people who do ...</td>\n",
       "      <td>1.0</td>\n",
       "      <td>1</td>\n",
       "      <td>1</td>\n",
       "    </tr>\n",
       "    <tr>\n",
       "      <th>5</th>\n",
       "      <td>ótmo produto atendeu as expectativas, a entreg...</td>\n",
       "      <td>The product fulfilled expectations, the delive...</td>\n",
       "      <td>1.0</td>\n",
       "      <td>1</td>\n",
       "      <td>1</td>\n",
       "    </tr>\n",
       "    <tr>\n",
       "      <th>6</th>\n",
       "      <td>GOSTEI MUITO DO PRODUTO! TEM ÓTIMA QUALIDADE, ...</td>\n",
       "      <td>It has excellent quality, and makes it very ea...</td>\n",
       "      <td>1.0</td>\n",
       "      <td>1</td>\n",
       "      <td>1</td>\n",
       "    </tr>\n",
       "    <tr>\n",
       "      <th>...</th>\n",
       "      <td>...</td>\n",
       "      <td>...</td>\n",
       "      <td>...</td>\n",
       "      <td>...</td>\n",
       "      <td>...</td>\n",
       "    </tr>\n",
       "    <tr>\n",
       "      <th>152</th>\n",
       "      <td>O produto é bem acabada mais a imagem n é oque...</td>\n",
       "      <td>The product is well finished more the image n ...</td>\n",
       "      <td>1.0</td>\n",
       "      <td>0</td>\n",
       "      <td>1</td>\n",
       "    </tr>\n",
       "    <tr>\n",
       "      <th>153</th>\n",
       "      <td>Produto de boa qualidade e que atendeu as .min...</td>\n",
       "      <td>Good quality product that meets my expectations.</td>\n",
       "      <td>1.0</td>\n",
       "      <td>1</td>\n",
       "      <td>1</td>\n",
       "    </tr>\n",
       "    <tr>\n",
       "      <th>156</th>\n",
       "      <td>Roteador ótimo com diversos recursos. Chegou n...</td>\n",
       "      <td>It arrived in the box in perfect condition and...</td>\n",
       "      <td>1.0</td>\n",
       "      <td>1</td>\n",
       "      <td>1</td>\n",
       "    </tr>\n",
       "    <tr>\n",
       "      <th>157</th>\n",
       "      <td>Satisfeita com a compra,  exatamente como desc...</td>\n",
       "      <td>Satisfied with the purchase, exactly as descri...</td>\n",
       "      <td>1.0</td>\n",
       "      <td>1</td>\n",
       "      <td>1</td>\n",
       "    </tr>\n",
       "    <tr>\n",
       "      <th>161</th>\n",
       "      <td>Minha casa, minhas roupas viviam com pelo de g...</td>\n",
       "      <td>My house, my clothes lived with cat hair every...</td>\n",
       "      <td>1.0</td>\n",
       "      <td>-1</td>\n",
       "      <td>-1</td>\n",
       "    </tr>\n",
       "  </tbody>\n",
       "</table>\n",
       "<p>100 rows × 5 columns</p>\n",
       "</div>"
      ],
      "text/plain": [
       "                                           review_text  \\\n",
       "0    Bem macio e felpudo...recomendo.  Preço imbatí...   \n",
       "1    Produto excepcional!  recomendo!!! inovador e ...   \n",
       "3    Bom custo beneficio. Adequado para pessoas que...   \n",
       "5    ótmo produto atendeu as expectativas, a entreg...   \n",
       "6    GOSTEI MUITO DO PRODUTO! TEM ÓTIMA QUALIDADE, ...   \n",
       "..                                                 ...   \n",
       "152  O produto é bem acabada mais a imagem n é oque...   \n",
       "153  Produto de boa qualidade e que atendeu as .min...   \n",
       "156  Roteador ótimo com diversos recursos. Chegou n...   \n",
       "157  Satisfeita com a compra,  exatamente como desc...   \n",
       "161  Minha casa, minhas roupas viviam com pelo de g...   \n",
       "\n",
       "                                review_translater_face  polaridade  \\\n",
       "0    Good soft and smooth I recommend. unbeatable p...         1.0   \n",
       "1    Excellent product! recommend!!! innovative and...         1.0   \n",
       "3    Good cost benefit. Suitable for people who do ...         1.0   \n",
       "5    The product fulfilled expectations, the delive...         1.0   \n",
       "6    It has excellent quality, and makes it very ea...         1.0   \n",
       "..                                                 ...         ...   \n",
       "152  The product is well finished more the image n ...         1.0   \n",
       "153   Good quality product that meets my expectations.         1.0   \n",
       "156  It arrived in the box in perfect condition and...         1.0   \n",
       "157  Satisfied with the purchase, exactly as descri...         1.0   \n",
       "161  My house, my clothes lived with cat hair every...         1.0   \n",
       "\n",
       "    polaridadeClassificationPortugues polaridadeClassificationIngles  \n",
       "0                                   1                              1  \n",
       "1                                   1                              1  \n",
       "3                                   1                              1  \n",
       "5                                   1                              1  \n",
       "6                                   1                              1  \n",
       "..                                ...                            ...  \n",
       "152                                 0                              1  \n",
       "153                                 1                              1  \n",
       "156                                 1                              1  \n",
       "157                                 1                              1  \n",
       "161                                -1                             -1  \n",
       "\n",
       "[100 rows x 5 columns]"
      ]
     },
     "execution_count": 132,
     "metadata": {},
     "output_type": "execute_result"
    }
   ],
   "source": []
  },
  {
   "cell_type": "code",
   "execution_count": 134,
   "metadata": {},
   "outputs": [],
   "source": [
    "b2wPositive['polaridadeClassificationPortugues'] = b2wPositive['polaridadeClassificationPortugues'].astype(float)\n",
    "precisionB2wPositivePortugues = precision_score(b2wPositive['polaridade'], b2wPositive['polaridadeClassificationPortugues'], average='micro')\n",
    "recallB2wPositivePortugues = recall_score(b2wPositive['polaridade'], b2wPositive['polaridadeClassificationPortugues'], average='micro')\n",
    "f1B2wPositivePortugues = f1_score(b2wPositive['polaridade'], b2wPositive['polaridadeClassificationPortugues'], average='micro')\n"
   ]
  },
  {
   "cell_type": "code",
   "execution_count": 135,
   "metadata": {},
   "outputs": [
    {
     "data": {
      "text/plain": [
       "0.85"
      ]
     },
     "execution_count": 135,
     "metadata": {},
     "output_type": "execute_result"
    }
   ],
   "source": [
    "f1B2wPositivePortugues"
   ]
  },
  {
   "cell_type": "code",
   "execution_count": 153,
   "metadata": {},
   "outputs": [],
   "source": [
    "b2wPositive['polaridadeClassificationIngles'] = b2wPositive['polaridadeClassificationIngles'].astype(float)\n",
    "precisionB2wPositiveIngles = precision_score(b2wPositive['polaridade'], b2wPositive['polaridadeClassificationIngles'], average='micro')\n",
    "recallB2wPositiveIngles = recall_score(b2wPositive['polaridade'], b2wPositive['polaridadeClassificationIngles'], average='micro')\n",
    "f1B2wPositiveIngles = f1_score(b2wPositive['polaridade'], b2wPositive['polaridadeClassificationIngles'], average='micro')"
   ]
  },
  {
   "cell_type": "code",
   "execution_count": 154,
   "metadata": {},
   "outputs": [
    {
     "data": {
      "text/plain": [
       "0.87"
      ]
     },
     "execution_count": 154,
     "metadata": {},
     "output_type": "execute_result"
    }
   ],
   "source": [
    "f1B2wPositiveIngles"
   ]
  },
  {
   "cell_type": "code",
   "execution_count": 121,
   "metadata": {},
   "outputs": [],
   "source": [
    "b2wNegative = b2w[b2w['polarity'] == 0].head(100)"
   ]
  },
  {
   "cell_type": "code",
   "execution_count": 136,
   "metadata": {},
   "outputs": [],
   "source": [
    "b2wNegative['review_translater_face'] = b2wNegative['review_text'].apply(translater_frases)"
   ]
  },
  {
   "cell_type": "code",
   "execution_count": 140,
   "metadata": {},
   "outputs": [],
   "source": [
    "b2wNegative['polaridadeClassificationPortugues'] = b2wNegative['review_text'].apply(classification_frasesC)"
   ]
  },
  {
   "cell_type": "code",
   "execution_count": 144,
   "metadata": {},
   "outputs": [],
   "source": [
    "b2wNegative['polaridadeClassificationIngles'] = b2wNegative['review_translater_face'].apply(classification_frasesC)"
   ]
  },
  {
   "cell_type": "code",
   "execution_count": 150,
   "metadata": {},
   "outputs": [],
   "source": [
    "b2wNegative.drop(columns='polarity', inplace=True)"
   ]
  },
  {
   "cell_type": "code",
   "execution_count": 151,
   "metadata": {},
   "outputs": [
    {
     "data": {
      "text/html": [
       "<div>\n",
       "<style scoped>\n",
       "    .dataframe tbody tr th:only-of-type {\n",
       "        vertical-align: middle;\n",
       "    }\n",
       "\n",
       "    .dataframe tbody tr th {\n",
       "        vertical-align: top;\n",
       "    }\n",
       "\n",
       "    .dataframe thead th {\n",
       "        text-align: right;\n",
       "    }\n",
       "</style>\n",
       "<table border=\"1\" class=\"dataframe\">\n",
       "  <thead>\n",
       "    <tr style=\"text-align: right;\">\n",
       "      <th></th>\n",
       "      <th>review_text</th>\n",
       "      <th>review_translater_face</th>\n",
       "      <th>polaridade</th>\n",
       "      <th>polaridadeClassificationPortugues</th>\n",
       "      <th>polaridadeClassificationIngles</th>\n",
       "    </tr>\n",
       "  </thead>\n",
       "  <tbody>\n",
       "    <tr>\n",
       "      <th>2</th>\n",
       "      <td>recebi o produto antes do prazo mas veio com d...</td>\n",
       "      <td>I got the product before the deadline but came...</td>\n",
       "      <td>-1.0</td>\n",
       "      <td>-1</td>\n",
       "      <td>-1</td>\n",
       "    </tr>\n",
       "    <tr>\n",
       "      <th>10</th>\n",
       "      <td>Não compra este produto, pois o mesmo veio com...</td>\n",
       "      <td>Don't buy this product because the same came w...</td>\n",
       "      <td>-1.0</td>\n",
       "      <td>-1</td>\n",
       "      <td>-1</td>\n",
       "    </tr>\n",
       "    <tr>\n",
       "      <th>12</th>\n",
       "      <td>Tive azar, pois o produto não ligou. Tive que ...</td>\n",
       "      <td>I was unfortunate because the product didn't c...</td>\n",
       "      <td>-1.0</td>\n",
       "      <td>-1</td>\n",
       "      <td>-1</td>\n",
       "    </tr>\n",
       "    <tr>\n",
       "      <th>13</th>\n",
       "      <td>Uma enganação! Esperei quase um mês e cancelar...</td>\n",
       "      <td>I waited almost a month and they canceled the ...</td>\n",
       "      <td>-1.0</td>\n",
       "      <td>-1</td>\n",
       "      <td>-1</td>\n",
       "    </tr>\n",
       "    <tr>\n",
       "      <th>25</th>\n",
       "      <td>Cancelei 10 minutos depois que efetuei a compr...</td>\n",
       "      <td>I cancelled 10 minutes after I made the purcha...</td>\n",
       "      <td>-1.0</td>\n",
       "      <td>-1</td>\n",
       "      <td>0</td>\n",
       "    </tr>\n",
       "    <tr>\n",
       "      <th>...</th>\n",
       "      <td>...</td>\n",
       "      <td>...</td>\n",
       "      <td>...</td>\n",
       "      <td>...</td>\n",
       "      <td>...</td>\n",
       "    </tr>\n",
       "    <tr>\n",
       "      <th>339</th>\n",
       "      <td>A entrega foi rápida  o produto veio lacrado e...</td>\n",
       "      <td>Delivery was fast the product came tears and i...</td>\n",
       "      <td>-1.0</td>\n",
       "      <td>0</td>\n",
       "      <td>1</td>\n",
       "    </tr>\n",
       "    <tr>\n",
       "      <th>340</th>\n",
       "      <td>Comprei o carrinha em 8 dias foi entregue... n...</td>\n",
       "      <td>I bought the car in 8 days was delivered... in...</td>\n",
       "      <td>-1.0</td>\n",
       "      <td>0</td>\n",
       "      <td>0</td>\n",
       "    </tr>\n",
       "    <tr>\n",
       "      <th>344</th>\n",
       "      <td>ENGANAÇÃO ! NÃO FUNCIONA NO BRASIL ! Esperei q...</td>\n",
       "      <td>I waited almost a month and I received a phone...</td>\n",
       "      <td>-1.0</td>\n",
       "      <td>-1</td>\n",
       "      <td>-1</td>\n",
       "    </tr>\n",
       "    <tr>\n",
       "      <th>346</th>\n",
       "      <td>A capa tem uma apresentação legal, mas eu comp...</td>\n",
       "      <td>The cover has a legal presentation, but I boug...</td>\n",
       "      <td>-1.0</td>\n",
       "      <td>-1</td>\n",
       "      <td>0</td>\n",
       "    </tr>\n",
       "    <tr>\n",
       "      <th>353</th>\n",
       "      <td>Eu já expliquei o motivo de ter cancelado o pe...</td>\n",
       "      <td>I’ve already explained why I canceled the orde...</td>\n",
       "      <td>-1.0</td>\n",
       "      <td>-1</td>\n",
       "      <td>-1</td>\n",
       "    </tr>\n",
       "  </tbody>\n",
       "</table>\n",
       "<p>100 rows × 5 columns</p>\n",
       "</div>"
      ],
      "text/plain": [
       "                                           review_text  \\\n",
       "2    recebi o produto antes do prazo mas veio com d...   \n",
       "10   Não compra este produto, pois o mesmo veio com...   \n",
       "12   Tive azar, pois o produto não ligou. Tive que ...   \n",
       "13   Uma enganação! Esperei quase um mês e cancelar...   \n",
       "25   Cancelei 10 minutos depois que efetuei a compr...   \n",
       "..                                                 ...   \n",
       "339  A entrega foi rápida  o produto veio lacrado e...   \n",
       "340  Comprei o carrinha em 8 dias foi entregue... n...   \n",
       "344  ENGANAÇÃO ! NÃO FUNCIONA NO BRASIL ! Esperei q...   \n",
       "346  A capa tem uma apresentação legal, mas eu comp...   \n",
       "353  Eu já expliquei o motivo de ter cancelado o pe...   \n",
       "\n",
       "                                review_translater_face  polaridade  \\\n",
       "2    I got the product before the deadline but came...        -1.0   \n",
       "10   Don't buy this product because the same came w...        -1.0   \n",
       "12   I was unfortunate because the product didn't c...        -1.0   \n",
       "13   I waited almost a month and they canceled the ...        -1.0   \n",
       "25   I cancelled 10 minutes after I made the purcha...        -1.0   \n",
       "..                                                 ...         ...   \n",
       "339  Delivery was fast the product came tears and i...        -1.0   \n",
       "340  I bought the car in 8 days was delivered... in...        -1.0   \n",
       "344  I waited almost a month and I received a phone...        -1.0   \n",
       "346  The cover has a legal presentation, but I boug...        -1.0   \n",
       "353  I’ve already explained why I canceled the orde...        -1.0   \n",
       "\n",
       "    polaridadeClassificationPortugues polaridadeClassificationIngles  \n",
       "2                                  -1                             -1  \n",
       "10                                 -1                             -1  \n",
       "12                                 -1                             -1  \n",
       "13                                 -1                             -1  \n",
       "25                                 -1                              0  \n",
       "..                                ...                            ...  \n",
       "339                                 0                              1  \n",
       "340                                 0                              0  \n",
       "344                                -1                             -1  \n",
       "346                                -1                              0  \n",
       "353                                -1                             -1  \n",
       "\n",
       "[100 rows x 5 columns]"
      ]
     },
     "execution_count": 151,
     "metadata": {},
     "output_type": "execute_result"
    }
   ],
   "source": [
    "b2wNegative"
   ]
  },
  {
   "cell_type": "code",
   "execution_count": 156,
   "metadata": {},
   "outputs": [],
   "source": [
    "b2wNegative['polaridadeClassificationPortugues'] = b2wNegative['polaridadeClassificationPortugues'].astype(float)\n",
    "precisionB2wNegativePortugues = precision_score(b2wNegative['polaridade'], b2wNegative['polaridadeClassificationPortugues'], average='micro')\n",
    "recallB2wNegativePortugues = recall_score(b2wNegative['polaridade'], b2wNegative['polaridadeClassificationPortugues'], average='micro')\n",
    "f1B2wNegativePortugues = f1_score(b2wNegative['polaridade'], b2wNegative['polaridadeClassificationPortugues'], average='micro')\n"
   ]
  },
  {
   "cell_type": "code",
   "execution_count": 157,
   "metadata": {},
   "outputs": [
    {
     "data": {
      "text/plain": [
       "0.81"
      ]
     },
     "execution_count": 157,
     "metadata": {},
     "output_type": "execute_result"
    }
   ],
   "source": [
    "f1B2wNegativePortugues"
   ]
  },
  {
   "cell_type": "code",
   "execution_count": 158,
   "metadata": {},
   "outputs": [],
   "source": [
    "b2wNegative['polaridadeClassificationIngles'] = b2wNegative['polaridadeClassificationIngles'].astype(float)\n",
    "precisionB2wNegativeIngles = precision_score(b2wNegative['polaridade'], b2wNegative['polaridadeClassificationIngles'], average='micro')\n",
    "recallB2wNegativeIngles = recall_score(b2wNegative['polaridade'], b2wNegative['polaridadeClassificationIngles'], average='micro')\n",
    "f1B2wNegativeIngles = f1_score(b2wNegative['polaridade'], b2wNegative['polaridadeClassificationIngles'], average='micro')\n"
   ]
  },
  {
   "cell_type": "code",
   "execution_count": 159,
   "metadata": {},
   "outputs": [
    {
     "data": {
      "text/plain": [
       "0.74"
      ]
     },
     "execution_count": 159,
     "metadata": {},
     "output_type": "execute_result"
    }
   ],
   "source": [
    "f1B2wNegativeIngles"
   ]
  }
 ],
 "metadata": {
  "kernelspec": {
   "display_name": "Python 3",
   "language": "python",
   "name": "python3"
  },
  "language_info": {
   "codemirror_mode": {
    "name": "ipython",
    "version": 3
   },
   "file_extension": ".py",
   "mimetype": "text/x-python",
   "name": "python",
   "nbconvert_exporter": "python",
   "pygments_lexer": "ipython3",
   "version": "3.8.10"
  },
  "orig_nbformat": 4
 },
 "nbformat": 4,
 "nbformat_minor": 2
}
